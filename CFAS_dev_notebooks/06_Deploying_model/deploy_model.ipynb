{
 "cells": [
  {
   "cell_type": "code",
   "execution_count": 4,
   "metadata": {},
   "outputs": [
    {
     "name": "stdout",
     "output_type": "stream",
     "text": [
      "7.0.0\n",
      "You are already using Cortex 7.0.0\n",
      "Collecting cortex-client==6.0.4\n",
      "Requirement already satisfied: requests-toolbelt==0.8.0 in /Users/ltwardowski/miniconda3/lib/python3.7/site-packages (from cortex-client==6.0.4) (0.8.0)\n",
      "Requirement already satisfied: matplotlib<3,>=2.2.2 in /Users/ltwardowski/miniconda3/lib/python3.7/site-packages (from cortex-client==6.0.4) (2.2.3)\n",
      "Requirement already satisfied: pyyaml<4,>=3.13 in /Users/ltwardowski/miniconda3/lib/python3.7/site-packages (from cortex-client==6.0.4) (3.13)\n",
      "Requirement already satisfied: cuid<1,>=0.3 in /Users/ltwardowski/miniconda3/lib/python3.7/site-packages (from cortex-client==6.0.4) (0.3)\n",
      "Requirement already satisfied: ipython<7,>=6.4.0 in /Users/ltwardowski/miniconda3/lib/python3.7/site-packages (from cortex-client==6.0.4) (6.5.0)\n",
      "Requirement already satisfied: deprecation==2.0.6 in /Users/ltwardowski/miniconda3/lib/python3.7/site-packages (from cortex-client==6.0.4) (2.0.6)\n",
      "Requirement already satisfied: pyjwt<2,>=1.6.1 in /Users/ltwardowski/miniconda3/lib/python3.7/site-packages (from cortex-client==6.0.4) (1.7.1)\n",
      "Requirement already satisfied: discovery-transitioning-utils<2,>=1.3.50 in /Users/ltwardowski/.local/lib/python3.7/site-packages (from cortex-client==6.0.4) (1.4.2)\n",
      "Requirement already satisfied: seaborn<0.10,>=0.9.0 in /Users/ltwardowski/miniconda3/lib/python3.7/site-packages (from cortex-client==6.0.4) (0.9.0)\n",
      "Requirement already satisfied: Flask==1.0.2 in /Users/ltwardowski/miniconda3/lib/python3.7/site-packages (from cortex-client==6.0.4) (1.0.2)\n",
      "Requirement already satisfied: dill==0.2.8.2 in /Users/ltwardowski/miniconda3/lib/python3.7/site-packages (from cortex-client==6.0.4) (0.2.8.2)\n",
      "Requirement already satisfied: more-itertools<5,>=4.3.0 in /Users/ltwardowski/miniconda3/lib/python3.7/site-packages (from cortex-client==6.0.4) (4.3.0)\n",
      "Requirement already satisfied: diskcache<3.1,>=3.0.5 in /Users/ltwardowski/miniconda3/lib/python3.7/site-packages (from cortex-client==6.0.4) (3.0.6)\n",
      "Requirement already satisfied: maya==0.5.0 in /Users/ltwardowski/miniconda3/lib/python3.7/site-packages (from cortex-client==6.0.4) (0.5.0)\n",
      "Collecting docker==3.5.0 (from cortex-client==6.0.4)\n",
      "  Using cached https://files.pythonhosted.org/packages/06/0b/ce97eb31058eddaef316973b8299b737ebab0bcb5798fd5a3225d53b4455/docker-3.5.0-py2.py3-none-any.whl\n",
      "Requirement already satisfied: requests<3,>=2.12.4 in /Users/ltwardowski/miniconda3/lib/python3.7/site-packages (from cortex-client==6.0.4) (2.22.0)\n",
      "Requirement already satisfied: tenacity==5.0.2 in /Users/ltwardowski/miniconda3/lib/python3.7/site-packages (from cortex-client==6.0.4) (5.0.2)\n",
      "Requirement already satisfied: cycler>=0.10 in /Users/ltwardowski/miniconda3/lib/python3.7/site-packages (from matplotlib<3,>=2.2.2->cortex-client==6.0.4) (0.10.0)\n",
      "Requirement already satisfied: pytz in /Users/ltwardowski/miniconda3/lib/python3.7/site-packages (from matplotlib<3,>=2.2.2->cortex-client==6.0.4) (2018.9)\n",
      "Requirement already satisfied: python-dateutil>=2.1 in /Users/ltwardowski/miniconda3/lib/python3.7/site-packages (from matplotlib<3,>=2.2.2->cortex-client==6.0.4) (2.8.0)\n",
      "Requirement already satisfied: pyparsing!=2.0.4,!=2.1.2,!=2.1.6,>=2.0.1 in /Users/ltwardowski/miniconda3/lib/python3.7/site-packages (from matplotlib<3,>=2.2.2->cortex-client==6.0.4) (2.3.1)\n",
      "Requirement already satisfied: six>=1.10 in /Users/ltwardowski/miniconda3/lib/python3.7/site-packages (from matplotlib<3,>=2.2.2->cortex-client==6.0.4) (1.12.0)\n",
      "Requirement already satisfied: numpy>=1.7.1 in /Users/ltwardowski/miniconda3/lib/python3.7/site-packages (from matplotlib<3,>=2.2.2->cortex-client==6.0.4) (1.15.4)\n",
      "Requirement already satisfied: kiwisolver>=1.0.1 in /Users/ltwardowski/miniconda3/lib/python3.7/site-packages (from matplotlib<3,>=2.2.2->cortex-client==6.0.4) (1.0.1)\n",
      "Requirement already satisfied: simplegeneric>0.8 in /Users/ltwardowski/miniconda3/lib/python3.7/site-packages (from ipython<7,>=6.4.0->cortex-client==6.0.4) (0.8.1)\n",
      "Requirement already satisfied: setuptools>=18.5 in /Users/ltwardowski/miniconda3/lib/python3.7/site-packages (from ipython<7,>=6.4.0->cortex-client==6.0.4) (41.0.1)\n",
      "Requirement already satisfied: decorator in /Users/ltwardowski/miniconda3/lib/python3.7/site-packages (from ipython<7,>=6.4.0->cortex-client==6.0.4) (4.4.0)\n",
      "Requirement already satisfied: backcall in /Users/ltwardowski/miniconda3/lib/python3.7/site-packages (from ipython<7,>=6.4.0->cortex-client==6.0.4) (0.1.0)\n",
      "Requirement already satisfied: pickleshare in /Users/ltwardowski/miniconda3/lib/python3.7/site-packages (from ipython<7,>=6.4.0->cortex-client==6.0.4) (0.7.5)\n",
      "Requirement already satisfied: pexpect; sys_platform != \"win32\" in /Users/ltwardowski/miniconda3/lib/python3.7/site-packages (from ipython<7,>=6.4.0->cortex-client==6.0.4) (4.7.0)\n",
      "Requirement already satisfied: pygments in /Users/ltwardowski/miniconda3/lib/python3.7/site-packages (from ipython<7,>=6.4.0->cortex-client==6.0.4) (2.4.2)\n",
      "Requirement already satisfied: traitlets>=4.2 in /Users/ltwardowski/miniconda3/lib/python3.7/site-packages (from ipython<7,>=6.4.0->cortex-client==6.0.4) (4.3.2)\n",
      "Requirement already satisfied: appnope; sys_platform == \"darwin\" in /Users/ltwardowski/miniconda3/lib/python3.7/site-packages (from ipython<7,>=6.4.0->cortex-client==6.0.4) (0.1.0)\n",
      "Requirement already satisfied: prompt-toolkit<2.0.0,>=1.0.15 in /Users/ltwardowski/miniconda3/lib/python3.7/site-packages (from ipython<7,>=6.4.0->cortex-client==6.0.4) (1.0.16)\n",
      "Requirement already satisfied: jedi>=0.10 in /Users/ltwardowski/miniconda3/lib/python3.7/site-packages (from ipython<7,>=6.4.0->cortex-client==6.0.4) (0.13.3)\n",
      "Requirement already satisfied: packaging in /Users/ltwardowski/miniconda3/lib/python3.7/site-packages (from deprecation==2.0.6->cortex-client==6.0.4) (19.0)\n",
      "Requirement already satisfied: xlsxwriter in /Users/ltwardowski/miniconda3/lib/python3.7/site-packages (from discovery-transitioning-utils<2,>=1.3.50->cortex-client==6.0.4) (1.1.2)\n",
      "Requirement already satisfied: pandas in /Users/ltwardowski/miniconda3/lib/python3.7/site-packages (from discovery-transitioning-utils<2,>=1.3.50->cortex-client==6.0.4) (0.23.4)\n",
      "Requirement already satisfied: xlrd in /Users/ltwardowski/miniconda3/lib/python3.7/site-packages (from discovery-transitioning-utils<2,>=1.3.50->cortex-client==6.0.4) (1.2.0)\n",
      "Requirement already satisfied: scipy>=0.14.0 in /Users/ltwardowski/miniconda3/lib/python3.7/site-packages (from seaborn<0.10,>=0.9.0->cortex-client==6.0.4) (1.2.0)\n",
      "Requirement already satisfied: Werkzeug>=0.14 in /Users/ltwardowski/miniconda3/lib/python3.7/site-packages (from Flask==1.0.2->cortex-client==6.0.4) (0.14.1)\n",
      "Requirement already satisfied: itsdangerous>=0.24 in /Users/ltwardowski/miniconda3/lib/python3.7/site-packages (from Flask==1.0.2->cortex-client==6.0.4) (1.1.0)\n",
      "Requirement already satisfied: click>=5.1 in /Users/ltwardowski/miniconda3/lib/python3.7/site-packages (from Flask==1.0.2->cortex-client==6.0.4) (7.0)\n",
      "Requirement already satisfied: Jinja2>=2.10 in /Users/ltwardowski/miniconda3/lib/python3.7/site-packages (from Flask==1.0.2->cortex-client==6.0.4) (2.10.1)\n",
      "Requirement already satisfied: snaptime in /Users/ltwardowski/miniconda3/lib/python3.7/site-packages (from maya==0.5.0->cortex-client==6.0.4) (0.2.4)\n",
      "Requirement already satisfied: pendulum<=1.5.1,>=1.0 in /Users/ltwardowski/miniconda3/lib/python3.7/site-packages (from maya==0.5.0->cortex-client==6.0.4) (1.5.1)\n",
      "Requirement already satisfied: tzlocal in /Users/ltwardowski/miniconda3/lib/python3.7/site-packages (from maya==0.5.0->cortex-client==6.0.4) (1.5.1)\n",
      "Requirement already satisfied: humanize in /Users/ltwardowski/miniconda3/lib/python3.7/site-packages (from maya==0.5.0->cortex-client==6.0.4) (0.5.1)\n",
      "Requirement already satisfied: dateparser>=0.7.0 in /Users/ltwardowski/miniconda3/lib/python3.7/site-packages (from maya==0.5.0->cortex-client==6.0.4) (0.7.0)\n",
      "Requirement already satisfied: websocket-client>=0.32.0 in /Users/ltwardowski/miniconda3/lib/python3.7/site-packages (from docker==3.5.0->cortex-client==6.0.4) (0.54.0)\n",
      "Requirement already satisfied: docker-pycreds>=0.3.0 in /Users/ltwardowski/miniconda3/lib/python3.7/site-packages (from docker==3.5.0->cortex-client==6.0.4) (0.4.0)\n",
      "Requirement already satisfied: urllib3!=1.25.0,!=1.25.1,<1.26,>=1.21.1 in /Users/ltwardowski/miniconda3/lib/python3.7/site-packages (from requests<3,>=2.12.4->cortex-client==6.0.4) (1.24.2)\n",
      "Requirement already satisfied: idna<2.9,>=2.5 in /Users/ltwardowski/miniconda3/lib/python3.7/site-packages (from requests<3,>=2.12.4->cortex-client==6.0.4) (2.8)\n",
      "Requirement already satisfied: certifi>=2017.4.17 in /Users/ltwardowski/miniconda3/lib/python3.7/site-packages (from requests<3,>=2.12.4->cortex-client==6.0.4) (2019.6.16)\n",
      "Requirement already satisfied: chardet<3.1.0,>=3.0.2 in /Users/ltwardowski/miniconda3/lib/python3.7/site-packages (from requests<3,>=2.12.4->cortex-client==6.0.4) (3.0.4)\n",
      "Requirement already satisfied: ptyprocess>=0.5 in /Users/ltwardowski/miniconda3/lib/python3.7/site-packages (from pexpect; sys_platform != \"win32\"->ipython<7,>=6.4.0->cortex-client==6.0.4) (0.6.0)\n",
      "Requirement already satisfied: ipython-genutils in /Users/ltwardowski/miniconda3/lib/python3.7/site-packages (from traitlets>=4.2->ipython<7,>=6.4.0->cortex-client==6.0.4) (0.2.0)\n",
      "Requirement already satisfied: wcwidth in /Users/ltwardowski/miniconda3/lib/python3.7/site-packages (from prompt-toolkit<2.0.0,>=1.0.15->ipython<7,>=6.4.0->cortex-client==6.0.4) (0.1.7)\n",
      "Requirement already satisfied: parso>=0.3.0 in /Users/ltwardowski/miniconda3/lib/python3.7/site-packages (from jedi>=0.10->ipython<7,>=6.4.0->cortex-client==6.0.4) (0.5.0)\n",
      "Requirement already satisfied: MarkupSafe>=0.23 in /Users/ltwardowski/miniconda3/lib/python3.7/site-packages (from Jinja2>=2.10->Flask==1.0.2->cortex-client==6.0.4) (1.1.1)\n",
      "Requirement already satisfied: pytzdata>=2018.3.0.0 in /Users/ltwardowski/miniconda3/lib/python3.7/site-packages (from pendulum<=1.5.1,>=1.0->maya==0.5.0->cortex-client==6.0.4) (2018.7)\n",
      "Requirement already satisfied: regex in /Users/ltwardowski/miniconda3/lib/python3.7/site-packages (from dateparser>=0.7.0->maya==0.5.0->cortex-client==6.0.4) (2018.11.22)\n",
      "Installing collected packages: docker, cortex-client\n",
      "  Found existing installation: docker 3.7.2\n",
      "    Uninstalling docker-3.7.2:\n",
      "\u001b[31mERROR: Could not install packages due to an EnvironmentError: [Errno 13] Permission denied: 'RECORD'\n",
      "Consider using the `--user` option or check the permissions.\n",
      "\u001b[0m\n",
      "Cortex Python SDK v7.0.0\n",
      "7.0.0\n"
     ]
    }
   ],
   "source": [
    "%run ./00-setup.ipynb"
   ]
  },
  {
   "cell_type": "code",
   "execution_count": 3,
   "metadata": {},
   "outputs": [
    {
     "data": {
      "text/html": [
       "\n",
       "                    <style>\n",
       "                        #table1 {\n",
       "                          border: solid thin;\n",
       "                          border-collapse: collapse;\n",
       "                        }\n",
       "                        #table1 caption {\n",
       "                          padding-bottom: 0.5em;\n",
       "                        }\n",
       "                        #table1 th,\n",
       "                        #table1 td {\n",
       "                          border: solid thin;\n",
       "                          padding: 0.5rem 2rem;\n",
       "                        }\n",
       "                        #table1 td {\n",
       "                          white-space: nowrap;\n",
       "                        }\n",
       "                        #table1 td {\n",
       "                          border-style: none solid;\n",
       "                          vertical-align: top;\n",
       "                        }\n",
       "                        #table1 th {\n",
       "                          padding: 0.2em;\n",
       "                          vertical-align: middle;\n",
       "                          text-align: center;\n",
       "                        }\n",
       "                        #table1 tbody td:first-child::after {\n",
       "                          content: leader(\". \"); '\n",
       "                        }\n",
       "                    </style>\n",
       "                    <table id=\"table1\">\n",
       "                        <caption><b>Experiment:</b> flowers/experiment</caption>\n",
       "                        <thead>\n",
       "                        <tr>\n",
       "                            <th rowspan=\"2\">ID</th>\n",
       "                            <th rowspan=\"2\">Date</th>\n",
       "                            <th rowspan=\"2\">Took</th>\n",
       "                            <th colspan=\"0\" scope=\"colgroup\">Params</th>\n",
       "                            <th colspan=\"0\" scope=\"colgroup\">Metrics</th>\n",
       "                        </tr>\n",
       "                        <tr>\n",
       "                            \n",
       "                            \n",
       "                        </tr>\n",
       "                        </thead>\n",
       "                        <tbody>\n",
       "                            \n",
       "                        </tbody>\n",
       "                    </table>"
      ],
      "text/plain": [
       "<cortex.experiment.Experiment at 0x12f44ee48>"
      ]
     },
     "execution_count": 3,
     "metadata": {},
     "output_type": "execute_result"
    }
   ],
   "source": [
    "from cortex import Cortex, Message\n",
    "import pandas as pd\n",
    "\n",
    "client = Cortex.client()\n",
    "exp = client.experiment('flowers/experiment')\n",
    "\n",
    "exp"
   ]
  },
  {
   "cell_type": "code",
   "execution_count": 4,
   "metadata": {},
   "outputs": [
    {
     "ename": "HTTPError",
     "evalue": "404 Client Error: Not Found for url: https://api.cortex.insights.ai/v2/experiments/flowers/experiment/runs/YOUR_EXP_ID",
     "output_type": "error",
     "traceback": [
      "\u001b[0;31m---------------------------------------------------------------------------\u001b[0m",
      "\u001b[0;31mHTTPError\u001b[0m                                 Traceback (most recent call last)",
      "\u001b[0;32m<ipython-input-4-a24f6e37b42b>\u001b[0m in \u001b[0;36m<module>\u001b[0;34m()\u001b[0m\n\u001b[0;32m----> 1\u001b[0;31m \u001b[0mrun\u001b[0m \u001b[0;34m=\u001b[0m \u001b[0mexp\u001b[0m\u001b[0;34m.\u001b[0m\u001b[0mget_run\u001b[0m\u001b[0;34m(\u001b[0m\u001b[0;34m'YOUR_EXP_ID'\u001b[0m\u001b[0;34m)\u001b[0m\u001b[0;34m\u001b[0m\u001b[0;34m\u001b[0m\u001b[0m\n\u001b[0m\u001b[1;32m      2\u001b[0m \u001b[0mmodel\u001b[0m \u001b[0;34m=\u001b[0m \u001b[0mrun\u001b[0m\u001b[0;34m.\u001b[0m\u001b[0mget_artifact\u001b[0m\u001b[0;34m(\u001b[0m\u001b[0;34m'model'\u001b[0m\u001b[0;34m)\u001b[0m\u001b[0;34m\u001b[0m\u001b[0;34m\u001b[0m\u001b[0m\n",
      "\u001b[0;32m~/miniconda3/lib/python3.7/site-packages/cortex/experiment.py\u001b[0m in \u001b[0;36mget_run\u001b[0;34m(self, run_id)\u001b[0m\n\u001b[1;32m    171\u001b[0m \u001b[0;34m\u001b[0m\u001b[0m\n\u001b[1;32m    172\u001b[0m     \u001b[0;32mdef\u001b[0m \u001b[0mget_run\u001b[0m\u001b[0;34m(\u001b[0m\u001b[0mself\u001b[0m\u001b[0;34m,\u001b[0m \u001b[0mrun_id\u001b[0m\u001b[0;34m)\u001b[0m \u001b[0;34m->\u001b[0m \u001b[0mRun\u001b[0m\u001b[0;34m:\u001b[0m\u001b[0;34m\u001b[0m\u001b[0;34m\u001b[0m\u001b[0m\n\u001b[0;32m--> 173\u001b[0;31m         \u001b[0mrun\u001b[0m \u001b[0;34m=\u001b[0m \u001b[0mself\u001b[0m\u001b[0;34m.\u001b[0m\u001b[0m_client\u001b[0m\u001b[0;34m.\u001b[0m\u001b[0mget_run\u001b[0m\u001b[0;34m(\u001b[0m\u001b[0mself\u001b[0m\u001b[0;34m.\u001b[0m\u001b[0mname\u001b[0m\u001b[0;34m,\u001b[0m \u001b[0mrun_id\u001b[0m\u001b[0;34m)\u001b[0m\u001b[0;34m\u001b[0m\u001b[0;34m\u001b[0m\u001b[0m\n\u001b[0m\u001b[1;32m    174\u001b[0m         \u001b[0;32mreturn\u001b[0m \u001b[0mRemoteRun\u001b[0m\u001b[0;34m.\u001b[0m\u001b[0mfrom_json\u001b[0m\u001b[0;34m(\u001b[0m\u001b[0mrun\u001b[0m\u001b[0;34m,\u001b[0m \u001b[0mself\u001b[0m\u001b[0;34m)\u001b[0m\u001b[0;34m\u001b[0m\u001b[0;34m\u001b[0m\u001b[0m\n\u001b[1;32m    175\u001b[0m \u001b[0;34m\u001b[0m\u001b[0m\n",
      "\u001b[0;32m~/miniconda3/lib/python3.7/site-packages/cortex_client/experimentclient.py\u001b[0m in \u001b[0;36mget_run\u001b[0;34m(self, experiment_name, run_id)\u001b[0m\n\u001b[1;32m    139\u001b[0m         \u001b[0muri\u001b[0m \u001b[0;34m=\u001b[0m \u001b[0mself\u001b[0m\u001b[0;34m.\u001b[0m\u001b[0mURIs\u001b[0m\u001b[0;34m[\u001b[0m\u001b[0;34m'run'\u001b[0m\u001b[0;34m]\u001b[0m\u001b[0;34m.\u001b[0m\u001b[0mformat\u001b[0m\u001b[0;34m(\u001b[0m\u001b[0mexperiment_name\u001b[0m\u001b[0;34m=\u001b[0m\u001b[0mexperiment_name\u001b[0m\u001b[0;34m,\u001b[0m \u001b[0mrun_id\u001b[0m\u001b[0;34m=\u001b[0m\u001b[0mrun_id\u001b[0m\u001b[0;34m)\u001b[0m\u001b[0;34m\u001b[0m\u001b[0;34m\u001b[0m\u001b[0m\n\u001b[1;32m    140\u001b[0m         \u001b[0mr\u001b[0m \u001b[0;34m=\u001b[0m \u001b[0mself\u001b[0m\u001b[0;34m.\u001b[0m\u001b[0m_serviceconnector\u001b[0m\u001b[0;34m.\u001b[0m\u001b[0mrequest\u001b[0m\u001b[0;34m(\u001b[0m\u001b[0mmethod\u001b[0m\u001b[0;34m=\u001b[0m\u001b[0;34m'GET'\u001b[0m\u001b[0;34m,\u001b[0m \u001b[0muri\u001b[0m\u001b[0;34m=\u001b[0m\u001b[0muri\u001b[0m\u001b[0;34m)\u001b[0m\u001b[0;34m\u001b[0m\u001b[0;34m\u001b[0m\u001b[0m\n\u001b[0;32m--> 141\u001b[0;31m         \u001b[0mr\u001b[0m\u001b[0;34m.\u001b[0m\u001b[0mraise_for_status\u001b[0m\u001b[0;34m(\u001b[0m\u001b[0;34m)\u001b[0m\u001b[0;34m\u001b[0m\u001b[0;34m\u001b[0m\u001b[0m\n\u001b[0m\u001b[1;32m    142\u001b[0m \u001b[0;34m\u001b[0m\u001b[0m\n\u001b[1;32m    143\u001b[0m         \u001b[0;32mreturn\u001b[0m \u001b[0mr\u001b[0m\u001b[0;34m.\u001b[0m\u001b[0mjson\u001b[0m\u001b[0;34m(\u001b[0m\u001b[0;34m)\u001b[0m\u001b[0;34m\u001b[0m\u001b[0;34m\u001b[0m\u001b[0m\n",
      "\u001b[0;32m~/miniconda3/lib/python3.7/site-packages/requests/models.py\u001b[0m in \u001b[0;36mraise_for_status\u001b[0;34m(self)\u001b[0m\n\u001b[1;32m    938\u001b[0m \u001b[0;34m\u001b[0m\u001b[0m\n\u001b[1;32m    939\u001b[0m         \u001b[0;32mif\u001b[0m \u001b[0mhttp_error_msg\u001b[0m\u001b[0;34m:\u001b[0m\u001b[0;34m\u001b[0m\u001b[0;34m\u001b[0m\u001b[0m\n\u001b[0;32m--> 940\u001b[0;31m             \u001b[0;32mraise\u001b[0m \u001b[0mHTTPError\u001b[0m\u001b[0;34m(\u001b[0m\u001b[0mhttp_error_msg\u001b[0m\u001b[0;34m,\u001b[0m \u001b[0mresponse\u001b[0m\u001b[0;34m=\u001b[0m\u001b[0mself\u001b[0m\u001b[0;34m)\u001b[0m\u001b[0;34m\u001b[0m\u001b[0;34m\u001b[0m\u001b[0m\n\u001b[0m\u001b[1;32m    941\u001b[0m \u001b[0;34m\u001b[0m\u001b[0m\n\u001b[1;32m    942\u001b[0m     \u001b[0;32mdef\u001b[0m \u001b[0mclose\u001b[0m\u001b[0;34m(\u001b[0m\u001b[0mself\u001b[0m\u001b[0;34m)\u001b[0m\u001b[0;34m:\u001b[0m\u001b[0;34m\u001b[0m\u001b[0;34m\u001b[0m\u001b[0m\n",
      "\u001b[0;31mHTTPError\u001b[0m: 404 Client Error: Not Found for url: https://api.cortex.insights.ai/v2/experiments/flowers/experiment/runs/YOUR_EXP_ID"
     ]
    }
   ],
   "source": [
    "run = exp.get_run('YOUR_EXP_ID')\n",
    "model = run.get_artifact('model')"
   ]
  },
  {
   "cell_type": "code",
   "execution_count": 2,
   "metadata": {},
   "outputs": [
    {
     "ename": "NameError",
     "evalue": "name 'client' is not defined",
     "output_type": "error",
     "traceback": [
      "\u001b[0;31m---------------------------------------------------------------------------\u001b[0m",
      "\u001b[0;31mNameError\u001b[0m                                 Traceback (most recent call last)",
      "\u001b[0;32m<ipython-input-2-dc08e67c4f9c>\u001b[0m in \u001b[0;36m<module>\u001b[0;34m()\u001b[0m\n\u001b[0;32m----> 1\u001b[0;31m \u001b[0mbuilder\u001b[0m \u001b[0;34m=\u001b[0m \u001b[0mclient\u001b[0m\u001b[0;34m.\u001b[0m\u001b[0mbuilder\u001b[0m\u001b[0;34m(\u001b[0m\u001b[0;34m)\u001b[0m\u001b[0;34m\u001b[0m\u001b[0;34m\u001b[0m\u001b[0m\n\u001b[0m\u001b[1;32m      2\u001b[0m builder.action('flowers/iris-predict')        .with_requirements(['tensorflow>=1.12,<2',\n\u001b[1;32m      3\u001b[0m                             'keras>=2.2.4,<3'])\\\n\u001b[1;32m      4\u001b[0m         \u001b[0;34m.\u001b[0m\u001b[0mfrom_model\u001b[0m\u001b[0;34m(\u001b[0m\u001b[0mmodel\u001b[0m\u001b[0;34m)\u001b[0m\u001b[0;31m\\\u001b[0m\u001b[0;34m\u001b[0m\u001b[0;34m\u001b[0m\u001b[0m\n\u001b[1;32m      5\u001b[0m         \u001b[0;34m.\u001b[0m\u001b[0mbuild\u001b[0m\u001b[0;34m(\u001b[0m\u001b[0;34m)\u001b[0m\u001b[0;34m\u001b[0m\u001b[0;34m\u001b[0m\u001b[0m\n",
      "\u001b[0;31mNameError\u001b[0m: name 'client' is not defined"
     ]
    }
   ],
   "source": [
    "builder = client.builder()\n",
    "builder.action('flowers/iris-predict')\\\n",
    "        .with_requirements(['tensorflow>=1.12,<2',\n",
    "                            'keras>=2.2.4,<3'])\\\n",
    "        .from_model(model)\\\n",
    "        .build()"
   ]
  },
  {
   "cell_type": "code",
   "execution_count": 5,
   "metadata": {},
   "outputs": [
    {
     "ename": "NameError",
     "evalue": "name 'pandas' is not defined",
     "output_type": "error",
     "traceback": [
      "\u001b[0;31m---------------------------------------------------------------------------\u001b[0m",
      "\u001b[0;31mNameError\u001b[0m                                 Traceback (most recent call last)",
      "\u001b[0;32m<ipython-input-5-df864bd267e0>\u001b[0m in \u001b[0;36m<module>\u001b[0;34m()\u001b[0m\n\u001b[0;32m----> 1\u001b[0;31m \u001b[0mdf\u001b[0m \u001b[0;34m=\u001b[0m \u001b[0mpandas\u001b[0m\u001b[0;34m.\u001b[0m\u001b[0mread_csv\u001b[0m\u001b[0;34m(\u001b[0m\u001b[0;34m'./data/iris.data'\u001b[0m\u001b[0;34m)\u001b[0m\u001b[0;34m\u001b[0m\u001b[0;34m\u001b[0m\u001b[0m\n\u001b[0m\u001b[1;32m      2\u001b[0m \u001b[0mdataset\u001b[0m \u001b[0;34m=\u001b[0m \u001b[0mdf\u001b[0m\u001b[0;34m.\u001b[0m\u001b[0mvalues\u001b[0m\u001b[0;34m\u001b[0m\u001b[0;34m\u001b[0m\u001b[0m\n\u001b[1;32m      3\u001b[0m \u001b[0mds_classes\u001b[0m \u001b[0;34m=\u001b[0m \u001b[0mpandas\u001b[0m\u001b[0;34m.\u001b[0m\u001b[0mget_dummies\u001b[0m\u001b[0;34m(\u001b[0m\u001b[0mdf\u001b[0m\u001b[0;34m)\u001b[0m\u001b[0;34m.\u001b[0m\u001b[0mvalues\u001b[0m \u001b[0;31m# one-hot encode the classes\u001b[0m\u001b[0;34m\u001b[0m\u001b[0;34m\u001b[0m\u001b[0m\n\u001b[1;32m      4\u001b[0m \u001b[0;34m\u001b[0m\u001b[0m\n\u001b[1;32m      5\u001b[0m \u001b[0mX\u001b[0m \u001b[0;34m=\u001b[0m \u001b[0mdataset\u001b[0m\u001b[0;34m[\u001b[0m\u001b[0;34m:\u001b[0m\u001b[0;34m,\u001b[0m\u001b[0;36m0\u001b[0m\u001b[0;34m:\u001b[0m\u001b[0;36m4\u001b[0m\u001b[0;34m]\u001b[0m\u001b[0;34m.\u001b[0m\u001b[0mastype\u001b[0m\u001b[0;34m(\u001b[0m\u001b[0mfloat\u001b[0m\u001b[0;34m)\u001b[0m\u001b[0;34m\u001b[0m\u001b[0;34m\u001b[0m\u001b[0m\n",
      "\u001b[0;31mNameError\u001b[0m: name 'pandas' is not defined"
     ]
    }
   ],
   "source": [
    "df = pandas.read_csv('./data/iris.data')\n",
    "dataset = df.values\n",
    "ds_classes = pandas.get_dummies(df).values # one-hot encode the classes\n",
    "\n",
    "X = dataset[:,0:4].astype(float)\n",
    "Y = ds_classes[:,4:8].astype(int)\n",
    "\n",
    "(train_inputs, test_inputs, train_classes, test_classes) = train_test_split(X, Y, test_size=0.333, train_size=0.667)"
   ]
  },
  {
   "cell_type": "code",
   "execution_count": null,
   "metadata": {},
   "outputs": [],
   "source": []
  }
 ],
 "metadata": {
  "kernelspec": {
   "display_name": "Python 3",
   "language": "python",
   "name": "python3"
  },
  "language_info": {
   "codemirror_mode": {
    "name": "ipython",
    "version": 3
   },
   "file_extension": ".py",
   "mimetype": "text/x-python",
   "name": "python",
   "nbconvert_exporter": "python",
   "pygments_lexer": "ipython3",
   "version": "3.7.1"
  }
 },
 "nbformat": 4,
 "nbformat_minor": 2
}
