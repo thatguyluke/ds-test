{
 "cells": [
  {
   "cell_type": "markdown",
   "metadata": {},
   "source": [
    "## Datasets in Local Mode"
   ]
  },
  {
   "cell_type": "code",
   "execution_count": 3,
   "metadata": {},
   "outputs": [
    {
     "name": "stdout",
     "output_type": "stream",
     "text": [
      "Requirement already up-to-date: cortex-client in /Users/ltwardowski/miniconda3/lib/python3.7/site-packages (7.1.0)\n",
      "Requirement already satisfied, skipping upgrade: dill==0.2.8.2 in /Users/ltwardowski/miniconda3/lib/python3.7/site-packages (from cortex-client) (0.2.8.2)\n",
      "Requirement already satisfied, skipping upgrade: docker==3.7.2 in /Users/ltwardowski/miniconda3/lib/python3.7/site-packages (from cortex-client) (3.7.2)\n",
      "Requirement already satisfied, skipping upgrade: more-itertools<5,>=4.3.0 in /Users/ltwardowski/miniconda3/lib/python3.7/site-packages (from cortex-client) (4.3.0)\n",
      "Requirement already satisfied, skipping upgrade: pyyaml<4,>=3.13 in /Users/ltwardowski/miniconda3/lib/python3.7/site-packages (from cortex-client) (3.13)\n",
      "Requirement already satisfied, skipping upgrade: seaborn<0.10,>=0.9.0 in /Users/ltwardowski/miniconda3/lib/python3.7/site-packages (from cortex-client) (0.9.0)\n",
      "Requirement already satisfied, skipping upgrade: attrs==18.2.0 in /Users/ltwardowski/miniconda3/lib/python3.7/site-packages (from cortex-client) (18.2.0)\n",
      "Requirement already satisfied, skipping upgrade: cuid<1,>=0.3 in /Users/ltwardowski/miniconda3/lib/python3.7/site-packages (from cortex-client) (0.3)\n",
      "Requirement already satisfied, skipping upgrade: tenacity==5.0.2 in /Users/ltwardowski/miniconda3/lib/python3.7/site-packages (from cortex-client) (5.0.2)\n",
      "Requirement already satisfied, skipping upgrade: pyjwt<2,>=1.6.1 in /Users/ltwardowski/miniconda3/lib/python3.7/site-packages (from cortex-client) (1.7.1)\n",
      "Requirement already satisfied, skipping upgrade: diskcache<3.1,>=3.0.5 in /Users/ltwardowski/miniconda3/lib/python3.7/site-packages (from cortex-client) (3.0.6)\n",
      "Requirement already satisfied, skipping upgrade: ipython<7,>=6.4.0 in /Users/ltwardowski/miniconda3/lib/python3.7/site-packages (from cortex-client) (6.5.0)\n",
      "Requirement already satisfied, skipping upgrade: requests-toolbelt==0.8.0 in /Users/ltwardowski/miniconda3/lib/python3.7/site-packages (from cortex-client) (0.8.0)\n",
      "Requirement already satisfied, skipping upgrade: deprecation==2.0.6 in /Users/ltwardowski/miniconda3/lib/python3.7/site-packages (from cortex-client) (2.0.6)\n",
      "Requirement already satisfied, skipping upgrade: matplotlib<3,>=2.2.2 in /Users/ltwardowski/miniconda3/lib/python3.7/site-packages (from cortex-client) (2.2.3)\n",
      "Requirement already satisfied, skipping upgrade: requests<3,>=2.12.4 in /Users/ltwardowski/miniconda3/lib/python3.7/site-packages (from cortex-client) (2.21.0)\n",
      "Requirement already satisfied, skipping upgrade: maya==0.5.0 in /Users/ltwardowski/miniconda3/lib/python3.7/site-packages (from cortex-client) (0.5.0)\n",
      "Requirement already satisfied, skipping upgrade: arrow<0.13,>=0.12.1 in /Users/ltwardowski/miniconda3/lib/python3.7/site-packages (from cortex-client) (0.12.1)\n",
      "Requirement already satisfied, skipping upgrade: pydash<4.8,>=4.7.3 in /Users/ltwardowski/miniconda3/lib/python3.7/site-packages (from cortex-client) (4.7.5)\n",
      "Requirement already satisfied, skipping upgrade: pandas<0.24,>=0.23.4 in /Users/ltwardowski/miniconda3/lib/python3.7/site-packages (from cortex-client) (0.23.4)\n",
      "Requirement already satisfied, skipping upgrade: Flask==1.0.2 in /Users/ltwardowski/miniconda3/lib/python3.7/site-packages (from cortex-client) (1.0.2)\n",
      "Requirement already satisfied, skipping upgrade: websocket-client>=0.32.0 in /Users/ltwardowski/miniconda3/lib/python3.7/site-packages (from docker==3.7.2->cortex-client) (0.54.0)\n",
      "Requirement already satisfied, skipping upgrade: six>=1.4.0 in /Users/ltwardowski/miniconda3/lib/python3.7/site-packages (from docker==3.7.2->cortex-client) (1.12.0)\n",
      "Requirement already satisfied, skipping upgrade: docker-pycreds>=0.4.0 in /Users/ltwardowski/miniconda3/lib/python3.7/site-packages (from docker==3.7.2->cortex-client) (0.4.0)\n",
      "Requirement already satisfied, skipping upgrade: scipy>=0.14.0 in /Users/ltwardowski/miniconda3/lib/python3.7/site-packages (from seaborn<0.10,>=0.9.0->cortex-client) (1.2.0)\n",
      "Requirement already satisfied, skipping upgrade: numpy>=1.9.3 in /Users/ltwardowski/miniconda3/lib/python3.7/site-packages (from seaborn<0.10,>=0.9.0->cortex-client) (1.15.4)\n",
      "Requirement already satisfied, skipping upgrade: simplegeneric>0.8 in /Users/ltwardowski/miniconda3/lib/python3.7/site-packages (from ipython<7,>=6.4.0->cortex-client) (0.8.1)\n",
      "Requirement already satisfied, skipping upgrade: backcall in /Users/ltwardowski/miniconda3/lib/python3.7/site-packages (from ipython<7,>=6.4.0->cortex-client) (0.1.0)\n",
      "Requirement already satisfied, skipping upgrade: pickleshare in /Users/ltwardowski/miniconda3/lib/python3.7/site-packages (from ipython<7,>=6.4.0->cortex-client) (0.7.5)\n",
      "Requirement already satisfied, skipping upgrade: jedi>=0.10 in /Users/ltwardowski/miniconda3/lib/python3.7/site-packages (from ipython<7,>=6.4.0->cortex-client) (0.13.3)\n",
      "Requirement already satisfied, skipping upgrade: appnope; sys_platform == \"darwin\" in /Users/ltwardowski/miniconda3/lib/python3.7/site-packages (from ipython<7,>=6.4.0->cortex-client) (0.1.0)\n",
      "Requirement already satisfied, skipping upgrade: setuptools>=18.5 in /Users/ltwardowski/miniconda3/lib/python3.7/site-packages (from ipython<7,>=6.4.0->cortex-client) (41.0.0)\n",
      "Requirement already satisfied, skipping upgrade: pygments in /Users/ltwardowski/miniconda3/lib/python3.7/site-packages (from ipython<7,>=6.4.0->cortex-client) (2.4.2)\n",
      "Requirement already satisfied, skipping upgrade: traitlets>=4.2 in /Users/ltwardowski/miniconda3/lib/python3.7/site-packages (from ipython<7,>=6.4.0->cortex-client) (4.3.2)\n",
      "Requirement already satisfied, skipping upgrade: prompt-toolkit<2.0.0,>=1.0.15 in /Users/ltwardowski/miniconda3/lib/python3.7/site-packages (from ipython<7,>=6.4.0->cortex-client) (1.0.16)\n",
      "Requirement already satisfied, skipping upgrade: pexpect; sys_platform != \"win32\" in /Users/ltwardowski/miniconda3/lib/python3.7/site-packages (from ipython<7,>=6.4.0->cortex-client) (4.7.0)\n",
      "Requirement already satisfied, skipping upgrade: decorator in /Users/ltwardowski/miniconda3/lib/python3.7/site-packages (from ipython<7,>=6.4.0->cortex-client) (4.4.0)\n",
      "Requirement already satisfied, skipping upgrade: packaging in /Users/ltwardowski/miniconda3/lib/python3.7/site-packages (from deprecation==2.0.6->cortex-client) (19.0)\n",
      "Requirement already satisfied, skipping upgrade: cycler>=0.10 in /Users/ltwardowski/miniconda3/lib/python3.7/site-packages (from matplotlib<3,>=2.2.2->cortex-client) (0.10.0)\n",
      "Requirement already satisfied, skipping upgrade: pyparsing!=2.0.4,!=2.1.2,!=2.1.6,>=2.0.1 in /Users/ltwardowski/miniconda3/lib/python3.7/site-packages (from matplotlib<3,>=2.2.2->cortex-client) (2.3.1)\n",
      "Requirement already satisfied, skipping upgrade: kiwisolver>=1.0.1 in /Users/ltwardowski/miniconda3/lib/python3.7/site-packages (from matplotlib<3,>=2.2.2->cortex-client) (1.0.1)\n",
      "Requirement already satisfied, skipping upgrade: pytz in /Users/ltwardowski/miniconda3/lib/python3.7/site-packages (from matplotlib<3,>=2.2.2->cortex-client) (2018.9)\n",
      "Requirement already satisfied, skipping upgrade: python-dateutil>=2.1 in /Users/ltwardowski/miniconda3/lib/python3.7/site-packages (from matplotlib<3,>=2.2.2->cortex-client) (2.8.0)\n",
      "Requirement already satisfied, skipping upgrade: idna<2.9,>=2.5 in /Users/ltwardowski/miniconda3/lib/python3.7/site-packages (from requests<3,>=2.12.4->cortex-client) (2.8)\n",
      "Requirement already satisfied, skipping upgrade: chardet<3.1.0,>=3.0.2 in /Users/ltwardowski/miniconda3/lib/python3.7/site-packages (from requests<3,>=2.12.4->cortex-client) (3.0.4)\n",
      "Requirement already satisfied, skipping upgrade: urllib3<1.25,>=1.21.1 in /Users/ltwardowski/miniconda3/lib/python3.7/site-packages (from requests<3,>=2.12.4->cortex-client) (1.24.1)\n",
      "Requirement already satisfied, skipping upgrade: certifi>=2017.4.17 in /Users/ltwardowski/miniconda3/lib/python3.7/site-packages (from requests<3,>=2.12.4->cortex-client) (2019.3.9)\n",
      "Requirement already satisfied, skipping upgrade: pendulum<=1.5.1,>=1.0 in /Users/ltwardowski/miniconda3/lib/python3.7/site-packages (from maya==0.5.0->cortex-client) (1.5.1)\n",
      "Requirement already satisfied, skipping upgrade: tzlocal in /Users/ltwardowski/miniconda3/lib/python3.7/site-packages (from maya==0.5.0->cortex-client) (1.5.1)\n",
      "Requirement already satisfied, skipping upgrade: humanize in /Users/ltwardowski/miniconda3/lib/python3.7/site-packages (from maya==0.5.0->cortex-client) (0.5.1)\n",
      "Requirement already satisfied, skipping upgrade: snaptime in /Users/ltwardowski/miniconda3/lib/python3.7/site-packages (from maya==0.5.0->cortex-client) (0.2.4)\n",
      "Requirement already satisfied, skipping upgrade: dateparser>=0.7.0 in /Users/ltwardowski/miniconda3/lib/python3.7/site-packages (from maya==0.5.0->cortex-client) (0.7.0)\n",
      "Requirement already satisfied, skipping upgrade: Werkzeug>=0.14 in /Users/ltwardowski/miniconda3/lib/python3.7/site-packages (from Flask==1.0.2->cortex-client) (0.14.1)\n",
      "Requirement already satisfied, skipping upgrade: click>=5.1 in /Users/ltwardowski/miniconda3/lib/python3.7/site-packages (from Flask==1.0.2->cortex-client) (7.0)\n",
      "Requirement already satisfied, skipping upgrade: itsdangerous>=0.24 in /Users/ltwardowski/miniconda3/lib/python3.7/site-packages (from Flask==1.0.2->cortex-client) (1.1.0)\n",
      "Requirement already satisfied, skipping upgrade: Jinja2>=2.10 in /Users/ltwardowski/miniconda3/lib/python3.7/site-packages (from Flask==1.0.2->cortex-client) (2.10.1)\n",
      "Requirement already satisfied, skipping upgrade: parso>=0.3.0 in /Users/ltwardowski/miniconda3/lib/python3.7/site-packages (from jedi>=0.10->ipython<7,>=6.4.0->cortex-client) (0.4.0)\n",
      "Requirement already satisfied, skipping upgrade: ipython_genutils in /Users/ltwardowski/miniconda3/lib/python3.7/site-packages (from traitlets>=4.2->ipython<7,>=6.4.0->cortex-client) (0.2.0)\n",
      "Requirement already satisfied, skipping upgrade: wcwidth in /Users/ltwardowski/miniconda3/lib/python3.7/site-packages (from prompt-toolkit<2.0.0,>=1.0.15->ipython<7,>=6.4.0->cortex-client) (0.1.7)\n",
      "Requirement already satisfied, skipping upgrade: ptyprocess>=0.5 in /Users/ltwardowski/miniconda3/lib/python3.7/site-packages (from pexpect; sys_platform != \"win32\"->ipython<7,>=6.4.0->cortex-client) (0.6.0)\n",
      "Requirement already satisfied, skipping upgrade: pytzdata>=2018.3.0.0 in /Users/ltwardowski/miniconda3/lib/python3.7/site-packages (from pendulum<=1.5.1,>=1.0->maya==0.5.0->cortex-client) (2018.7)\n",
      "Requirement already satisfied, skipping upgrade: regex in /Users/ltwardowski/miniconda3/lib/python3.7/site-packages (from dateparser>=0.7.0->maya==0.5.0->cortex-client) (2018.11.22)\n",
      "Requirement already satisfied, skipping upgrade: MarkupSafe>=0.23 in /Users/ltwardowski/miniconda3/lib/python3.7/site-packages (from Jinja2>=2.10->Flask==1.0.2->cortex-client) (1.1.1)\n",
      "Note: you may need to restart the kernel to use updated packages.\n"
     ]
    },
    {
     "ename": "ImportError",
     "evalue": "cannot import name 'ProfilesClient' from 'cortex_client' (/Users/ltwardowski/miniconda3/lib/python3.7/site-packages/cortex_client/__init__.py)",
     "output_type": "error",
     "traceback": [
      "\u001b[0;31m---------------------------------------------------------------------------\u001b[0m",
      "\u001b[0;31mImportError\u001b[0m                               Traceback (most recent call last)",
      "\u001b[0;32m~/Desktop/CFAS_dev_notebooks/03_local-mode/00_setup.ipynb\u001b[0m in \u001b[0;36m<module>\u001b[0;34m\u001b[0m\n\u001b[1;32m     10\u001b[0m \u001b[0;32mimport\u001b[0m \u001b[0mmatplotlib\u001b[0m\u001b[0;34m.\u001b[0m\u001b[0mpylab\u001b[0m \u001b[0;32mas\u001b[0m \u001b[0mplt\u001b[0m\u001b[0;34m\u001b[0m\u001b[0;34m\u001b[0m\u001b[0m\n\u001b[1;32m     11\u001b[0m \u001b[0;32mimport\u001b[0m \u001b[0mseaborn\u001b[0m \u001b[0;32mas\u001b[0m \u001b[0msns\u001b[0m\u001b[0;34m\u001b[0m\u001b[0;34m\u001b[0m\u001b[0m\n\u001b[0;32m---> 12\u001b[0;31m \u001b[0;32mimport\u001b[0m \u001b[0mcortex\u001b[0m\u001b[0;34m\u001b[0m\u001b[0;34m\u001b[0m\u001b[0m\n\u001b[0m\u001b[1;32m     13\u001b[0m \u001b[0;32mfrom\u001b[0m \u001b[0mcortex\u001b[0m \u001b[0;32mimport\u001b[0m \u001b[0mCortex\u001b[0m\u001b[0;34m,\u001b[0m \u001b[0mMessage\u001b[0m\u001b[0;34m\u001b[0m\u001b[0;34m\u001b[0m\u001b[0m\n",
      "\u001b[0;32m~/miniconda3/lib/python3.7/site-packages/cortex/__init__.py\u001b[0m in \u001b[0;36m<module>\u001b[0;34m\u001b[0m\n\u001b[1;32m     16\u001b[0m \u001b[0;34m\u001b[0m\u001b[0m\n\u001b[1;32m     17\u001b[0m \u001b[0;32mimport\u001b[0m \u001b[0mpkg_resources\u001b[0m\u001b[0;34m\u001b[0m\u001b[0;34m\u001b[0m\u001b[0m\n\u001b[0;32m---> 18\u001b[0;31m \u001b[0;32mfrom\u001b[0m \u001b[0;34m.\u001b[0m\u001b[0mclient\u001b[0m \u001b[0;32mimport\u001b[0m \u001b[0mCortex\u001b[0m\u001b[0;34m\u001b[0m\u001b[0;34m\u001b[0m\u001b[0m\n\u001b[0m\u001b[1;32m     19\u001b[0m \u001b[0;32mfrom\u001b[0m \u001b[0;34m.\u001b[0m\u001b[0mmessage\u001b[0m \u001b[0;32mimport\u001b[0m \u001b[0mMessage\u001b[0m\u001b[0;34m\u001b[0m\u001b[0;34m\u001b[0m\u001b[0m\n\u001b[1;32m     20\u001b[0m \u001b[0;32mfrom\u001b[0m \u001b[0;34m.\u001b[0m\u001b[0mmagics\u001b[0m \u001b[0;32mimport\u001b[0m \u001b[0mCortexMagics\u001b[0m\u001b[0;34m\u001b[0m\u001b[0;34m\u001b[0m\u001b[0m\n",
      "\u001b[0;32m~/miniconda3/lib/python3.7/site-packages/cortex/client.py\u001b[0m in \u001b[0;36m<module>\u001b[0;34m\u001b[0m\n\u001b[1;32m     21\u001b[0m \u001b[0;32mimport\u001b[0m \u001b[0mjwt\u001b[0m\u001b[0;34m\u001b[0m\u001b[0;34m\u001b[0m\u001b[0m\n\u001b[1;32m     22\u001b[0m \u001b[0;34m\u001b[0m\u001b[0m\n\u001b[0;32m---> 23\u001b[0;31m \u001b[0;32mfrom\u001b[0m \u001b[0mcortex_client\u001b[0m \u001b[0;32mimport\u001b[0m \u001b[0mDatasetsClient\u001b[0m\u001b[0;34m,\u001b[0m \u001b[0mAuthenticationClient\u001b[0m\u001b[0;34m,\u001b[0m \u001b[0mSessionClient\u001b[0m\u001b[0;34m,\u001b[0m \u001b[0mExperimentClient\u001b[0m\u001b[0;34m,\u001b[0m \u001b[0mProfilesClient\u001b[0m\u001b[0;34m\u001b[0m\u001b[0;34m\u001b[0m\u001b[0m\n\u001b[0m\u001b[1;32m     24\u001b[0m \u001b[0;32mfrom\u001b[0m \u001b[0mcortex_client\u001b[0m\u001b[0;34m.\u001b[0m\u001b[0mserviceconnector\u001b[0m \u001b[0;32mimport\u001b[0m \u001b[0mServiceConnector\u001b[0m\u001b[0;34m\u001b[0m\u001b[0;34m\u001b[0m\u001b[0m\n\u001b[1;32m     25\u001b[0m \u001b[0;34m\u001b[0m\u001b[0m\n",
      "\u001b[0;31mImportError\u001b[0m: cannot import name 'ProfilesClient' from 'cortex_client' (/Users/ltwardowski/miniconda3/lib/python3.7/site-packages/cortex_client/__init__.py)"
     ]
    }
   ],
   "source": [
    "%run ./00_setup.ipynb"
   ]
  },
  {
   "cell_type": "markdown",
   "metadata": {},
   "source": [
    "## Initiate Local Session\n",
    "..."
   ]
  },
  {
   "cell_type": "code",
   "execution_count": 2,
   "metadata": {},
   "outputs": [],
   "source": [
    "cortex = Cortex.local()\n",
    "builder = cortex.builder()"
   ]
  },
  {
   "cell_type": "markdown",
   "metadata": {},
   "source": [
    "### Create a Dataset from a CSV file using the local builder\n",
    "..."
   ]
  },
  {
   "cell_type": "code",
   "execution_count": 3,
   "metadata": {},
   "outputs": [
    {
     "name": "stdout",
     "output_type": "stream",
     "text": [
      "5Y Daily S&P 500 Data v1\n"
     ]
    },
    {
     "data": {
      "text/html": [
       "<div>\n",
       "<style scoped>\n",
       "    .dataframe tbody tr th:only-of-type {\n",
       "        vertical-align: middle;\n",
       "    }\n",
       "\n",
       "    .dataframe tbody tr th {\n",
       "        vertical-align: top;\n",
       "    }\n",
       "\n",
       "    .dataframe thead th {\n",
       "        text-align: right;\n",
       "    }\n",
       "</style>\n",
       "<table border=\"1\" class=\"dataframe\">\n",
       "  <thead>\n",
       "    <tr style=\"text-align: right;\">\n",
       "      <th></th>\n",
       "      <th>Unnamed: 0</th>\n",
       "      <th>Date</th>\n",
       "      <th>Open</th>\n",
       "      <th>High</th>\n",
       "      <th>Low</th>\n",
       "      <th>Close</th>\n",
       "      <th>Adj Close</th>\n",
       "      <th>Volume</th>\n",
       "    </tr>\n",
       "  </thead>\n",
       "  <tbody>\n",
       "    <tr>\n",
       "      <th>1254</th>\n",
       "      <td>1254</td>\n",
       "      <td>2018-10-24</td>\n",
       "      <td>2737.870</td>\n",
       "      <td>2742.590</td>\n",
       "      <td>2651.890</td>\n",
       "      <td>2656.100</td>\n",
       "      <td>2656.100</td>\n",
       "      <td>4709310000</td>\n",
       "    </tr>\n",
       "    <tr>\n",
       "      <th>1255</th>\n",
       "      <td>1255</td>\n",
       "      <td>2018-10-25</td>\n",
       "      <td>2674.880</td>\n",
       "      <td>2722.700</td>\n",
       "      <td>2667.840</td>\n",
       "      <td>2705.570</td>\n",
       "      <td>2705.570</td>\n",
       "      <td>4634770000</td>\n",
       "    </tr>\n",
       "    <tr>\n",
       "      <th>1256</th>\n",
       "      <td>1256</td>\n",
       "      <td>2018-10-26</td>\n",
       "      <td>2667.860</td>\n",
       "      <td>2692.380</td>\n",
       "      <td>2628.160</td>\n",
       "      <td>2658.690</td>\n",
       "      <td>2658.690</td>\n",
       "      <td>4803150000</td>\n",
       "    </tr>\n",
       "    <tr>\n",
       "      <th>1257</th>\n",
       "      <td>1257</td>\n",
       "      <td>2018-10-29</td>\n",
       "      <td>2682.650</td>\n",
       "      <td>2706.850</td>\n",
       "      <td>2603.540</td>\n",
       "      <td>2641.250</td>\n",
       "      <td>2641.250</td>\n",
       "      <td>4673700000</td>\n",
       "    </tr>\n",
       "    <tr>\n",
       "      <th>1258</th>\n",
       "      <td>1258</td>\n",
       "      <td>2018-10-30</td>\n",
       "      <td>2640.680</td>\n",
       "      <td>2685.430</td>\n",
       "      <td>2635.340</td>\n",
       "      <td>2682.630</td>\n",
       "      <td>2682.630</td>\n",
       "      <td>5106380000</td>\n",
       "    </tr>\n",
       "  </tbody>\n",
       "</table>\n",
       "</div>"
      ],
      "text/plain": [
       "      Unnamed: 0        Date     Open     High      Low    Close  Adj Close  \\\n",
       "1254        1254  2018-10-24 2737.870 2742.590 2651.890 2656.100   2656.100   \n",
       "1255        1255  2018-10-25 2674.880 2722.700 2667.840 2705.570   2705.570   \n",
       "1256        1256  2018-10-26 2667.860 2692.380 2628.160 2658.690   2658.690   \n",
       "1257        1257  2018-10-29 2682.650 2706.850 2603.540 2641.250   2641.250   \n",
       "1258        1258  2018-10-30 2640.680 2685.430 2635.340 2682.630   2682.630   \n",
       "\n",
       "          Volume  \n",
       "1254  4709310000  \n",
       "1255  4634770000  \n",
       "1256  4803150000  \n",
       "1257  4673700000  \n",
       "1258  5106380000  "
      ]
     },
     "execution_count": 3,
     "metadata": {},
     "output_type": "execute_result"
    }
   ],
   "source": [
    "ds = builder.dataset('c12e/sp500_5y_daily').title('5Y Daily S&P 500 Data').from_csv('./sample-data/sp500_5y_daily_10312018.csv').build()\n",
    "print('{} v{}'.format(ds.title, ds.version))\n",
    "df = ds.as_pandas()\n",
    "df.tail()"
   ]
  },
  {
   "cell_type": "markdown",
   "metadata": {},
   "source": [
    "### Reload the dataset\n",
    "..."
   ]
  },
  {
   "cell_type": "code",
   "execution_count": 4,
   "metadata": {},
   "outputs": [
    {
     "name": "stdout",
     "output_type": "stream",
     "text": [
      "5Y Daily S&P 500 Data v1\n"
     ]
    },
    {
     "data": {
      "text/html": [
       "<div>\n",
       "<style scoped>\n",
       "    .dataframe tbody tr th:only-of-type {\n",
       "        vertical-align: middle;\n",
       "    }\n",
       "\n",
       "    .dataframe tbody tr th {\n",
       "        vertical-align: top;\n",
       "    }\n",
       "\n",
       "    .dataframe thead th {\n",
       "        text-align: right;\n",
       "    }\n",
       "</style>\n",
       "<table border=\"1\" class=\"dataframe\">\n",
       "  <thead>\n",
       "    <tr style=\"text-align: right;\">\n",
       "      <th></th>\n",
       "      <th>Unnamed: 0</th>\n",
       "      <th>Date</th>\n",
       "      <th>Open</th>\n",
       "      <th>High</th>\n",
       "      <th>Low</th>\n",
       "      <th>Close</th>\n",
       "      <th>Adj Close</th>\n",
       "      <th>Volume</th>\n",
       "    </tr>\n",
       "  </thead>\n",
       "  <tbody>\n",
       "    <tr>\n",
       "      <th>1254</th>\n",
       "      <td>1254</td>\n",
       "      <td>2018-10-24</td>\n",
       "      <td>2737.870</td>\n",
       "      <td>2742.590</td>\n",
       "      <td>2651.890</td>\n",
       "      <td>2656.100</td>\n",
       "      <td>2656.100</td>\n",
       "      <td>4709310000</td>\n",
       "    </tr>\n",
       "    <tr>\n",
       "      <th>1255</th>\n",
       "      <td>1255</td>\n",
       "      <td>2018-10-25</td>\n",
       "      <td>2674.880</td>\n",
       "      <td>2722.700</td>\n",
       "      <td>2667.840</td>\n",
       "      <td>2705.570</td>\n",
       "      <td>2705.570</td>\n",
       "      <td>4634770000</td>\n",
       "    </tr>\n",
       "    <tr>\n",
       "      <th>1256</th>\n",
       "      <td>1256</td>\n",
       "      <td>2018-10-26</td>\n",
       "      <td>2667.860</td>\n",
       "      <td>2692.380</td>\n",
       "      <td>2628.160</td>\n",
       "      <td>2658.690</td>\n",
       "      <td>2658.690</td>\n",
       "      <td>4803150000</td>\n",
       "    </tr>\n",
       "    <tr>\n",
       "      <th>1257</th>\n",
       "      <td>1257</td>\n",
       "      <td>2018-10-29</td>\n",
       "      <td>2682.650</td>\n",
       "      <td>2706.850</td>\n",
       "      <td>2603.540</td>\n",
       "      <td>2641.250</td>\n",
       "      <td>2641.250</td>\n",
       "      <td>4673700000</td>\n",
       "    </tr>\n",
       "    <tr>\n",
       "      <th>1258</th>\n",
       "      <td>1258</td>\n",
       "      <td>2018-10-30</td>\n",
       "      <td>2640.680</td>\n",
       "      <td>2685.430</td>\n",
       "      <td>2635.340</td>\n",
       "      <td>2682.630</td>\n",
       "      <td>2682.630</td>\n",
       "      <td>5106380000</td>\n",
       "    </tr>\n",
       "  </tbody>\n",
       "</table>\n",
       "</div>"
      ],
      "text/plain": [
       "      Unnamed: 0        Date     Open     High      Low    Close  Adj Close  \\\n",
       "1254        1254  2018-10-24 2737.870 2742.590 2651.890 2656.100   2656.100   \n",
       "1255        1255  2018-10-25 2674.880 2722.700 2667.840 2705.570   2705.570   \n",
       "1256        1256  2018-10-26 2667.860 2692.380 2628.160 2658.690   2658.690   \n",
       "1257        1257  2018-10-29 2682.650 2706.850 2603.540 2641.250   2641.250   \n",
       "1258        1258  2018-10-30 2640.680 2685.430 2635.340 2682.630   2682.630   \n",
       "\n",
       "          Volume  \n",
       "1254  4709310000  \n",
       "1255  4634770000  \n",
       "1256  4803150000  \n",
       "1257  4673700000  \n",
       "1258  5106380000  "
      ]
     },
     "execution_count": 4,
     "metadata": {},
     "output_type": "execute_result"
    }
   ],
   "source": [
    "ds = cortex.dataset('c12e/sp500_5y_daily')\n",
    "print('{} v{}'.format(ds.title, ds.version))\n",
    "df = ds.as_pandas()\n",
    "df.tail()"
   ]
  },
  {
   "cell_type": "code",
   "execution_count": null,
   "metadata": {},
   "outputs": [],
   "source": []
  }
 ],
 "metadata": {
  "kernelspec": {
   "display_name": "Python 3",
   "language": "python",
   "name": "python3"
  },
  "language_info": {
   "codemirror_mode": {
    "name": "ipython",
    "version": 3
   },
   "file_extension": ".py",
   "mimetype": "text/x-python",
   "name": "python",
   "nbconvert_exporter": "python",
   "pygments_lexer": "ipython3",
   "version": "3.7.1"
  }
 },
 "nbformat": 4,
 "nbformat_minor": 2
}
