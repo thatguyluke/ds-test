{
 "cells": [
  {
   "cell_type": "markdown",
   "metadata": {},
   "source": [
    "## Experiments in Local Mode\n",
    "This notebook requires scikit-learn.  Please install using `pip install scikit-learn` or equivalent in your environment."
   ]
  },
  {
   "cell_type": "code",
   "execution_count": 1,
   "metadata": {},
   "outputs": [
    {
     "name": "stdout",
     "output_type": "stream",
     "text": [
      "Python version: 3.6.7\n",
      "Pandas version: 0.23.4\n",
      "Numpy version: 1.15.4\n",
      "Cortex SDK version: 5.5.4\n"
     ]
    }
   ],
   "source": [
    "%run ./00_setup.ipynb"
   ]
  },
  {
   "cell_type": "code",
   "execution_count": 2,
   "metadata": {},
   "outputs": [
    {
     "name": "stderr",
     "output_type": "stream",
     "text": [
      "Downloading Cal. housing from https://ndownloader.figshare.com/files/5976036 to /Users/narcher/scikit_learn_data\n"
     ]
    }
   ],
   "source": [
    "from sklearn.datasets.california_housing import fetch_california_housing\n",
    "houses = fetch_california_housing()"
   ]
  },
  {
   "cell_type": "code",
   "execution_count": 3,
   "metadata": {},
   "outputs": [
    {
     "name": "stdout",
     "output_type": "stream",
     "text": [
      ".. _california_housing_dataset:\n",
      "\n",
      "California Housing dataset\n",
      "--------------------------\n",
      "\n",
      "**Data Set Characteristics:**\n",
      "\n",
      "    :Number of Instances: 20640\n",
      "\n",
      "    :Number of Attributes: 8 numeric, predictive attributes and the target\n",
      "\n",
      "    :Attribute Information:\n",
      "        - MedInc        median income in block\n",
      "        - HouseAge      median house age in block\n",
      "        - AveRooms      average number of rooms\n",
      "        - AveBedrms     average number of bedrooms\n",
      "        - Population    block population\n",
      "        - AveOccup      average house occupancy\n",
      "        - Latitude      house block latitude\n",
      "        - Longitude     house block longitude\n",
      "\n",
      "    :Missing Attribute Values: None\n",
      "\n",
      "This dataset was obtained from the StatLib repository.\n",
      "http://lib.stat.cmu.edu/datasets/\n",
      "\n",
      "The target variable is the median house value for California districts.\n",
      "\n",
      "This dataset was derived from the 1990 U.S. census, using one row per census\n",
      "block group. A block group is the smallest geographical unit for which the U.S.\n",
      "Census Bureau publishes sample data (a block group typically has a population\n",
      "of 600 to 3,000 people).\n",
      "\n",
      "It can be downloaded/loaded using the\n",
      ":func:`sklearn.datasets.fetch_california_housing` function.\n",
      "\n",
      ".. topic:: References\n",
      "\n",
      "    - Pace, R. Kelley and Ronald Barry, Sparse Spatial Autoregressions,\n",
      "      Statistics and Probability Letters, 33 (1997) 291-297\n",
      "\n"
     ]
    }
   ],
   "source": [
    "print(houses.DESCR)"
   ]
  },
  {
   "cell_type": "code",
   "execution_count": 4,
   "metadata": {},
   "outputs": [
    {
     "data": {
      "text/html": [
       "<div>\n",
       "<style scoped>\n",
       "    .dataframe tbody tr th:only-of-type {\n",
       "        vertical-align: middle;\n",
       "    }\n",
       "\n",
       "    .dataframe tbody tr th {\n",
       "        vertical-align: top;\n",
       "    }\n",
       "\n",
       "    .dataframe thead th {\n",
       "        text-align: right;\n",
       "    }\n",
       "</style>\n",
       "<table border=\"1\" class=\"dataframe\">\n",
       "  <thead>\n",
       "    <tr style=\"text-align: right;\">\n",
       "      <th></th>\n",
       "      <th>MedInc</th>\n",
       "      <th>HouseAge</th>\n",
       "      <th>AveRooms</th>\n",
       "      <th>AveBedrms</th>\n",
       "      <th>Population</th>\n",
       "      <th>AveOccup</th>\n",
       "      <th>Latitude</th>\n",
       "      <th>Longitude</th>\n",
       "    </tr>\n",
       "  </thead>\n",
       "  <tbody>\n",
       "    <tr>\n",
       "      <th>0</th>\n",
       "      <td>8.325</td>\n",
       "      <td>41.000</td>\n",
       "      <td>6.984</td>\n",
       "      <td>1.024</td>\n",
       "      <td>322.000</td>\n",
       "      <td>2.556</td>\n",
       "      <td>37.880</td>\n",
       "      <td>-122.230</td>\n",
       "    </tr>\n",
       "    <tr>\n",
       "      <th>1</th>\n",
       "      <td>8.301</td>\n",
       "      <td>21.000</td>\n",
       "      <td>6.238</td>\n",
       "      <td>0.972</td>\n",
       "      <td>2401.000</td>\n",
       "      <td>2.110</td>\n",
       "      <td>37.860</td>\n",
       "      <td>-122.220</td>\n",
       "    </tr>\n",
       "    <tr>\n",
       "      <th>2</th>\n",
       "      <td>7.257</td>\n",
       "      <td>52.000</td>\n",
       "      <td>8.288</td>\n",
       "      <td>1.073</td>\n",
       "      <td>496.000</td>\n",
       "      <td>2.802</td>\n",
       "      <td>37.850</td>\n",
       "      <td>-122.240</td>\n",
       "    </tr>\n",
       "    <tr>\n",
       "      <th>3</th>\n",
       "      <td>5.643</td>\n",
       "      <td>52.000</td>\n",
       "      <td>5.817</td>\n",
       "      <td>1.073</td>\n",
       "      <td>558.000</td>\n",
       "      <td>2.548</td>\n",
       "      <td>37.850</td>\n",
       "      <td>-122.250</td>\n",
       "    </tr>\n",
       "    <tr>\n",
       "      <th>4</th>\n",
       "      <td>3.846</td>\n",
       "      <td>52.000</td>\n",
       "      <td>6.282</td>\n",
       "      <td>1.081</td>\n",
       "      <td>565.000</td>\n",
       "      <td>2.181</td>\n",
       "      <td>37.850</td>\n",
       "      <td>-122.250</td>\n",
       "    </tr>\n",
       "  </tbody>\n",
       "</table>\n",
       "</div>"
      ],
      "text/plain": [
       "   MedInc  HouseAge  AveRooms  AveBedrms  Population  AveOccup  Latitude  \\\n",
       "0   8.325    41.000     6.984      1.024     322.000     2.556    37.880   \n",
       "1   8.301    21.000     6.238      0.972    2401.000     2.110    37.860   \n",
       "2   7.257    52.000     8.288      1.073     496.000     2.802    37.850   \n",
       "3   5.643    52.000     5.817      1.073     558.000     2.548    37.850   \n",
       "4   3.846    52.000     6.282      1.081     565.000     2.181    37.850   \n",
       "\n",
       "   Longitude  \n",
       "0   -122.230  \n",
       "1   -122.220  \n",
       "2   -122.240  \n",
       "3   -122.250  \n",
       "4   -122.250  "
      ]
     },
     "execution_count": 4,
     "metadata": {},
     "output_type": "execute_result"
    }
   ],
   "source": [
    "df = pd.DataFrame(data=houses.data, columns=houses.feature_names)\n",
    "df.head()"
   ]
  },
  {
   "cell_type": "code",
   "execution_count": 5,
   "metadata": {},
   "outputs": [],
   "source": [
    "cortex = Cortex.local()\n",
    "builder = cortex.builder()"
   ]
  },
  {
   "cell_type": "code",
   "execution_count": 6,
   "metadata": {},
   "outputs": [
    {
     "name": "stdout",
     "output_type": "stream",
     "text": [
      "c12e/cal-housing v1\n"
     ]
    }
   ],
   "source": [
    "ds = builder.dataset('c12e/cal-housing').title('California Housing dataset').from_df(df).build()\n",
    "print('{} v{}'.format(ds.name, ds.version))"
   ]
  },
  {
   "cell_type": "code",
   "execution_count": 7,
   "metadata": {},
   "outputs": [],
   "source": [
    "from sklearn.linear_model import LinearRegression, RidgeCV, LassoCV, ElasticNetCV\n",
    "from sklearn.metrics import mean_squared_error\n",
    "from sklearn.model_selection import train_test_split"
   ]
  },
  {
   "cell_type": "code",
   "execution_count": 8,
   "metadata": {},
   "outputs": [],
   "source": [
    "def train(x, y, **kwargs):\n",
    "    alphas = kwargs.get('alphas', [1, 0.1, 0.001, 0.0001])\n",
    "    # Select alogrithm \"\n",
    "    mtype = kwargs.get('model_type')\n",
    "    if mtype == 'Lasso':\n",
    "        model = LassoCV(alphas=alphas)\n",
    "    elif mtype == 'Ridge':\n",
    "        model = RidgeCV(alphas=alphas)\n",
    "    elif mtype == 'ElasticNet':\n",
    "        model = ElasticNetCV(alphas=alphas)\n",
    "    else:\n",
    "        model = LinearRegression()\n",
    "\n",
    "    # Train model\n",
    "    model.fit(x, y)\n",
    "    \n",
    "    return model"
   ]
  },
  {
   "cell_type": "code",
   "execution_count": 9,
   "metadata": {},
   "outputs": [],
   "source": [
    "def predict_and_score(model, x, y):\n",
    "    predictions = model.predict(x)\n",
    "    rmse = np.sqrt(mean_squared_error(predictions, y))\n",
    "    return [predictions, rmse]"
   ]
  },
  {
   "cell_type": "code",
   "execution_count": 10,
   "metadata": {},
   "outputs": [],
   "source": [
    "X_train, X_test, y_train, y_test = train_test_split(df, houses.target, test_size=0.30, random_state=10)"
   ]
  },
  {
   "cell_type": "code",
   "execution_count": 11,
   "metadata": {},
   "outputs": [
    {
     "name": "stdout",
     "output_type": "stream",
     "text": [
      "------------------------------------------------------------------------------------------\n",
      "Training model using Linear regression algorithm\n",
      "Training error: 0.7168015879496298\n",
      "Testing error: 0.7443413397146885\n",
      "------------------------------------------------------------------------------------------\n",
      "Training model using Lasso regression algorithm\n",
      "Training error: 0.7168404173291649\n",
      "Testing error: 0.7435061368178243\n",
      "------------------------------------------------------------------------------------------\n",
      "Training model using Ridge regression algorithm\n",
      "Training error: 0.7168016634345166\n",
      "Testing error: 0.7443005648600199\n",
      "------------------------------------------------------------------------------------------\n",
      "Training model using ElasticNet regression algorithm\n",
      "Training error: 0.7168267314398832\n",
      "Testing error: 0.7436480525313524\n",
      "------------------------------------------------------------------------------------------\n",
      "Best model: Lasso\n",
      "Best testing error: 0.743506\n",
      "R2 score: 0.592222\n",
      "CPU times: user 330 ms, sys: 18.1 ms, total: 348 ms\n",
      "Wall time: 107 ms\n"
     ]
    }
   ],
   "source": [
    "%%time\n",
    "\n",
    "best_model = None\n",
    "best_model_type = None\n",
    "best_rmse = 1.0\n",
    "\n",
    "exp = cortex.experiment('c12e/cal-housing-regression')\n",
    "exp.reset()\n",
    "exp.set_meta('style', 'supervised')\n",
    "exp.set_meta('function', 'regression')\n",
    "\n",
    "with exp.start_run() as run:\n",
    "    alphas = [1, 0.1, 0.001, 0.0005]\n",
    "    for model_type in ['Linear', 'Lasso', 'Ridge', 'ElasticNet']:\n",
    "        print('---'*30)\n",
    "        print('Training model using {} regression algorithm'.format(model_type))\n",
    "        model = train(X_train, y_train, model_type=model_type, alphas=alphas)\n",
    "        [predictions, rmse] = predict_and_score(model, X_train, y_train)\n",
    "        print('Training error:', rmse)\n",
    "        [predictions, rmse] = predict_and_score(model, X_test, y_test)\n",
    "        print('Testing error:', rmse)\n",
    "\n",
    "        if rmse < best_rmse:\n",
    "            best_rmse = rmse\n",
    "            best_model = model\n",
    "            best_model_type = model_type\n",
    "\n",
    "    r2 = best_model.score(X_test, y_test)\n",
    "    run.log_metric('r2', r2)\n",
    "    run.log_metric('rmse', best_rmse)\n",
    "    run.log_param('model_type', best_model_type)\n",
    "    run.log_param('alphas', alphas)\n",
    "    run.log_artifact('model', best_model)\n",
    "\n",
    "print('---'*30)\n",
    "print('Best model: ' + best_model_type)\n",
    "print('Best testing error: %.6f' % best_rmse)\n",
    "print('R2 score: %.6f' % r2)"
   ]
  },
  {
   "cell_type": "code",
   "execution_count": 12,
   "metadata": {},
   "outputs": [
    {
     "data": {
      "text/html": [
       "\n",
       "                    <style>\n",
       "                        #table1 {\n",
       "                          border: solid thin;\n",
       "                          border-collapse: collapse;\n",
       "                        }\n",
       "                        #table1 caption {\n",
       "                          padding-bottom: 0.5em;\n",
       "                        }\n",
       "                        #table1 th,\n",
       "                        #table1 td {\n",
       "                          border: solid thin;\n",
       "                          padding: 0.5rem 2rem;\n",
       "                        }\n",
       "                        #table1 td {\n",
       "                          white-space: nowrap;\n",
       "                        }\n",
       "                        #table1 td {\n",
       "                          border-style: none solid;\n",
       "                          vertical-align: top;\n",
       "                        }\n",
       "                        #table1 th {\n",
       "                          padding: 0.2em;\n",
       "                          vertical-align: middle;\n",
       "                          text-align: center;\n",
       "                        }\n",
       "                        #table1 tbody td:first-child::after {\n",
       "                          content: leader(\". \"); '\n",
       "                        }\n",
       "                    </style>\n",
       "                    <table id=\"table1\">\n",
       "                        <caption><b>Experiment:</b> c12e/cal-housing-regression</caption>\n",
       "                        <thead>\n",
       "                        <tr>\n",
       "                            <th rowspan=\"2\">ID</th>\n",
       "                            <th rowspan=\"2\">Date</th>\n",
       "                            <th rowspan=\"2\">Took</th>\n",
       "                            <th colspan=\"2\" scope=\"colgroup\">Params</th>\n",
       "                            <th colspan=\"2\" scope=\"colgroup\">Metrics</th>\n",
       "                        </tr>\n",
       "                        <tr>\n",
       "                            \n",
       "                            <th>alphas</th>\n",
       "                            \n",
       "                            <th>model_type</th>\n",
       "                            \n",
       "                            \n",
       "                            <th>r2</th>\n",
       "                            \n",
       "                            <th>rmse</th>\n",
       "                            \n",
       "                        </tr>\n",
       "                        </thead>\n",
       "                        <tbody>\n",
       "                            \n",
       "                            <tr>\n",
       "                            <td>dx181e9</td>\n",
       "                            <td>Fri, 15 Feb 2019 16:42:48 GMT</td>\n",
       "                            <td>0.10 s</td>\n",
       "                            \n",
       "                            <td>[1, 0.1, 0.001, 0.0005]</td>\n",
       "                            \n",
       "                            <td>Lasso</td>\n",
       "                            \n",
       "                            \n",
       "                            <td>0.592222</td>\n",
       "                            \n",
       "                            <td>0.743506</td>\n",
       "                            \n",
       "                            </tr>\n",
       "                            \n",
       "                        </tbody>\n",
       "                    </table>"
      ],
      "text/plain": [
       "<cortex.experiment.LocalExperiment at 0x120d3cfd0>"
      ]
     },
     "execution_count": 12,
     "metadata": {},
     "output_type": "execute_result"
    }
   ],
   "source": [
    "exp"
   ]
  },
  {
   "cell_type": "code",
   "execution_count": null,
   "metadata": {},
   "outputs": [],
   "source": []
  }
 ],
 "metadata": {
  "kernelspec": {
   "display_name": "Python 3",
   "language": "python",
   "name": "python3"
  },
  "language_info": {
   "codemirror_mode": {
    "name": "ipython",
    "version": 3
   },
   "file_extension": ".py",
   "mimetype": "text/x-python",
   "name": "python",
   "nbconvert_exporter": "python",
   "pygments_lexer": "ipython3",
   "version": "3.6.7"
  }
 },
 "nbformat": 4,
 "nbformat_minor": 2
}
