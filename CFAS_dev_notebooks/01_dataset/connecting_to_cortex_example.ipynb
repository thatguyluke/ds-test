{
 "cells": [
  {
   "cell_type": "markdown",
   "metadata": {},
   "source": [
    "# Cortex Example Cells\n",
    "\n",
    "This notebook is a compliation of examples and code templates that you may find useful as you work with Cortex.\n",
    "\n",
    "These example cells can be copied into notebooks and used in a properly configured Cortex environment for your convenience."
   ]
  },
  {
   "cell_type": "markdown",
   "metadata": {},
   "source": [
    "**Connecting to Cortex from a notebook**\n",
    "\n",
    "This section shows you how to connect to Cortex from a Jupyter Notebook\n",
    "\n",
    "*NOTE this is similar to connecting via the command line using the 'cortex configure' command*\n",
    "\n",
    "For more information go to:\n",
    "\n",
    "CLI: https://docs.cortex.insights.ai/docs/cortex-tools/get-started-cli/\n"
   ]
  },
  {
   "cell_type": "code",
   "execution_count": 1,
   "metadata": {},
   "outputs": [
    {
     "name": "stdin",
     "output_type": "stream",
     "text": [
      "Cortex URI: [https://api.cortex.insights.ai] \n",
      "Account:  thatguyluke\n",
      "Username:  ltwardowski\n",
      "Password:  ·········\n"
     ]
    }
   ],
   "source": [
    "#How to log in to Cortex without using the CLI\n",
    "from cortex import Cortex\n",
    "Cortex.login()"
   ]
  },
  {
   "cell_type": "markdown",
   "metadata": {},
   "source": [
    "**Verify your Cortex Python SDK version**\n",
    "\n",
    "The following will verify your version of the Cortex Python SDK."
   ]
  },
  {
   "cell_type": "code",
   "execution_count": 6,
   "metadata": {},
   "outputs": [
    {
     "name": "stdout",
     "output_type": "stream",
     "text": [
      "7.0.0\n"
     ]
    }
   ],
   "source": [
    "import pkg_resources\n",
    "_cortex_sdk_version = pkg_resources.get_distribution(\"cortex-client\").version\n",
    "\n",
    "print(_cortex_sdk_version) "
   ]
  },
  {
   "cell_type": "markdown",
   "metadata": {},
   "source": [
    "**Updating your Cortex Python SDK version from notebook**\n",
    "\n",
    "To use a specific verison of the Cortex SDK perform the following.  In these courses we use 7.0.0 unless otherwise instructed."
   ]
  },
  {
   "cell_type": "code",
   "execution_count": 7,
   "metadata": {},
   "outputs": [
    {
     "name": "stdout",
     "output_type": "stream",
     "text": [
      "7.0.0\n",
      "You are already using Cortex 7.0.0\n"
     ]
    }
   ],
   "source": [
    "import pkg_resources\n",
    "_cortex_sdk_version = pkg_resources.get_distribution(\"cortex-client\").version\n",
    "\n",
    "\n",
    "print(_cortex_sdk_version) \n",
    "if _cortex_sdk_version!=('7.0.0'):\n",
    "    print(\"Updating Cortex SDK\")\n",
    "    !pip install cortex-client==7.0.0 \n",
    "else:\n",
    "    print(\"You are already using Cortex 7.0.0\")"
   ]
  },
  {
   "cell_type": "markdown",
   "metadata": {},
   "source": [
    "**Create and deploy an Action**\n",
    "\n",
    "Add example below\n"
   ]
  },
  {
   "cell_type": "code",
   "execution_count": null,
   "metadata": {},
   "outputs": [],
   "source": []
  },
  {
   "cell_type": "markdown",
   "metadata": {},
   "source": [
    "**Create a Skill**\n",
    "\n",
    "Add Example below.  Make note of internal routing."
   ]
  },
  {
   "cell_type": "code",
   "execution_count": null,
   "metadata": {},
   "outputs": [],
   "source": []
  }
 ],
 "metadata": {
  "kernelspec": {
   "display_name": "Python 3",
   "language": "python",
   "name": "python3"
  },
  "language_info": {
   "codemirror_mode": {
    "name": "ipython",
    "version": 3
   },
   "file_extension": ".py",
   "mimetype": "text/x-python",
   "name": "python",
   "nbconvert_exporter": "python",
   "pygments_lexer": "ipython3",
   "version": "3.7.1"
  }
 },
 "nbformat": 4,
 "nbformat_minor": 2
}
