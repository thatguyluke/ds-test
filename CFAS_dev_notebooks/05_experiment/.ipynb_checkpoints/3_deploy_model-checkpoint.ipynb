{
 "cells": [
  {
   "cell_type": "code",
   "execution_count": 42,
   "metadata": {},
   "outputs": [
    {
     "name": "stdout",
     "output_type": "stream",
     "text": [
      "Requirement already satisfied: cortex-client==7.0.0 in /Users/ltwardowski/miniconda3/lib/python3.7/site-packages (7.0.0)\n",
      "Requirement already satisfied: more-itertools<5,>=4.3.0 in /Users/ltwardowski/miniconda3/lib/python3.7/site-packages (from cortex-client==7.0.0) (4.3.0)\n",
      "Requirement already satisfied: attrs==18.2.0 in /Users/ltwardowski/miniconda3/lib/python3.7/site-packages (from cortex-client==7.0.0) (18.2.0)\n",
      "Requirement already satisfied: requests<3,>=2.12.4 in /Users/ltwardowski/miniconda3/lib/python3.7/site-packages (from cortex-client==7.0.0) (2.21.0)\n",
      "Requirement already satisfied: matplotlib<3,>=2.2.2 in /Users/ltwardowski/miniconda3/lib/python3.7/site-packages (from cortex-client==7.0.0) (2.2.3)\n",
      "Requirement already satisfied: Flask==1.0.2 in /Users/ltwardowski/miniconda3/lib/python3.7/site-packages (from cortex-client==7.0.0) (1.0.2)\n",
      "Requirement already satisfied: tenacity==5.0.2 in /Users/ltwardowski/miniconda3/lib/python3.7/site-packages (from cortex-client==7.0.0) (5.0.2)\n",
      "Requirement already satisfied: seaborn<0.10,>=0.9.0 in /Users/ltwardowski/miniconda3/lib/python3.7/site-packages (from cortex-client==7.0.0) (0.9.0)\n",
      "Requirement already satisfied: requests-toolbelt==0.8.0 in /Users/ltwardowski/miniconda3/lib/python3.7/site-packages (from cortex-client==7.0.0) (0.8.0)\n",
      "Requirement already satisfied: cuid<1,>=0.3 in /Users/ltwardowski/miniconda3/lib/python3.7/site-packages (from cortex-client==7.0.0) (0.3)\n",
      "Requirement already satisfied: pyjwt<2,>=1.6.1 in /Users/ltwardowski/miniconda3/lib/python3.7/site-packages (from cortex-client==7.0.0) (1.7.1)\n",
      "Requirement already satisfied: arrow<0.13,>=0.12.1 in /Users/ltwardowski/miniconda3/lib/python3.7/site-packages (from cortex-client==7.0.0) (0.12.1)\n",
      "Requirement already satisfied: dill==0.2.8.2 in /Users/ltwardowski/miniconda3/lib/python3.7/site-packages (from cortex-client==7.0.0) (0.2.8.2)\n",
      "Requirement already satisfied: pyyaml<4,>=3.13 in /Users/ltwardowski/miniconda3/lib/python3.7/site-packages (from cortex-client==7.0.0) (3.13)\n",
      "Requirement already satisfied: pandas<0.24,>=0.23.4 in /Users/ltwardowski/miniconda3/lib/python3.7/site-packages (from cortex-client==7.0.0) (0.23.4)\n",
      "Requirement already satisfied: ipython<7,>=6.4.0 in /Users/ltwardowski/miniconda3/lib/python3.7/site-packages (from cortex-client==7.0.0) (6.5.0)\n",
      "Requirement already satisfied: docker==3.7.2 in /Users/ltwardowski/miniconda3/lib/python3.7/site-packages (from cortex-client==7.0.0) (3.7.2)\n",
      "Requirement already satisfied: maya==0.5.0 in /Users/ltwardowski/miniconda3/lib/python3.7/site-packages (from cortex-client==7.0.0) (0.5.0)\n",
      "Requirement already satisfied: pydash<4.8,>=4.7.3 in /Users/ltwardowski/miniconda3/lib/python3.7/site-packages (from cortex-client==7.0.0) (4.7.5)\n",
      "Requirement already satisfied: deprecation==2.0.6 in /Users/ltwardowski/miniconda3/lib/python3.7/site-packages (from cortex-client==7.0.0) (2.0.6)\n",
      "Requirement already satisfied: diskcache<3.1,>=3.0.5 in /Users/ltwardowski/miniconda3/lib/python3.7/site-packages (from cortex-client==7.0.0) (3.0.6)\n",
      "Requirement already satisfied: six<2.0.0,>=1.0.0 in /Users/ltwardowski/miniconda3/lib/python3.7/site-packages (from more-itertools<5,>=4.3.0->cortex-client==7.0.0) (1.12.0)\n",
      "Requirement already satisfied: idna<2.9,>=2.5 in /Users/ltwardowski/miniconda3/lib/python3.7/site-packages (from requests<3,>=2.12.4->cortex-client==7.0.0) (2.8)\n",
      "Requirement already satisfied: chardet<3.1.0,>=3.0.2 in /Users/ltwardowski/miniconda3/lib/python3.7/site-packages (from requests<3,>=2.12.4->cortex-client==7.0.0) (3.0.4)\n",
      "Requirement already satisfied: certifi>=2017.4.17 in /Users/ltwardowski/miniconda3/lib/python3.7/site-packages (from requests<3,>=2.12.4->cortex-client==7.0.0) (2019.3.9)\n",
      "Requirement already satisfied: urllib3<1.25,>=1.21.1 in /Users/ltwardowski/miniconda3/lib/python3.7/site-packages (from requests<3,>=2.12.4->cortex-client==7.0.0) (1.24.1)\n",
      "Requirement already satisfied: pytz in /Users/ltwardowski/miniconda3/lib/python3.7/site-packages (from matplotlib<3,>=2.2.2->cortex-client==7.0.0) (2018.9)\n",
      "Requirement already satisfied: cycler>=0.10 in /Users/ltwardowski/miniconda3/lib/python3.7/site-packages (from matplotlib<3,>=2.2.2->cortex-client==7.0.0) (0.10.0)\n",
      "Requirement already satisfied: numpy>=1.7.1 in /Users/ltwardowski/miniconda3/lib/python3.7/site-packages (from matplotlib<3,>=2.2.2->cortex-client==7.0.0) (1.15.4)\n",
      "Requirement already satisfied: python-dateutil>=2.1 in /Users/ltwardowski/miniconda3/lib/python3.7/site-packages (from matplotlib<3,>=2.2.2->cortex-client==7.0.0) (2.8.0)\n",
      "Requirement already satisfied: kiwisolver>=1.0.1 in /Users/ltwardowski/miniconda3/lib/python3.7/site-packages (from matplotlib<3,>=2.2.2->cortex-client==7.0.0) (1.0.1)\n",
      "Requirement already satisfied: pyparsing!=2.0.4,!=2.1.2,!=2.1.6,>=2.0.1 in /Users/ltwardowski/miniconda3/lib/python3.7/site-packages (from matplotlib<3,>=2.2.2->cortex-client==7.0.0) (2.3.1)\n",
      "Requirement already satisfied: Jinja2>=2.10 in /Users/ltwardowski/miniconda3/lib/python3.7/site-packages (from Flask==1.0.2->cortex-client==7.0.0) (2.10.1)\n",
      "Requirement already satisfied: Werkzeug>=0.14 in /Users/ltwardowski/miniconda3/lib/python3.7/site-packages (from Flask==1.0.2->cortex-client==7.0.0) (0.14.1)\n",
      "Requirement already satisfied: itsdangerous>=0.24 in /Users/ltwardowski/miniconda3/lib/python3.7/site-packages (from Flask==1.0.2->cortex-client==7.0.0) (1.1.0)\n",
      "Requirement already satisfied: click>=5.1 in /Users/ltwardowski/miniconda3/lib/python3.7/site-packages (from Flask==1.0.2->cortex-client==7.0.0) (7.0)\n",
      "Requirement already satisfied: scipy>=0.14.0 in /Users/ltwardowski/miniconda3/lib/python3.7/site-packages (from seaborn<0.10,>=0.9.0->cortex-client==7.0.0) (1.2.0)\n",
      "Requirement already satisfied: jedi>=0.10 in /Users/ltwardowski/miniconda3/lib/python3.7/site-packages (from ipython<7,>=6.4.0->cortex-client==7.0.0) (0.13.3)\n",
      "Requirement already satisfied: pickleshare in /Users/ltwardowski/miniconda3/lib/python3.7/site-packages (from ipython<7,>=6.4.0->cortex-client==7.0.0) (0.7.5)\n",
      "Requirement already satisfied: backcall in /Users/ltwardowski/miniconda3/lib/python3.7/site-packages (from ipython<7,>=6.4.0->cortex-client==7.0.0) (0.1.0)\n",
      "Requirement already satisfied: prompt-toolkit<2.0.0,>=1.0.15 in /Users/ltwardowski/miniconda3/lib/python3.7/site-packages (from ipython<7,>=6.4.0->cortex-client==7.0.0) (1.0.16)\n",
      "Requirement already satisfied: traitlets>=4.2 in /Users/ltwardowski/miniconda3/lib/python3.7/site-packages (from ipython<7,>=6.4.0->cortex-client==7.0.0) (4.3.2)\n",
      "Requirement already satisfied: decorator in /Users/ltwardowski/miniconda3/lib/python3.7/site-packages (from ipython<7,>=6.4.0->cortex-client==7.0.0) (4.4.0)\n",
      "Requirement already satisfied: setuptools>=18.5 in /Users/ltwardowski/miniconda3/lib/python3.7/site-packages (from ipython<7,>=6.4.0->cortex-client==7.0.0) (41.0.0)\n",
      "Requirement already satisfied: pygments in /Users/ltwardowski/miniconda3/lib/python3.7/site-packages (from ipython<7,>=6.4.0->cortex-client==7.0.0) (2.4.2)\n",
      "Requirement already satisfied: pexpect; sys_platform != \"win32\" in /Users/ltwardowski/miniconda3/lib/python3.7/site-packages (from ipython<7,>=6.4.0->cortex-client==7.0.0) (4.7.0)\n",
      "Requirement already satisfied: appnope; sys_platform == \"darwin\" in /Users/ltwardowski/miniconda3/lib/python3.7/site-packages (from ipython<7,>=6.4.0->cortex-client==7.0.0) (0.1.0)\n",
      "Requirement already satisfied: simplegeneric>0.8 in /Users/ltwardowski/miniconda3/lib/python3.7/site-packages (from ipython<7,>=6.4.0->cortex-client==7.0.0) (0.8.1)\n",
      "Requirement already satisfied: docker-pycreds>=0.4.0 in /Users/ltwardowski/miniconda3/lib/python3.7/site-packages (from docker==3.7.2->cortex-client==7.0.0) (0.4.0)\n",
      "Requirement already satisfied: websocket-client>=0.32.0 in /Users/ltwardowski/miniconda3/lib/python3.7/site-packages (from docker==3.7.2->cortex-client==7.0.0) (0.54.0)\n",
      "Requirement already satisfied: tzlocal in /Users/ltwardowski/miniconda3/lib/python3.7/site-packages (from maya==0.5.0->cortex-client==7.0.0) (1.5.1)\n",
      "Requirement already satisfied: snaptime in /Users/ltwardowski/miniconda3/lib/python3.7/site-packages (from maya==0.5.0->cortex-client==7.0.0) (0.2.4)\n",
      "Requirement already satisfied: humanize in /Users/ltwardowski/miniconda3/lib/python3.7/site-packages (from maya==0.5.0->cortex-client==7.0.0) (0.5.1)\n",
      "Requirement already satisfied: dateparser>=0.7.0 in /Users/ltwardowski/miniconda3/lib/python3.7/site-packages (from maya==0.5.0->cortex-client==7.0.0) (0.7.0)\n",
      "Requirement already satisfied: pendulum<=1.5.1,>=1.0 in /Users/ltwardowski/miniconda3/lib/python3.7/site-packages (from maya==0.5.0->cortex-client==7.0.0) (1.5.1)\n",
      "Requirement already satisfied: packaging in /Users/ltwardowski/miniconda3/lib/python3.7/site-packages (from deprecation==2.0.6->cortex-client==7.0.0) (19.0)\n",
      "Requirement already satisfied: MarkupSafe>=0.23 in /Users/ltwardowski/miniconda3/lib/python3.7/site-packages (from Jinja2>=2.10->Flask==1.0.2->cortex-client==7.0.0) (1.1.1)\n",
      "Requirement already satisfied: parso>=0.3.0 in /Users/ltwardowski/miniconda3/lib/python3.7/site-packages (from jedi>=0.10->ipython<7,>=6.4.0->cortex-client==7.0.0) (0.4.0)\n",
      "Requirement already satisfied: wcwidth in /Users/ltwardowski/miniconda3/lib/python3.7/site-packages (from prompt-toolkit<2.0.0,>=1.0.15->ipython<7,>=6.4.0->cortex-client==7.0.0) (0.1.7)\n",
      "Requirement already satisfied: ipython_genutils in /Users/ltwardowski/miniconda3/lib/python3.7/site-packages (from traitlets>=4.2->ipython<7,>=6.4.0->cortex-client==7.0.0) (0.2.0)\n",
      "Requirement already satisfied: ptyprocess>=0.5 in /Users/ltwardowski/miniconda3/lib/python3.7/site-packages (from pexpect; sys_platform != \"win32\"->ipython<7,>=6.4.0->cortex-client==7.0.0) (0.6.0)\n",
      "Requirement already satisfied: regex in /Users/ltwardowski/miniconda3/lib/python3.7/site-packages (from dateparser>=0.7.0->maya==0.5.0->cortex-client==7.0.0) (2018.11.22)\n",
      "Requirement already satisfied: pytzdata>=2018.3.0.0 in /Users/ltwardowski/miniconda3/lib/python3.7/site-packages (from pendulum<=1.5.1,>=1.0->maya==0.5.0->cortex-client==7.0.0) (2018.7)\n",
      "Cortex Python SDK v7.0.0\n"
     ]
    }
   ],
   "source": [
    "%run ./00-setup.ipynb"
   ]
  },
  {
   "cell_type": "code",
   "execution_count": 1,
   "metadata": {},
   "outputs": [
    {
     "data": {
      "text/html": [
       "\n",
       "                    <style>\n",
       "                        #table1 {\n",
       "                          border: solid thin;\n",
       "                          border-collapse: collapse;\n",
       "                        }\n",
       "                        #table1 caption {\n",
       "                          padding-bottom: 0.5em;\n",
       "                        }\n",
       "                        #table1 th,\n",
       "                        #table1 td {\n",
       "                          border: solid thin;\n",
       "                          padding: 0.5rem 2rem;\n",
       "                        }\n",
       "                        #table1 td {\n",
       "                          white-space: nowrap;\n",
       "                        }\n",
       "                        #table1 td {\n",
       "                          border-style: none solid;\n",
       "                          vertical-align: top;\n",
       "                        }\n",
       "                        #table1 th {\n",
       "                          padding: 0.2em;\n",
       "                          vertical-align: middle;\n",
       "                          text-align: center;\n",
       "                        }\n",
       "                        #table1 tbody td:first-child::after {\n",
       "                          content: leader(\". \"); '\n",
       "                        }\n",
       "                    </style>\n",
       "                    <table id=\"table1\">\n",
       "                        <caption><b>Experiment:</b> flowers/iris-predict</caption>\n",
       "                        <thead>\n",
       "                        <tr>\n",
       "                            <th rowspan=\"2\">ID</th>\n",
       "                            <th rowspan=\"2\">Date</th>\n",
       "                            <th rowspan=\"2\">Took</th>\n",
       "                            <th colspan=\"4\" scope=\"colgroup\">Params</th>\n",
       "                            <th colspan=\"1\" scope=\"colgroup\">Metrics</th>\n",
       "                        </tr>\n",
       "                        <tr>\n",
       "                            \n",
       "                            <th>batch size</th>\n",
       "                            \n",
       "                            <th>criterion</th>\n",
       "                            \n",
       "                            <th>epochs</th>\n",
       "                            \n",
       "                            <th>model name</th>\n",
       "                            \n",
       "                            \n",
       "                            <th>score</th>\n",
       "                            \n",
       "                        </tr>\n",
       "                        </thead>\n",
       "                        <tbody>\n",
       "                            \n",
       "                            <tr>\n",
       "                            <td>x64m0fwq</td>\n",
       "                            <td>Mon, 01 Jul 2019 15:51:27 GMT</td>\n",
       "                            <td>0.32 s</td>\n",
       "                            \n",
       "                            <td>&#x2011;</td>\n",
       "                            \n",
       "                            <td>gini</td>\n",
       "                            \n",
       "                            <td>&#x2011;</td>\n",
       "                            \n",
       "                            <td>&#x2011;</td>\n",
       "                            \n",
       "                            \n",
       "                            <td>0.940000</td>\n",
       "                            \n",
       "                            </tr>\n",
       "                            \n",
       "                            <tr>\n",
       "                            <td>9z4n0fdp</td>\n",
       "                            <td>Mon, 01 Jul 2019 15:51:30 GMT</td>\n",
       "                            <td>0.44 s</td>\n",
       "                            \n",
       "                            <td>&#x2011;</td>\n",
       "                            \n",
       "                            <td>entropy</td>\n",
       "                            \n",
       "                            <td>&#x2011;</td>\n",
       "                            \n",
       "                            <td>&#x2011;</td>\n",
       "                            \n",
       "                            \n",
       "                            <td>0.940000</td>\n",
       "                            \n",
       "                            </tr>\n",
       "                            \n",
       "                            <tr>\n",
       "                            <td>qj4o0fbo</td>\n",
       "                            <td>Mon, 01 Jul 2019 15:52:13 GMT</td>\n",
       "                            <td>3.33 s</td>\n",
       "                            \n",
       "                            <td>3</td>\n",
       "                            \n",
       "                            <td>&#x2011;</td>\n",
       "                            \n",
       "                            <td>1</td>\n",
       "                            \n",
       "                            <td>adam optimizer</td>\n",
       "                            \n",
       "                            \n",
       "                            <td>0.000000</td>\n",
       "                            \n",
       "                            </tr>\n",
       "                            \n",
       "                            <tr>\n",
       "                            <td>bz4p0fmt</td>\n",
       "                            <td>Mon, 01 Jul 2019 15:52:35 GMT</td>\n",
       "                            <td>3.43 s</td>\n",
       "                            \n",
       "                            <td>3</td>\n",
       "                            \n",
       "                            <td>&#x2011;</td>\n",
       "                            \n",
       "                            <td>1</td>\n",
       "                            \n",
       "                            <td>adam optimizer</td>\n",
       "                            \n",
       "                            \n",
       "                            <td>0.000000</td>\n",
       "                            \n",
       "                            </tr>\n",
       "                            \n",
       "                            <tr>\n",
       "                            <td>yy4q0fg7</td>\n",
       "                            <td>Mon, 01 Jul 2019 16:39:57 GMT</td>\n",
       "                            <td>3.45 s</td>\n",
       "                            \n",
       "                            <td>3</td>\n",
       "                            \n",
       "                            <td>&#x2011;</td>\n",
       "                            \n",
       "                            <td>1</td>\n",
       "                            \n",
       "                            <td>adam optimizer</td>\n",
       "                            \n",
       "                            \n",
       "                            <td>0.000000</td>\n",
       "                            \n",
       "                            </tr>\n",
       "                            \n",
       "                        </tbody>\n",
       "                    </table>"
      ],
      "text/plain": [
       "<cortex.experiment.Experiment at 0x13459a6a0>"
      ]
     },
     "execution_count": 1,
     "metadata": {},
     "output_type": "execute_result"
    }
   ],
   "source": [
    "from cortex import Cortex, Message\n",
    "import pandas as pd\n",
    "import numpy as np\n",
    "import pandas as pd\n",
    "import matplotlib.pyplot as plt\n",
    "import seaborn as sns\n",
    "import pickle\n",
    "import os\n",
    "import sys\n",
    "import json\n",
    "import re\n",
    "import time\n",
    "import datetime\n",
    "import dill\n",
    "import sklearn\n",
    "\n",
    "client = Cortex.client()\n",
    "exp = client.experiment('flowers/iris-predict')\n",
    "\n",
    "exp"
   ]
  },
  {
   "cell_type": "code",
   "execution_count": 2,
   "metadata": {},
   "outputs": [
    {
     "name": "stderr",
     "output_type": "stream",
     "text": [
      "Using TensorFlow backend.\n"
     ]
    }
   ],
   "source": [
    "run = exp.get_run('yy4q0fg7')\n",
    "model = run.get_artifact('model')"
   ]
  },
  {
   "cell_type": "code",
   "execution_count": 3,
   "metadata": {},
   "outputs": [
    {
     "name": "stdout",
     "output_type": "stream",
     "text": [
      "Run id: yy4q0fg7 \n",
      "Model name: \"<function adam_opt_model at 0x14a40a950>\"\n"
     ]
    }
   ],
   "source": [
    "run = exp.last_run() \n",
    "\n",
    "model = run.get_artifact('model')\n",
    "\n",
    "print('Run id: %s \\nModel name: \"%s\"' %(run.id, model))"
   ]
  },
  {
   "cell_type": "code",
   "execution_count": 7,
   "metadata": {},
   "outputs": [
    {
     "name": "stdout",
     "output_type": "stream",
     "text": [
      "Building Cortex Action (function): flowers/iris-predict\n",
      "Building Docker image private-registry.cortex.insights.ai/thatguyluke/flowers_iris-predict:qo93ejp...\n",
      "Step 1/10 : FROM c12e/cortex-python36:7552534\n",
      "Step 2/10 : WORKDIR /function\n",
      "Step 3/10 : RUN conda config --add channels conda-forge\n",
      "Step 4/10 : COPY conda_requirements.txt .\n",
      "Step 5/10 : RUN conda install --yes --file conda_requirements.txt\n",
      "Step 6/10 : RUN pip install \"dill==0.2.8.2\" \"fdk==0.0.31\" \"cortex-client==7.0.0\"\n",
      "Step 7/10 : COPY requirements.txt .\n",
      "Step 8/10 : RUN pip install -r requirements.txt\n",
      "Step 9/10 : COPY action.py .\n",
      "Step 10/10 : ENTRYPOINT [\"python\", \"action.py\"]\n",
      "Successfully built 38dffbfb05d5\n",
      "Successfully tagged private-registry.cortex.insights.ai/thatguyluke/flowers_iris-predict:qo93ejp\n",
      "Image private-registry.cortex.insights.ai/thatguyluke/flowers_iris-predict:qo93ejp built in 0.297382 seconds\n",
      "Pushing image to remote repository...\n",
      "qo93ejp: digest: sha256:da4d6312e901e169c9e5ccf1fb9c4c438b65314a54e41eee0a1d45095d713c2a size: 3674\n",
      "Image private-registry.cortex.insights.ai/thatguyluke/flowers_iris-predict:qo93ejp pushed in 1.637548 seconds\n",
      "Cleaning up...\n"
     ]
    },
    {
     "data": {
      "text/html": [
       "\n",
       "        <table>\n",
       "            <thead>\n",
       "                <tr>\n",
       "                    <th>Name</th>\n",
       "                    <th>Version</th>\n",
       "                    <th>Type</th>\n",
       "                    <th>Kind</th>\n",
       "                    <th>Image</th>\n",
       "                    <th>Deployment Status</th>\n",
       "                </tr>\n",
       "            </thead>\n",
       "            <tbody>\n",
       "                <td>flowers/iris-predict</td>\n",
       "                <td>6</td>\n",
       "                <td>function</td>\n",
       "                <td>python:3</td>\n",
       "                <td>private-registry.cortex.insights.ai/thatguyluke/flowers_iris-predict:qo93ejp</td>\n",
       "                <td>COMPLETED</td>\n",
       "            </tbody>\n",
       "        </table>\n",
       "        "
      ],
      "text/plain": [
       "<cortex.action.Action at 0x14a44f898>"
      ]
     },
     "execution_count": 7,
     "metadata": {},
     "output_type": "execute_result"
    }
   ],
   "source": [
    "builder = client.builder()\n",
    "builder.action('flowers/iris-predict')\\\n",
    "        .with_requirements(['tensorflow>=1.12,<2',\n",
    "                            'keras>=2.2.4,<3'])\\\n",
    "        .from_model(model, model_type='tensorflow')\\\n",
    "        .build()"
   ]
  },
  {
   "cell_type": "code",
   "execution_count": 8,
   "metadata": {},
   "outputs": [
    {
     "data": {
      "text/html": [
       "\n",
       "        <table>\n",
       "            <thead>\n",
       "                <tr>\n",
       "                    <th>Name</th>\n",
       "                    <th>Version</th>\n",
       "                    <th>Type</th>\n",
       "                    <th>Kind</th>\n",
       "                    <th>Image</th>\n",
       "                    <th>Deployment Status</th>\n",
       "                </tr>\n",
       "            </thead>\n",
       "            <tbody>\n",
       "                <td>flowers/iris-predict</td>\n",
       "                <td>6</td>\n",
       "                <td>function</td>\n",
       "                <td>python:3</td>\n",
       "                <td>private-registry.cortex.insights.ai/thatguyluke/flowers_iris-predict:qo93ejp</td>\n",
       "                <td>COMPLETED</td>\n",
       "            </tbody>\n",
       "        </table>\n",
       "        "
      ],
      "text/plain": [
       "<cortex.action.Action at 0x14a44ff28>"
      ]
     },
     "execution_count": 8,
     "metadata": {},
     "output_type": "execute_result"
    }
   ],
   "source": [
    "action = client.action('flowers/iris-predict')\n",
    "action"
   ]
  },
  {
   "cell_type": "code",
   "execution_count": 17,
   "metadata": {},
   "outputs": [
    {
     "name": "stderr",
     "output_type": "stream",
     "text": [
      "2019-07-01 15:47:29,763 - INFO - cortex_client.client/client: Status: 500, Message: {\"success\":false,\"error\":\"500 - {\\\"error\\\":{\\\"message\\\":\\\"Shape of passed values is (1, 4), indices imply (4, 4)\\\"}}\"}\n",
      "I0701 15:47:29.763242 4564891072 client.py:47] Status: 500, Message: {\"success\":false,\"error\":\"500 - {\\\"error\\\":{\\\"message\\\":\\\"Shape of passed values is (1, 4), indices imply (4, 4)\\\"}}\"}\n"
     ]
    },
    {
     "ename": "HTTPError",
     "evalue": "500 Server Error: Internal Server Error for url: https://api.cortex.insights.ai/v3/actions/flowers/iris-predict/invoke",
     "output_type": "error",
     "traceback": [
      "\u001b[0;31m---------------------------------------------------------------------------\u001b[0m",
      "\u001b[0;31mHTTPError\u001b[0m                                 Traceback (most recent call last)",
      "\u001b[0;32m<ipython-input-17-2b32bd793ee8>\u001b[0m in \u001b[0;36m<module>\u001b[0;34m()\u001b[0m\n\u001b[1;32m      2\u001b[0m            'values': [4.9,3.1,1.5,0.2]}\n\u001b[1;32m      3\u001b[0m \u001b[0mframe\u001b[0m \u001b[0;34m=\u001b[0m \u001b[0mpd\u001b[0m\u001b[0;34m.\u001b[0m\u001b[0mDataFrame\u001b[0m\u001b[0;34m(\u001b[0m\u001b[0mparams\u001b[0m\u001b[0;34m)\u001b[0m\u001b[0;34m\u001b[0m\u001b[0;34m\u001b[0m\u001b[0m\n\u001b[0;32m----> 4\u001b[0;31m \u001b[0mresult\u001b[0m \u001b[0;34m=\u001b[0m \u001b[0maction\u001b[0m\u001b[0;34m.\u001b[0m\u001b[0minvoke\u001b[0m\u001b[0;34m(\u001b[0m\u001b[0mmessage\u001b[0m\u001b[0;34m=\u001b[0m\u001b[0mclient\u001b[0m\u001b[0;34m.\u001b[0m\u001b[0mmessage\u001b[0m\u001b[0;34m(\u001b[0m\u001b[0mparams\u001b[0m\u001b[0;34m)\u001b[0m\u001b[0;34m)\u001b[0m\u001b[0;34m\u001b[0m\u001b[0;34m\u001b[0m\u001b[0m\n\u001b[0m\u001b[1;32m      5\u001b[0m \u001b[0mprint\u001b[0m\u001b[0;34m(\u001b[0m\u001b[0mresult\u001b[0m\u001b[0;34m.\u001b[0m\u001b[0mpayload\u001b[0m\u001b[0;34m)\u001b[0m\u001b[0;34m\u001b[0m\u001b[0;34m\u001b[0m\u001b[0m\n",
      "\u001b[0;32m~/miniconda3/lib/python3.7/site-packages/cortex/action.py\u001b[0m in \u001b[0;36minvoke\u001b[0;34m(self, message, timeout)\u001b[0m\n\u001b[1;32m     40\u001b[0m         \"\"\"\n\u001b[1;32m     41\u001b[0m         \u001b[0maction_client\u001b[0m \u001b[0;34m=\u001b[0m \u001b[0mActionClient\u001b[0m\u001b[0;34m(\u001b[0m\u001b[0mself\u001b[0m\u001b[0;34m.\u001b[0m\u001b[0m_connector\u001b[0m\u001b[0;34m.\u001b[0m\u001b[0murl\u001b[0m\u001b[0;34m,\u001b[0m \u001b[0mself\u001b[0m\u001b[0;34m.\u001b[0m\u001b[0m_connector\u001b[0m\u001b[0;34m.\u001b[0m\u001b[0mversion\u001b[0m\u001b[0;34m,\u001b[0m \u001b[0mself\u001b[0m\u001b[0;34m.\u001b[0m\u001b[0m_connector\u001b[0m\u001b[0;34m.\u001b[0m\u001b[0mtoken\u001b[0m\u001b[0;34m)\u001b[0m\u001b[0;34m\u001b[0m\u001b[0;34m\u001b[0m\u001b[0m\n\u001b[0;32m---> 42\u001b[0;31m         \u001b[0;32mreturn\u001b[0m \u001b[0mMessage\u001b[0m\u001b[0;34m(\u001b[0m\u001b[0maction_client\u001b[0m\u001b[0;34m.\u001b[0m\u001b[0minvoke_action\u001b[0m\u001b[0;34m(\u001b[0m\u001b[0mself\u001b[0m\u001b[0;34m.\u001b[0m\u001b[0mname\u001b[0m\u001b[0;34m,\u001b[0m \u001b[0mmessage\u001b[0m\u001b[0;34m.\u001b[0m\u001b[0mto_params\u001b[0m\u001b[0;34m(\u001b[0m\u001b[0;34m)\u001b[0m\u001b[0;34m)\u001b[0m\u001b[0;34m)\u001b[0m\u001b[0;34m\u001b[0m\u001b[0;34m\u001b[0m\u001b[0m\n\u001b[0m\u001b[1;32m     43\u001b[0m \u001b[0;34m\u001b[0m\u001b[0m\n\u001b[1;32m     44\u001b[0m     \u001b[0;32mdef\u001b[0m \u001b[0mget_deployment_status\u001b[0m\u001b[0;34m(\u001b[0m\u001b[0mself\u001b[0m\u001b[0;34m)\u001b[0m\u001b[0;34m:\u001b[0m\u001b[0;34m\u001b[0m\u001b[0;34m\u001b[0m\u001b[0m\n",
      "\u001b[0;32m~/miniconda3/lib/python3.7/site-packages/cortex_client/actionclient.py\u001b[0m in \u001b[0;36minvoke_action\u001b[0;34m(self, action_name, params)\u001b[0m\n\u001b[1;32m    102\u001b[0m         \"\"\"\n\u001b[1;32m    103\u001b[0m         \u001b[0muri\u001b[0m \u001b[0;34m=\u001b[0m \u001b[0mself\u001b[0m\u001b[0;34m.\u001b[0m\u001b[0mURIs\u001b[0m\u001b[0;34m[\u001b[0m\u001b[0;34m'invoke'\u001b[0m\u001b[0;34m]\u001b[0m\u001b[0;34m.\u001b[0m\u001b[0mformat\u001b[0m\u001b[0;34m(\u001b[0m\u001b[0maction_name\u001b[0m\u001b[0;34m=\u001b[0m\u001b[0maction_name\u001b[0m\u001b[0;34m)\u001b[0m\u001b[0;34m\u001b[0m\u001b[0;34m\u001b[0m\u001b[0m\n\u001b[0;32m--> 104\u001b[0;31m         \u001b[0;32mreturn\u001b[0m \u001b[0mself\u001b[0m\u001b[0;34m.\u001b[0m\u001b[0m_post_json\u001b[0m\u001b[0;34m(\u001b[0m\u001b[0muri\u001b[0m\u001b[0;34m,\u001b[0m \u001b[0mparams\u001b[0m\u001b[0;34m)\u001b[0m\u001b[0;34m\u001b[0m\u001b[0;34m\u001b[0m\u001b[0m\n\u001b[0m\u001b[1;32m    105\u001b[0m \u001b[0;34m\u001b[0m\u001b[0m\n\u001b[1;32m    106\u001b[0m     \u001b[0;32mdef\u001b[0m \u001b[0mget_logs\u001b[0m\u001b[0;34m(\u001b[0m\u001b[0mself\u001b[0m\u001b[0;34m,\u001b[0m \u001b[0maction_name\u001b[0m\u001b[0;34m)\u001b[0m \u001b[0;34m->\u001b[0m \u001b[0mDict\u001b[0m\u001b[0;34m[\u001b[0m\u001b[0mstr\u001b[0m\u001b[0;34m,\u001b[0m \u001b[0mobject\u001b[0m\u001b[0;34m]\u001b[0m\u001b[0;34m:\u001b[0m\u001b[0;34m\u001b[0m\u001b[0;34m\u001b[0m\u001b[0m\n",
      "\u001b[0;32m~/miniconda3/lib/python3.7/site-packages/cortex_client/client.py\u001b[0m in \u001b[0;36m_post_json\u001b[0;34m(self, uri, obj)\u001b[0m\n\u001b[1;32m     46\u001b[0m         \u001b[0;32mif\u001b[0m \u001b[0mr\u001b[0m\u001b[0;34m.\u001b[0m\u001b[0mstatus_code\u001b[0m \u001b[0;32mnot\u001b[0m \u001b[0;32min\u001b[0m \u001b[0;34m[\u001b[0m\u001b[0mrequests\u001b[0m\u001b[0;34m.\u001b[0m\u001b[0mcodes\u001b[0m\u001b[0;34m.\u001b[0m\u001b[0mok\u001b[0m\u001b[0;34m,\u001b[0m \u001b[0mrequests\u001b[0m\u001b[0;34m.\u001b[0m\u001b[0mcodes\u001b[0m\u001b[0;34m.\u001b[0m\u001b[0mcreated\u001b[0m\u001b[0;34m]\u001b[0m\u001b[0;34m:\u001b[0m\u001b[0;34m\u001b[0m\u001b[0;34m\u001b[0m\u001b[0m\n\u001b[1;32m     47\u001b[0m             \u001b[0mlog\u001b[0m\u001b[0;34m.\u001b[0m\u001b[0minfo\u001b[0m\u001b[0;34m(\u001b[0m\u001b[0;34m\"Status: {}, Message: {}\"\u001b[0m\u001b[0;34m.\u001b[0m\u001b[0mformat\u001b[0m\u001b[0;34m(\u001b[0m\u001b[0mr\u001b[0m\u001b[0;34m.\u001b[0m\u001b[0mstatus_code\u001b[0m\u001b[0;34m,\u001b[0m \u001b[0mr\u001b[0m\u001b[0;34m.\u001b[0m\u001b[0mtext\u001b[0m\u001b[0;34m)\u001b[0m\u001b[0;34m)\u001b[0m\u001b[0;34m\u001b[0m\u001b[0;34m\u001b[0m\u001b[0m\n\u001b[0;32m---> 48\u001b[0;31m         \u001b[0mr\u001b[0m\u001b[0;34m.\u001b[0m\u001b[0mraise_for_status\u001b[0m\u001b[0;34m(\u001b[0m\u001b[0;34m)\u001b[0m\u001b[0;34m\u001b[0m\u001b[0;34m\u001b[0m\u001b[0m\n\u001b[0m\u001b[1;32m     49\u001b[0m         \u001b[0;32mreturn\u001b[0m \u001b[0mr\u001b[0m\u001b[0;34m.\u001b[0m\u001b[0mjson\u001b[0m\u001b[0;34m(\u001b[0m\u001b[0;34m)\u001b[0m\u001b[0;34m\u001b[0m\u001b[0;34m\u001b[0m\u001b[0m\n\u001b[1;32m     50\u001b[0m \u001b[0;34m\u001b[0m\u001b[0m\n",
      "\u001b[0;32m~/miniconda3/lib/python3.7/site-packages/requests/models.py\u001b[0m in \u001b[0;36mraise_for_status\u001b[0;34m(self)\u001b[0m\n\u001b[1;32m    938\u001b[0m \u001b[0;34m\u001b[0m\u001b[0m\n\u001b[1;32m    939\u001b[0m         \u001b[0;32mif\u001b[0m \u001b[0mhttp_error_msg\u001b[0m\u001b[0;34m:\u001b[0m\u001b[0;34m\u001b[0m\u001b[0;34m\u001b[0m\u001b[0m\n\u001b[0;32m--> 940\u001b[0;31m             \u001b[0;32mraise\u001b[0m \u001b[0mHTTPError\u001b[0m\u001b[0;34m(\u001b[0m\u001b[0mhttp_error_msg\u001b[0m\u001b[0;34m,\u001b[0m \u001b[0mresponse\u001b[0m\u001b[0;34m=\u001b[0m\u001b[0mself\u001b[0m\u001b[0;34m)\u001b[0m\u001b[0;34m\u001b[0m\u001b[0;34m\u001b[0m\u001b[0m\n\u001b[0m\u001b[1;32m    941\u001b[0m \u001b[0;34m\u001b[0m\u001b[0m\n\u001b[1;32m    942\u001b[0m     \u001b[0;32mdef\u001b[0m \u001b[0mclose\u001b[0m\u001b[0;34m(\u001b[0m\u001b[0mself\u001b[0m\u001b[0;34m)\u001b[0m\u001b[0;34m:\u001b[0m\u001b[0;34m\u001b[0m\u001b[0;34m\u001b[0m\u001b[0m\n",
      "\u001b[0;31mHTTPError\u001b[0m: 500 Server Error: Internal Server Error for url: https://api.cortex.insights.ai/v3/actions/flowers/iris-predict/invoke"
     ]
    }
   ],
   "source": [
    "params = {'columns': ['sepal_len','sepal_w','petal_len','petal_w'],\n",
    "           'values': [4.9,3.1,1.5,0.2]}\n",
    "frame = pd.DataFrame(params)\n",
    "result = action.invoke(message=client.message(params))\n",
    "print(result.payload)"
   ]
  },
  {
   "cell_type": "code",
   "execution_count": 12,
   "metadata": {},
   "outputs": [
    {
     "ename": "NameError",
     "evalue": "name 'result' is not defined",
     "output_type": "error",
     "traceback": [
      "\u001b[0;31m---------------------------------------------------------------------------\u001b[0m",
      "\u001b[0;31mNameError\u001b[0m                                 Traceback (most recent call last)",
      "\u001b[0;32m<ipython-input-12-69d76b89e025>\u001b[0m in \u001b[0;36m<module>\u001b[0;34m()\u001b[0m\n\u001b[0;32m----> 1\u001b[0;31m \u001b[0mx\u001b[0m \u001b[0;34m=\u001b[0m \u001b[0mnp\u001b[0m\u001b[0;34m.\u001b[0m\u001b[0margmax\u001b[0m\u001b[0;34m(\u001b[0m\u001b[0mresult\u001b[0m\u001b[0;34m.\u001b[0m\u001b[0mpayload\u001b[0m\u001b[0;34m[\u001b[0m\u001b[0;34m'values'\u001b[0m\u001b[0;34m]\u001b[0m\u001b[0;34m[\u001b[0m\u001b[0;36m0\u001b[0m\u001b[0;34m]\u001b[0m\u001b[0;34m)\u001b[0m\u001b[0;34m\u001b[0m\u001b[0;34m\u001b[0m\u001b[0m\n\u001b[0m\u001b[1;32m      2\u001b[0m \u001b[0;34m\u001b[0m\u001b[0m\n\u001b[1;32m      3\u001b[0m \u001b[0miris_dict\u001b[0m \u001b[0;34m=\u001b[0m \u001b[0;34m{\u001b[0m\u001b[0;36m0\u001b[0m\u001b[0;34m:\u001b[0m\u001b[0;34m'Iris-setosa'\u001b[0m\u001b[0;34m,\u001b[0m\u001b[0;36m1\u001b[0m\u001b[0;34m:\u001b[0m\u001b[0;34m'Iris-versicolor'\u001b[0m\u001b[0;34m,\u001b[0m\u001b[0;36m2\u001b[0m\u001b[0;34m:\u001b[0m\u001b[0;34m'Iris-virginica'\u001b[0m\u001b[0;34m}\u001b[0m\u001b[0;34m\u001b[0m\u001b[0;34m\u001b[0m\u001b[0m\n\u001b[1;32m      4\u001b[0m \u001b[0;34m\u001b[0m\u001b[0m\n\u001b[1;32m      5\u001b[0m \u001b[0miris_dict\u001b[0m\u001b[0;34m[\u001b[0m\u001b[0mx\u001b[0m\u001b[0;34m]\u001b[0m\u001b[0;34m\u001b[0m\u001b[0;34m\u001b[0m\u001b[0m\n",
      "\u001b[0;31mNameError\u001b[0m: name 'result' is not defined"
     ]
    }
   ],
   "source": [
    "x = np.argmax(result.payload['values'][0])\n",
    "\n",
    "iris_dict = {0:'Iris-setosa',1:'Iris-versicolor',2:'Iris-virginica'}\n",
    "\n",
    "iris_dict[x]"
   ]
  },
  {
   "cell_type": "markdown",
   "metadata": {},
   "source": [
    "**Create Skill Using the Action**\n",
    "\n",
    "To create a skill from the action, call the builder to get a skill builder."
   ]
  },
  {
   "cell_type": "code",
   "execution_count": null,
   "metadata": {},
   "outputs": [],
   "source": [
    "skill_builder = builder.skill('flowers/iris-predict')\\\n",
    "     .title('Iris Flower Prediction')\\\n",
    "     .description('Measurement based prediction for the type of Iris flowers.')"
   ]
  },
  {
   "cell_type": "markdown",
   "metadata": {},
   "source": [
    "A resulting schema is used by the skill builder to identify elements of the input. In this example, the schema describes the measurement values for parts of the Iris flower."
   ]
  },
  {
   "cell_type": "code",
   "execution_count": null,
   "metadata": {},
   "outputs": [],
   "source": [
    "schema_name = 'flowers/iris-input-schema'\n",
    "\n",
    "builder.schema(schema_name)\\\n",
    "     .title('Iris Prediction Schema Instance')\\\n",
    "     .from_parameters([{'name': 'values', 'type': 'array', 'format': 'float32'}]).build()\n",
    "\n",
    "skill_builder = skill_builder.input('iris-measurement').title('Iris Measurements')\\\n",
    "     .use_schema(schema_name)\\\n",
    "     .all_routing(action, 'measurement-based-prediction').build()"
   ]
  },
  {
   "cell_type": "markdown",
   "metadata": {},
   "source": [
    "Specify the skill construction. The construction describes the skill including a name that matches the action name and a description of the output."
   ]
  },
  {
   "cell_type": "code",
   "execution_count": null,
   "metadata": {},
   "outputs": [],
   "source": [
    "skill_builder = skill_builder.output('measurement-based-prediction').title('Classification')\\\n",
    "    .parameter(name='IrisClass', type='array', format='float32').build()"
   ]
  },
  {
   "cell_type": "markdown",
   "metadata": {},
   "source": [
    "With the skill builder fully specified, call to_camel so the skill’s contents can be reviewed."
   ]
  },
  {
   "cell_type": "code",
   "execution_count": null,
   "metadata": {},
   "outputs": [],
   "source": [
    "skill_builder.to_camel()"
   ]
  },
  {
   "cell_type": "markdown",
   "metadata": {},
   "source": [
    "**Publish the Skill**\n",
    "\n",
    "Invoke the builder to publish the skill. Upon publication, the skill can be used in Cortex Studio with other skills to compose agents."
   ]
  },
  {
   "cell_type": "code",
   "execution_count": null,
   "metadata": {},
   "outputs": [],
   "source": [
    "skill = skill_builder.build()\n",
    "print('%s (%s) v%d' % (skill.title, skill.name, skill.version))"
   ]
  }
 ],
 "metadata": {
  "kernelspec": {
   "display_name": "Python 3",
   "language": "python",
   "name": "python3"
  },
  "language_info": {
   "codemirror_mode": {
    "name": "ipython",
    "version": 3
   },
   "file_extension": ".py",
   "mimetype": "text/x-python",
   "name": "python",
   "nbconvert_exporter": "python",
   "pygments_lexer": "ipython3",
   "version": "3.7.1"
  }
 },
 "nbformat": 4,
 "nbformat_minor": 2
}
