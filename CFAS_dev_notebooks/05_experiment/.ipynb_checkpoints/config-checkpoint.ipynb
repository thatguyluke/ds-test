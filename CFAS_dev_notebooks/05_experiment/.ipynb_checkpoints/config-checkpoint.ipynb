{
 "cells": [
  {
   "cell_type": "code",
   "execution_count": 1,
   "metadata": {},
   "outputs": [],
   "source": [
    "import warnings\n",
    "warnings.filterwarnings(\"ignore\")"
   ]
  },
  {
   "cell_type": "code",
   "execution_count": 2,
   "metadata": {},
   "outputs": [
    {
     "name": "stdout",
     "output_type": "stream",
     "text": [
      "Requirement already satisfied: cortex-client==6.0.4 in /Users/ltwardowski/miniconda3/lib/python3.7/site-packages (6.0.4)\n",
      "Requirement already satisfied: diskcache<3.1,>=3.0.5 in /Users/ltwardowski/miniconda3/lib/python3.7/site-packages (from cortex-client==6.0.4) (3.0.6)\n",
      "Requirement already satisfied: dill==0.2.8.2 in /Users/ltwardowski/miniconda3/lib/python3.7/site-packages (from cortex-client==6.0.4) (0.2.8.2)\n",
      "Requirement already satisfied: matplotlib<3,>=2.2.2 in /Users/ltwardowski/miniconda3/lib/python3.7/site-packages (from cortex-client==6.0.4) (2.2.3)\n",
      "Requirement already satisfied: discovery-transitioning-utils<2,>=1.3.50 in /Users/ltwardowski/miniconda3/lib/python3.7/site-packages (from cortex-client==6.0.4) (1.9.53)\n",
      "Requirement already satisfied: requests<3,>=2.12.4 in /Users/ltwardowski/miniconda3/lib/python3.7/site-packages (from cortex-client==6.0.4) (2.21.0)\n",
      "Requirement already satisfied: requests-toolbelt==0.8.0 in /Users/ltwardowski/miniconda3/lib/python3.7/site-packages (from cortex-client==6.0.4) (0.8.0)\n",
      "Requirement already satisfied: Flask==1.0.2 in /Users/ltwardowski/miniconda3/lib/python3.7/site-packages (from cortex-client==6.0.4) (1.0.2)\n",
      "Requirement already satisfied: seaborn<0.10,>=0.9.0 in /Users/ltwardowski/miniconda3/lib/python3.7/site-packages (from cortex-client==6.0.4) (0.9.0)\n",
      "Requirement already satisfied: docker==3.5.0 in /Users/ltwardowski/miniconda3/lib/python3.7/site-packages (from cortex-client==6.0.4) (3.5.0)\n",
      "Requirement already satisfied: tenacity==5.0.2 in /Users/ltwardowski/miniconda3/lib/python3.7/site-packages (from cortex-client==6.0.4) (5.0.2)\n",
      "Requirement already satisfied: maya==0.5.0 in /Users/ltwardowski/miniconda3/lib/python3.7/site-packages (from cortex-client==6.0.4) (0.5.0)\n",
      "Requirement already satisfied: cuid<1,>=0.3 in /Users/ltwardowski/miniconda3/lib/python3.7/site-packages (from cortex-client==6.0.4) (0.3)\n",
      "Requirement already satisfied: deprecation==2.0.6 in /Users/ltwardowski/miniconda3/lib/python3.7/site-packages (from cortex-client==6.0.4) (2.0.6)\n",
      "Requirement already satisfied: pyjwt<2,>=1.6.1 in /Users/ltwardowski/miniconda3/lib/python3.7/site-packages (from cortex-client==6.0.4) (1.7.1)\n",
      "Requirement already satisfied: ipython<7,>=6.4.0 in /Users/ltwardowski/miniconda3/lib/python3.7/site-packages (from cortex-client==6.0.4) (6.5.0)\n",
      "Requirement already satisfied: pyyaml<4,>=3.13 in /Users/ltwardowski/miniconda3/lib/python3.7/site-packages (from cortex-client==6.0.4) (3.13)\n",
      "Requirement already satisfied: more-itertools<5,>=4.3.0 in /Users/ltwardowski/miniconda3/lib/python3.7/site-packages (from cortex-client==6.0.4) (4.3.0)\n",
      "Requirement already satisfied: pyparsing!=2.0.4,!=2.1.2,!=2.1.6,>=2.0.1 in /Users/ltwardowski/miniconda3/lib/python3.7/site-packages (from matplotlib<3,>=2.2.2->cortex-client==6.0.4) (2.3.1)\n",
      "Requirement already satisfied: cycler>=0.10 in /Users/ltwardowski/miniconda3/lib/python3.7/site-packages (from matplotlib<3,>=2.2.2->cortex-client==6.0.4) (0.10.0)\n",
      "Requirement already satisfied: pytz in /Users/ltwardowski/miniconda3/lib/python3.7/site-packages (from matplotlib<3,>=2.2.2->cortex-client==6.0.4) (2018.9)\n",
      "Requirement already satisfied: kiwisolver>=1.0.1 in /Users/ltwardowski/miniconda3/lib/python3.7/site-packages (from matplotlib<3,>=2.2.2->cortex-client==6.0.4) (1.0.1)\n",
      "Requirement already satisfied: six>=1.10 in /Users/ltwardowski/miniconda3/lib/python3.7/site-packages (from matplotlib<3,>=2.2.2->cortex-client==6.0.4) (1.12.0)\n",
      "Requirement already satisfied: python-dateutil>=2.1 in /Users/ltwardowski/miniconda3/lib/python3.7/site-packages (from matplotlib<3,>=2.2.2->cortex-client==6.0.4) (2.8.0)\n",
      "Requirement already satisfied: numpy>=1.7.1 in /Users/ltwardowski/miniconda3/lib/python3.7/site-packages (from matplotlib<3,>=2.2.2->cortex-client==6.0.4) (1.15.4)\n",
      "Requirement already satisfied: xlsxwriter in /Users/ltwardowski/miniconda3/lib/python3.7/site-packages (from discovery-transitioning-utils<2,>=1.3.50->cortex-client==6.0.4) (1.1.2)\n",
      "Requirement already satisfied: pyarrow in /Users/ltwardowski/miniconda3/lib/python3.7/site-packages (from discovery-transitioning-utils<2,>=1.3.50->cortex-client==6.0.4) (0.13.0)\n",
      "Requirement already satisfied: boto3 in /Users/ltwardowski/miniconda3/lib/python3.7/site-packages (from discovery-transitioning-utils<2,>=1.3.50->cortex-client==6.0.4) (1.9.176)\n",
      "Requirement already satisfied: xlrd in /Users/ltwardowski/miniconda3/lib/python3.7/site-packages (from discovery-transitioning-utils<2,>=1.3.50->cortex-client==6.0.4) (1.2.0)\n",
      "Requirement already satisfied: pandas in /Users/ltwardowski/miniconda3/lib/python3.7/site-packages (from discovery-transitioning-utils<2,>=1.3.50->cortex-client==6.0.4) (0.23.4)\n",
      "Requirement already satisfied: idna<2.9,>=2.5 in /Users/ltwardowski/miniconda3/lib/python3.7/site-packages (from requests<3,>=2.12.4->cortex-client==6.0.4) (2.8)\n",
      "Requirement already satisfied: certifi>=2017.4.17 in /Users/ltwardowski/miniconda3/lib/python3.7/site-packages (from requests<3,>=2.12.4->cortex-client==6.0.4) (2019.3.9)\n",
      "Requirement already satisfied: urllib3<1.25,>=1.21.1 in /Users/ltwardowski/miniconda3/lib/python3.7/site-packages (from requests<3,>=2.12.4->cortex-client==6.0.4) (1.24.1)\n",
      "Requirement already satisfied: chardet<3.1.0,>=3.0.2 in /Users/ltwardowski/miniconda3/lib/python3.7/site-packages (from requests<3,>=2.12.4->cortex-client==6.0.4) (3.0.4)\n",
      "Requirement already satisfied: Werkzeug>=0.14 in /Users/ltwardowski/miniconda3/lib/python3.7/site-packages (from Flask==1.0.2->cortex-client==6.0.4) (0.14.1)\n",
      "Requirement already satisfied: itsdangerous>=0.24 in /Users/ltwardowski/miniconda3/lib/python3.7/site-packages (from Flask==1.0.2->cortex-client==6.0.4) (1.1.0)\n",
      "Requirement already satisfied: click>=5.1 in /Users/ltwardowski/miniconda3/lib/python3.7/site-packages (from Flask==1.0.2->cortex-client==6.0.4) (7.0)\n",
      "Requirement already satisfied: Jinja2>=2.10 in /Users/ltwardowski/miniconda3/lib/python3.7/site-packages (from Flask==1.0.2->cortex-client==6.0.4) (2.10.1)\n",
      "Requirement already satisfied: scipy>=0.14.0 in /Users/ltwardowski/miniconda3/lib/python3.7/site-packages (from seaborn<0.10,>=0.9.0->cortex-client==6.0.4) (1.2.0)\n",
      "Requirement already satisfied: docker-pycreds>=0.3.0 in /Users/ltwardowski/miniconda3/lib/python3.7/site-packages (from docker==3.5.0->cortex-client==6.0.4) (0.4.0)\n",
      "Requirement already satisfied: websocket-client>=0.32.0 in /Users/ltwardowski/miniconda3/lib/python3.7/site-packages (from docker==3.5.0->cortex-client==6.0.4) (0.54.0)\n",
      "Requirement already satisfied: dateparser>=0.7.0 in /Users/ltwardowski/miniconda3/lib/python3.7/site-packages (from maya==0.5.0->cortex-client==6.0.4) (0.7.0)\n",
      "Requirement already satisfied: tzlocal in /Users/ltwardowski/miniconda3/lib/python3.7/site-packages (from maya==0.5.0->cortex-client==6.0.4) (1.5.1)\n",
      "Requirement already satisfied: humanize in /Users/ltwardowski/miniconda3/lib/python3.7/site-packages (from maya==0.5.0->cortex-client==6.0.4) (0.5.1)\n",
      "Requirement already satisfied: snaptime in /Users/ltwardowski/miniconda3/lib/python3.7/site-packages (from maya==0.5.0->cortex-client==6.0.4) (0.2.4)\n",
      "Requirement already satisfied: pendulum<=1.5.1,>=1.0 in /Users/ltwardowski/miniconda3/lib/python3.7/site-packages (from maya==0.5.0->cortex-client==6.0.4) (1.5.1)\n",
      "Requirement already satisfied: packaging in /Users/ltwardowski/miniconda3/lib/python3.7/site-packages (from deprecation==2.0.6->cortex-client==6.0.4) (19.0)\n",
      "Requirement already satisfied: appnope; sys_platform == \"darwin\" in /Users/ltwardowski/miniconda3/lib/python3.7/site-packages (from ipython<7,>=6.4.0->cortex-client==6.0.4) (0.1.0)\n",
      "Requirement already satisfied: backcall in /Users/ltwardowski/miniconda3/lib/python3.7/site-packages (from ipython<7,>=6.4.0->cortex-client==6.0.4) (0.1.0)\n",
      "Requirement already satisfied: pexpect; sys_platform != \"win32\" in /Users/ltwardowski/miniconda3/lib/python3.7/site-packages (from ipython<7,>=6.4.0->cortex-client==6.0.4) (4.7.0)\n",
      "Requirement already satisfied: jedi>=0.10 in /Users/ltwardowski/miniconda3/lib/python3.7/site-packages (from ipython<7,>=6.4.0->cortex-client==6.0.4) (0.13.3)\n",
      "Requirement already satisfied: traitlets>=4.2 in /Users/ltwardowski/miniconda3/lib/python3.7/site-packages (from ipython<7,>=6.4.0->cortex-client==6.0.4) (4.3.2)\n",
      "Requirement already satisfied: pygments in /Users/ltwardowski/miniconda3/lib/python3.7/site-packages (from ipython<7,>=6.4.0->cortex-client==6.0.4) (2.4.2)\n",
      "Requirement already satisfied: setuptools>=18.5 in /Users/ltwardowski/miniconda3/lib/python3.7/site-packages (from ipython<7,>=6.4.0->cortex-client==6.0.4) (41.0.0)\n",
      "Requirement already satisfied: decorator in /Users/ltwardowski/miniconda3/lib/python3.7/site-packages (from ipython<7,>=6.4.0->cortex-client==6.0.4) (4.4.0)\n",
      "Requirement already satisfied: pickleshare in /Users/ltwardowski/miniconda3/lib/python3.7/site-packages (from ipython<7,>=6.4.0->cortex-client==6.0.4) (0.7.5)\n",
      "Requirement already satisfied: prompt-toolkit<2.0.0,>=1.0.15 in /Users/ltwardowski/miniconda3/lib/python3.7/site-packages (from ipython<7,>=6.4.0->cortex-client==6.0.4) (1.0.16)\n",
      "Requirement already satisfied: simplegeneric>0.8 in /Users/ltwardowski/miniconda3/lib/python3.7/site-packages (from ipython<7,>=6.4.0->cortex-client==6.0.4) (0.8.1)\n",
      "Requirement already satisfied: botocore<1.13.0,>=1.12.176 in /Users/ltwardowski/miniconda3/lib/python3.7/site-packages (from boto3->discovery-transitioning-utils<2,>=1.3.50->cortex-client==6.0.4) (1.12.176)\n",
      "Requirement already satisfied: jmespath<1.0.0,>=0.7.1 in /Users/ltwardowski/miniconda3/lib/python3.7/site-packages (from boto3->discovery-transitioning-utils<2,>=1.3.50->cortex-client==6.0.4) (0.9.4)\n",
      "Requirement already satisfied: s3transfer<0.3.0,>=0.2.0 in /Users/ltwardowski/miniconda3/lib/python3.7/site-packages (from boto3->discovery-transitioning-utils<2,>=1.3.50->cortex-client==6.0.4) (0.2.1)\n",
      "Requirement already satisfied: MarkupSafe>=0.23 in /Users/ltwardowski/miniconda3/lib/python3.7/site-packages (from Jinja2>=2.10->Flask==1.0.2->cortex-client==6.0.4) (1.1.1)\n",
      "Requirement already satisfied: regex in /Users/ltwardowski/miniconda3/lib/python3.7/site-packages (from dateparser>=0.7.0->maya==0.5.0->cortex-client==6.0.4) (2018.11.22)\n",
      "Requirement already satisfied: pytzdata>=2018.3.0.0 in /Users/ltwardowski/miniconda3/lib/python3.7/site-packages (from pendulum<=1.5.1,>=1.0->maya==0.5.0->cortex-client==6.0.4) (2018.7)\n",
      "Requirement already satisfied: ptyprocess>=0.5 in /Users/ltwardowski/miniconda3/lib/python3.7/site-packages (from pexpect; sys_platform != \"win32\"->ipython<7,>=6.4.0->cortex-client==6.0.4) (0.6.0)\n",
      "Requirement already satisfied: parso>=0.3.0 in /Users/ltwardowski/miniconda3/lib/python3.7/site-packages (from jedi>=0.10->ipython<7,>=6.4.0->cortex-client==6.0.4) (0.4.0)\n",
      "Requirement already satisfied: ipython_genutils in /Users/ltwardowski/miniconda3/lib/python3.7/site-packages (from traitlets>=4.2->ipython<7,>=6.4.0->cortex-client==6.0.4) (0.2.0)\n",
      "Requirement already satisfied: wcwidth in /Users/ltwardowski/miniconda3/lib/python3.7/site-packages (from prompt-toolkit<2.0.0,>=1.0.15->ipython<7,>=6.4.0->cortex-client==6.0.4) (0.1.7)\n",
      "Requirement already satisfied: docutils>=0.10 in /Users/ltwardowski/miniconda3/lib/python3.7/site-packages (from botocore<1.13.0,>=1.12.176->boto3->discovery-transitioning-utils<2,>=1.3.50->cortex-client==6.0.4) (0.14)\n"
     ]
    }
   ],
   "source": [
    "import pkg_resources\n",
    "_cortex_sdk_version = pkg_resources.get_distribution(\"cortex-client\").version\n",
    "\n",
    "\n",
    "print(_cortex_sdk_version) \n",
    "if _cortex_sdk_version!=('7.0.0'):\n",
    "    print(\"Updating Cortex SDK\")\n",
    "    !pip install cortex-client==7.0.0 \n",
    "else:\n",
    "    print(\"You are already using Cortex 7.0.0\")"
   ]
  },
  {
   "cell_type": "code",
   "execution_count": 2,
   "metadata": {},
   "outputs": [],
   "source": [
    "import numpy as np\n",
    "import pandas as pd\n",
    "import matplotlib.pyplot as plt\n",
    "import seaborn as sns\n",
    "import pickle\n",
    "import os\n",
    "import sys\n",
    "import json\n",
    "import re\n",
    "import time\n",
    "import datetime\n",
    "import dill\n",
    "import sklearn\n",
    "from cortex import Cortex, Message"
   ]
  },
  {
   "cell_type": "code",
   "execution_count": 3,
   "metadata": {},
   "outputs": [
    {
     "name": "stdout",
     "output_type": "stream",
     "text": [
      "Cortex Python SDK v7.0.0\n"
     ]
    }
   ],
   "source": [
    "#import pkg_resources\n",
    "#_cortex_sdk_version = pkg_resources.get_distribution(\"cortex-client\").version\n",
    "#print('Cortex Python SDK v%s' % _cortex_sdk_version)"
   ]
  },
  {
   "cell_type": "code",
   "execution_count": 4,
   "metadata": {},
   "outputs": [],
   "source": [
    "%matplotlib inline\n",
    "plt.rcParams['figure.figsize'] = [18,9]"
   ]
  },
  {
   "cell_type": "code",
   "execution_count": 5,
   "metadata": {},
   "outputs": [],
   "source": [
    "sns.set_style('darkgrid')"
   ]
  },
  {
   "cell_type": "code",
   "execution_count": 6,
   "metadata": {},
   "outputs": [],
   "source": [
    "# fix random seed for reproducibility\n",
    "np.random.seed(7)"
   ]
  },
  {
   "cell_type": "code",
   "execution_count": 7,
   "metadata": {},
   "outputs": [],
   "source": [
    "#Limiting floats output to 3 decimal points\n",
    "pd.set_option('display.float_format', lambda x: '{:.3f}'.format(x))"
   ]
  },
  {
   "cell_type": "code",
   "execution_count": 8,
   "metadata": {},
   "outputs": [
    {
     "name": "stdout",
     "output_type": "stream",
     "text": [
      "7.0.0\n"
     ]
    }
   ],
   "source": [
    "#print(_cortex_sdk_version)"
   ]
  }
 ],
 "metadata": {
  "kernelspec": {
   "display_name": "Python 3",
   "language": "python",
   "name": "python3"
  },
  "language_info": {
   "codemirror_mode": {
    "name": "ipython",
    "version": 3
   },
   "file_extension": ".py",
   "mimetype": "text/x-python",
   "name": "python",
   "nbconvert_exporter": "python",
   "pygments_lexer": "ipython3",
   "version": "3.7.3"
  }
 },
 "nbformat": 4,
 "nbformat_minor": 2
}
