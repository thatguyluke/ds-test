{
 "cells": [
  {
   "cell_type": "markdown",
   "metadata": {},
   "source": [
    "## Why annotate experiments?\n",
    "Because most choices a data scientist makes for one model cannot be carried over to a new model or experiment, data may need exploration and manipulation to produce a set of features a model can use. Models often have many parameters so that they are not amenable to formal analysis. \n",
    "\n",
    "The Cortex Python SDK provides facilites for these activities. The priniciple abstraction to support these tasks is the experiment. The user can create a collection of `runs` that systematically explore different views of the data and different parameters for the predective models. Runs can be annotated with parameters, metrics, artifacts and metadata. \n",
    "\n",
    "Parameters describe how the model is configured. Metrics describe how well the model did in making predictions. Artifacts are a place to keep other information or software objects associated with a particular run. Metadata is for any information about the information in the run. \n",
    "\n",
    "This notebook demonstrates how to use annotations for `runs` and `experiments`.\n",
    "\n",
    "## Setup"
   ]
  },
  {
   "cell_type": "code",
   "execution_count": 14,
   "metadata": {},
   "outputs": [
    {
     "name": "stdout",
     "output_type": "stream",
     "text": [
      "Requirement already satisfied: tensorflow in /Users/ltwardowski/miniconda3/lib/python3.7/site-packages (1.14.0)\n",
      "Requirement already satisfied: termcolor>=1.1.0 in /Users/ltwardowski/miniconda3/lib/python3.7/site-packages (from tensorflow) (1.1.0)\n",
      "Requirement already satisfied: keras-applications>=1.0.6 in /Users/ltwardowski/miniconda3/lib/python3.7/site-packages (from tensorflow) (1.0.8)\n",
      "Requirement already satisfied: gast>=0.2.0 in /Users/ltwardowski/miniconda3/lib/python3.7/site-packages (from tensorflow) (0.2.2)\n",
      "Requirement already satisfied: six>=1.10.0 in /Users/ltwardowski/miniconda3/lib/python3.7/site-packages (from tensorflow) (1.12.0)\n",
      "Requirement already satisfied: keras-preprocessing>=1.0.5 in /Users/ltwardowski/miniconda3/lib/python3.7/site-packages (from tensorflow) (1.1.0)\n",
      "Requirement already satisfied: astor>=0.6.0 in /Users/ltwardowski/miniconda3/lib/python3.7/site-packages (from tensorflow) (0.8.0)\n",
      "Requirement already satisfied: numpy<2.0,>=1.14.5 in /Users/ltwardowski/miniconda3/lib/python3.7/site-packages (from tensorflow) (1.15.4)\n",
      "Requirement already satisfied: wheel>=0.26 in /Users/ltwardowski/miniconda3/lib/python3.7/site-packages (from tensorflow) (0.32.3)\n",
      "Requirement already satisfied: grpcio>=1.8.6 in /Users/ltwardowski/miniconda3/lib/python3.7/site-packages (from tensorflow) (1.21.1)\n",
      "Requirement already satisfied: tensorflow-estimator<1.15.0rc0,>=1.14.0rc0 in /Users/ltwardowski/miniconda3/lib/python3.7/site-packages (from tensorflow) (1.14.0)\n",
      "Requirement already satisfied: google-pasta>=0.1.6 in /Users/ltwardowski/miniconda3/lib/python3.7/site-packages (from tensorflow) (0.1.7)\n",
      "Requirement already satisfied: absl-py>=0.7.0 in /Users/ltwardowski/miniconda3/lib/python3.7/site-packages (from tensorflow) (0.7.1)\n",
      "Requirement already satisfied: protobuf>=3.6.1 in /Users/ltwardowski/miniconda3/lib/python3.7/site-packages (from tensorflow) (3.8.0)\n",
      "Requirement already satisfied: tensorboard<1.15.0,>=1.14.0 in /Users/ltwardowski/miniconda3/lib/python3.7/site-packages (from tensorflow) (1.14.0)\n",
      "Requirement already satisfied: wrapt>=1.11.1 in /Users/ltwardowski/miniconda3/lib/python3.7/site-packages (from tensorflow) (1.11.2)\n",
      "Requirement already satisfied: h5py in /Users/ltwardowski/miniconda3/lib/python3.7/site-packages (from keras-applications>=1.0.6->tensorflow) (2.9.0)\n",
      "Requirement already satisfied: setuptools in /Users/ltwardowski/miniconda3/lib/python3.7/site-packages (from protobuf>=3.6.1->tensorflow) (41.0.0)\n",
      "Requirement already satisfied: werkzeug>=0.11.15 in /Users/ltwardowski/miniconda3/lib/python3.7/site-packages (from tensorboard<1.15.0,>=1.14.0->tensorflow) (0.14.1)\n",
      "Requirement already satisfied: markdown>=2.6.8 in /Users/ltwardowski/miniconda3/lib/python3.7/site-packages (from tensorboard<1.15.0,>=1.14.0->tensorflow) (3.1.1)\n",
      "Requirement already satisfied: keras in /Users/ltwardowski/miniconda3/lib/python3.7/site-packages (2.2.4)\n",
      "Requirement already satisfied: keras-applications>=1.0.6 in /Users/ltwardowski/miniconda3/lib/python3.7/site-packages (from keras) (1.0.8)\n",
      "Requirement already satisfied: numpy>=1.9.1 in /Users/ltwardowski/miniconda3/lib/python3.7/site-packages (from keras) (1.15.4)\n",
      "Requirement already satisfied: six>=1.9.0 in /Users/ltwardowski/miniconda3/lib/python3.7/site-packages (from keras) (1.12.0)\n",
      "Requirement already satisfied: pyyaml in /Users/ltwardowski/miniconda3/lib/python3.7/site-packages (from keras) (3.13)\n",
      "Requirement already satisfied: scipy>=0.14 in /Users/ltwardowski/miniconda3/lib/python3.7/site-packages (from keras) (1.2.0)\n",
      "Requirement already satisfied: h5py in /Users/ltwardowski/miniconda3/lib/python3.7/site-packages (from keras) (2.9.0)\n",
      "Requirement already satisfied: keras-preprocessing>=1.0.5 in /Users/ltwardowski/miniconda3/lib/python3.7/site-packages (from keras) (1.1.0)\n"
     ]
    }
   ],
   "source": [
    "!pip install tensorflow\n",
    "!pip install keras\n",
    "\n",
    "import numpy\n",
    "import pandas\n",
    "\n",
    "from keras.models import Sequential\n",
    "from keras.layers import Dense\n",
    "from keras.wrappers.scikit_learn import KerasClassifier\n",
    "\n",
    "from sklearn.model_selection import cross_val_score\n",
    "from sklearn.model_selection import KFold\n",
    "from sklearn.model_selection import train_test_split\n",
    "\n",
    "from cortex import Cortex\n",
    "\n",
    "client = Cortex.client()\n",
    "exp = client.experiment('flowers/iris-predict')"
   ]
  },
  {
   "cell_type": "markdown",
   "metadata": {},
   "source": [
    "This example uses the same data set that was used in the basic experiment notebook."
   ]
  },
  {
   "cell_type": "code",
   "execution_count": 15,
   "metadata": {},
   "outputs": [],
   "source": [
    "df = pandas.read_csv('./data/iris.data')\n",
    "dataset = df.values\n",
    "ds_classes = pandas.get_dummies(df).values # one-hot encode the classes\n",
    "\n",
    "X = dataset[:,0:4].astype(float)\n",
    "Y = ds_classes[:,4:8].astype(int)\n",
    "\n",
    "(train_inputs, test_inputs, train_classes, test_classes) = train_test_split(X, Y, test_size=0.333, train_size=0.667)"
   ]
  },
  {
   "cell_type": "markdown",
   "metadata": {},
   "source": [
    "## Experiment models\n",
    "\n",
    "This example uses a neural network model. Neural networks have many possible configurations and model parameters."
   ]
  },
  {
   "cell_type": "code",
   "execution_count": 16,
   "metadata": {},
   "outputs": [],
   "source": [
    "lf = 'categorical_crossentropy'\n",
    "\n",
    "def adam_opt_model():\n",
    "    model = Sequential()\n",
    "    model.name = 'adam optimizer'\n",
    "    model.add(Dense(16, input_dim=4, activation='relu'))\n",
    "    model.add(Dense(3, activation='softmax'))\n",
    "    model.compile(loss=lf, optimizer='adam', metrics=['accuracy'])\n",
    "    return model"
   ]
  },
  {
   "cell_type": "markdown",
   "metadata": {},
   "source": [
    "Create a second model with a different layer structure and a different optimizer function."
   ]
  },
  {
   "cell_type": "code",
   "execution_count": 4,
   "metadata": {},
   "outputs": [],
   "source": [
    "def small_sgd_opt_model():\n",
    "    model = Sequential()\n",
    "    model.name = 'small sgd optimizer'\n",
    "    model.add(Dense(8, input_dim=4, activation='relu'))\n",
    "    model.add(Dense(3, activation='softmax'))\n",
    "    model.compile(loss=lf, optimizer='sgd', metrics=['accuracy'])\n",
    "    return model"
   ]
  },
  {
   "cell_type": "markdown",
   "metadata": {},
   "source": [
    "## Annotate the experiment\n",
    "\n",
    "To capture some of the hyperparameters related to this run, the experiment is annotated: "
   ]
  },
  {
   "cell_type": "code",
   "execution_count": 5,
   "metadata": {},
   "outputs": [],
   "source": [
    "exp.meta = {'loss function':lf, 'nn type':'sequential'}"
   ]
  },
  {
   "cell_type": "markdown",
   "metadata": {},
   "source": [
    "## Annotate runs \n",
    "\n",
    "The `runs` in this experiment explore the results given by the two different models. Training results will vary as you vary the batch size and number of training epochs. For brevitiy, this notebook only tests one batch size and one epoch count, but you can uncomment the lines relating to epoch_cts to see the difference in batch runtime. This experiment is using [cross validation](https://scikit-learn.org/stable/modules/cross_validation.html) to compare models trained with different subsets of the data to improve the accuracy of the metrics:"
   ]
  },
  {
   "cell_type": "code",
   "execution_count": 8,
   "metadata": {},
   "outputs": [],
   "source": [
    "epoch_cts = [1, 10]\n",
    "batch_sz = 3\n",
    "\n",
    "for model in [adam_opt_model, small_sgd_opt_model]:\n",
    "    for epoch_ct in epoch_cts:\n",
    "        with exp.start_run() as run: \n",
    "            estimator = KerasClassifier(build_fn=model, epochs=epoch_ct, batch_size=batch_sz, verbose=0)\n",
    "            kfold = KFold(n_splits=3, shuffle=True)\n",
    "            results = cross_val_score(estimator, test_inputs, test_classes, cv=kfold)\n",
    "            run.log_artifact('model', model)\n",
    "            run.log_param('batch size', batch_sz)\n",
    "            run.log_param('epochs', epoch_ct)\n",
    "            run.log_param('model name', model().name)\n",
    "          "
   ]
  },
  {
   "cell_type": "markdown",
   "metadata": {},
   "source": [
    "Examining the experiment shows how the two models compare. "
   ]
  },
  {
   "cell_type": "code",
   "execution_count": 9,
   "metadata": {},
   "outputs": [
    {
     "data": {
      "text/html": [
       "\n",
       "                    <style>\n",
       "                        #table1 {\n",
       "                          border: solid thin;\n",
       "                          border-collapse: collapse;\n",
       "                        }\n",
       "                        #table1 caption {\n",
       "                          padding-bottom: 0.5em;\n",
       "                        }\n",
       "                        #table1 th,\n",
       "                        #table1 td {\n",
       "                          border: solid thin;\n",
       "                          padding: 0.5rem 2rem;\n",
       "                        }\n",
       "                        #table1 td {\n",
       "                          white-space: nowrap;\n",
       "                        }\n",
       "                        #table1 td {\n",
       "                          border-style: none solid;\n",
       "                          vertical-align: top;\n",
       "                        }\n",
       "                        #table1 th {\n",
       "                          padding: 0.2em;\n",
       "                          vertical-align: middle;\n",
       "                          text-align: center;\n",
       "                        }\n",
       "                        #table1 tbody td:first-child::after {\n",
       "                          content: leader(\". \"); '\n",
       "                        }\n",
       "                    </style>\n",
       "                    <table id=\"table1\">\n",
       "                        <caption><b>Experiment:</b> flowers/iris-predict</caption>\n",
       "                        <thead>\n",
       "                        <tr>\n",
       "                            <th rowspan=\"2\">ID</th>\n",
       "                            <th rowspan=\"2\">Date</th>\n",
       "                            <th rowspan=\"2\">Took</th>\n",
       "                            <th colspan=\"4\" scope=\"colgroup\">Params</th>\n",
       "                            <th colspan=\"1\" scope=\"colgroup\">Metrics</th>\n",
       "                        </tr>\n",
       "                        <tr>\n",
       "                            \n",
       "                            <th>batch size</th>\n",
       "                            \n",
       "                            <th>criterion</th>\n",
       "                            \n",
       "                            <th>epochs</th>\n",
       "                            \n",
       "                            <th>model name</th>\n",
       "                            \n",
       "                            \n",
       "                            <th>score</th>\n",
       "                            \n",
       "                        </tr>\n",
       "                        </thead>\n",
       "                        <tbody>\n",
       "                            \n",
       "                            <tr>\n",
       "                            <td>x64m0fwq</td>\n",
       "                            <td>Mon, 01 Jul 2019 15:51:27 GMT</td>\n",
       "                            <td>0.32 s</td>\n",
       "                            \n",
       "                            <td>&#x2011;</td>\n",
       "                            \n",
       "                            <td>gini</td>\n",
       "                            \n",
       "                            <td>&#x2011;</td>\n",
       "                            \n",
       "                            <td>&#x2011;</td>\n",
       "                            \n",
       "                            \n",
       "                            <td>0.940000</td>\n",
       "                            \n",
       "                            </tr>\n",
       "                            \n",
       "                            <tr>\n",
       "                            <td>9z4n0fdp</td>\n",
       "                            <td>Mon, 01 Jul 2019 15:51:30 GMT</td>\n",
       "                            <td>0.44 s</td>\n",
       "                            \n",
       "                            <td>&#x2011;</td>\n",
       "                            \n",
       "                            <td>entropy</td>\n",
       "                            \n",
       "                            <td>&#x2011;</td>\n",
       "                            \n",
       "                            <td>&#x2011;</td>\n",
       "                            \n",
       "                            \n",
       "                            <td>0.940000</td>\n",
       "                            \n",
       "                            </tr>\n",
       "                            \n",
       "                            <tr>\n",
       "                            <td>qj4o0fbo</td>\n",
       "                            <td>Mon, 01 Jul 2019 15:52:13 GMT</td>\n",
       "                            <td>3.33 s</td>\n",
       "                            \n",
       "                            <td>3</td>\n",
       "                            \n",
       "                            <td>&#x2011;</td>\n",
       "                            \n",
       "                            <td>1</td>\n",
       "                            \n",
       "                            <td>adam optimizer</td>\n",
       "                            \n",
       "                            \n",
       "                            <td>0.000000</td>\n",
       "                            \n",
       "                            </tr>\n",
       "                            \n",
       "                            <tr>\n",
       "                            <td>bz4p0fmt</td>\n",
       "                            <td>Mon, 01 Jul 2019 15:52:35 GMT</td>\n",
       "                            <td>3.43 s</td>\n",
       "                            \n",
       "                            <td>3</td>\n",
       "                            \n",
       "                            <td>&#x2011;</td>\n",
       "                            \n",
       "                            <td>1</td>\n",
       "                            \n",
       "                            <td>adam optimizer</td>\n",
       "                            \n",
       "                            \n",
       "                            <td>0.000000</td>\n",
       "                            \n",
       "                            </tr>\n",
       "                            \n",
       "                            <tr>\n",
       "                            <td>yy4q0fg7</td>\n",
       "                            <td>Mon, 01 Jul 2019 16:39:57 GMT</td>\n",
       "                            <td>3.45 s</td>\n",
       "                            \n",
       "                            <td>3</td>\n",
       "                            \n",
       "                            <td>&#x2011;</td>\n",
       "                            \n",
       "                            <td>1</td>\n",
       "                            \n",
       "                            <td>adam optimizer</td>\n",
       "                            \n",
       "                            \n",
       "                            <td>0.000000</td>\n",
       "                            \n",
       "                            </tr>\n",
       "                            \n",
       "                            <tr>\n",
       "                            <td>yz4r0fhe</td>\n",
       "                            <td>Mon, 01 Jul 2019 20:29:52 GMT</td>\n",
       "                            <td>2.90 s</td>\n",
       "                            \n",
       "                            <td>3</td>\n",
       "                            \n",
       "                            <td>&#x2011;</td>\n",
       "                            \n",
       "                            <td>1</td>\n",
       "                            \n",
       "                            <td>adam optimizer</td>\n",
       "                            \n",
       "                            \n",
       "                            <td>0.000000</td>\n",
       "                            \n",
       "                            </tr>\n",
       "                            \n",
       "                            <tr>\n",
       "                            <td>sb4s0ffm</td>\n",
       "                            <td>Mon, 01 Jul 2019 20:30:57 GMT</td>\n",
       "                            <td>2.92 s</td>\n",
       "                            \n",
       "                            <td>3</td>\n",
       "                            \n",
       "                            <td>&#x2011;</td>\n",
       "                            \n",
       "                            <td>1</td>\n",
       "                            \n",
       "                            <td>adam optimizer</td>\n",
       "                            \n",
       "                            \n",
       "                            <td>0.000000</td>\n",
       "                            \n",
       "                            </tr>\n",
       "                            \n",
       "                            <tr>\n",
       "                            <td>wb4t0fjj</td>\n",
       "                            <td>Mon, 01 Jul 2019 20:31:22 GMT</td>\n",
       "                            <td>3.12 s</td>\n",
       "                            \n",
       "                            <td>3</td>\n",
       "                            \n",
       "                            <td>&#x2011;</td>\n",
       "                            \n",
       "                            <td>1</td>\n",
       "                            \n",
       "                            <td>adam optimizer</td>\n",
       "                            \n",
       "                            \n",
       "                            <td>0.000000</td>\n",
       "                            \n",
       "                            </tr>\n",
       "                            \n",
       "                            <tr>\n",
       "                            <td>l14u0f1a</td>\n",
       "                            <td>Mon, 01 Jul 2019 20:31:25 GMT</td>\n",
       "                            <td>3.77 s</td>\n",
       "                            \n",
       "                            <td>3</td>\n",
       "                            \n",
       "                            <td>&#x2011;</td>\n",
       "                            \n",
       "                            <td>10</td>\n",
       "                            \n",
       "                            <td>adam optimizer</td>\n",
       "                            \n",
       "                            \n",
       "                            <td>0.000000</td>\n",
       "                            \n",
       "                            </tr>\n",
       "                            \n",
       "                            <tr>\n",
       "                            <td>rq4v0fdu</td>\n",
       "                            <td>Mon, 01 Jul 2019 20:31:29 GMT</td>\n",
       "                            <td>3.46 s</td>\n",
       "                            \n",
       "                            <td>3</td>\n",
       "                            \n",
       "                            <td>&#x2011;</td>\n",
       "                            \n",
       "                            <td>1</td>\n",
       "                            \n",
       "                            <td>small sgd optimizer</td>\n",
       "                            \n",
       "                            \n",
       "                            <td>0.000000</td>\n",
       "                            \n",
       "                            </tr>\n",
       "                            \n",
       "                            <tr>\n",
       "                            <td>pk4w0fii</td>\n",
       "                            <td>Mon, 01 Jul 2019 20:31:33 GMT</td>\n",
       "                            <td>3.83 s</td>\n",
       "                            \n",
       "                            <td>3</td>\n",
       "                            \n",
       "                            <td>&#x2011;</td>\n",
       "                            \n",
       "                            <td>10</td>\n",
       "                            \n",
       "                            <td>small sgd optimizer</td>\n",
       "                            \n",
       "                            \n",
       "                            <td>0.000000</td>\n",
       "                            \n",
       "                            </tr>\n",
       "                            \n",
       "                        </tbody>\n",
       "                    </table>"
      ],
      "text/plain": [
       "<cortex.experiment.Experiment at 0x1407b3ac8>"
      ]
     },
     "execution_count": 9,
     "metadata": {},
     "output_type": "execute_result"
    }
   ],
   "source": [
    "exp"
   ]
  },
  {
   "cell_type": "markdown",
   "metadata": {},
   "source": [
    "## Use artifacts\n",
    "\n",
    "Examine the table for speed, accuracy, and the lowest prediction errors. Models that performed well can be retrieved and used for predictions or for further experiments. In the following example, get the last run to make a prediction."
   ]
  },
  {
   "cell_type": "code",
   "execution_count": 13,
   "metadata": {},
   "outputs": [
    {
     "ename": "TypeError",
     "evalue": "'DecisionTreeClassifier' object is not callable",
     "output_type": "error",
     "traceback": [
      "\u001b[0;31m---------------------------------------------------------------------------\u001b[0m",
      "\u001b[0;31mTypeError\u001b[0m                                 Traceback (most recent call last)",
      "\u001b[0;32m<ipython-input-13-8cd81d300a90>\u001b[0m in \u001b[0;36m<module>\u001b[0;34m()\u001b[0m\n\u001b[1;32m      7\u001b[0m            'values': [4.9,3.1,1.5,0.2]}\n\u001b[1;32m      8\u001b[0m \u001b[0mframe\u001b[0m \u001b[0;34m=\u001b[0m \u001b[0mpd\u001b[0m\u001b[0;34m.\u001b[0m\u001b[0mDataFrame\u001b[0m\u001b[0;34m(\u001b[0m\u001b[0mparams\u001b[0m\u001b[0;34m)\u001b[0m\u001b[0;34m\u001b[0m\u001b[0;34m\u001b[0m\u001b[0m\n\u001b[0;32m----> 9\u001b[0;31m \u001b[0mpred\u001b[0m \u001b[0;34m=\u001b[0m \u001b[0mmodel\u001b[0m\u001b[0;34m(\u001b[0m\u001b[0;34m)\u001b[0m\u001b[0;34m.\u001b[0m\u001b[0mpredict\u001b[0m\u001b[0;34m(\u001b[0m\u001b[0msample\u001b[0m\u001b[0;34m)\u001b[0m\u001b[0;34m\u001b[0m\u001b[0;34m\u001b[0m\u001b[0m\n\u001b[0m\u001b[1;32m     10\u001b[0m \u001b[0mpred\u001b[0m\u001b[0;34m\u001b[0m\u001b[0;34m\u001b[0m\u001b[0m\n",
      "\u001b[0;31mTypeError\u001b[0m: 'DecisionTreeClassifier' object is not callable"
     ]
    }
   ],
   "source": [
    "run = exp.last_run()\n",
    "model = run.get_artifact('model')\n",
    "\n",
    "sample = numpy.array([[4.9,3.1,1.5,0.2]]) # sample of one\n",
    "pred = model().predict(sample)\n",
    "pred"
   ]
  },
  {
   "cell_type": "code",
   "execution_count": 22,
   "metadata": {},
   "outputs": [
    {
     "name": "stdout",
     "output_type": "stream",
     "text": [
      "{'columns': ['sepal_len', 'sepal_w', 'petal_len', 'petal_w'], 'values': [4.9, 3.1, 1.5, 0.2]}\n",
      "Needs [[4.9 3.1 1.5 0.2]]\n"
     ]
    },
    {
     "ename": "ValueError",
     "evalue": "Error when checking input: expected dense_61_input to have shape (4,) but got array with shape (2,)",
     "output_type": "error",
     "traceback": [
      "\u001b[0;31m---------------------------------------------------------------------------\u001b[0m",
      "\u001b[0;31mValueError\u001b[0m                                Traceback (most recent call last)",
      "\u001b[0;32m<ipython-input-22-52e4db9bd607>\u001b[0m in \u001b[0;36m<module>\u001b[0;34m()\u001b[0m\n\u001b[1;32m      8\u001b[0m \u001b[0mprint\u001b[0m\u001b[0;34m(\u001b[0m\u001b[0mparams\u001b[0m\u001b[0;34m)\u001b[0m\u001b[0;34m\u001b[0m\u001b[0;34m\u001b[0m\u001b[0m\n\u001b[1;32m      9\u001b[0m \u001b[0mprint\u001b[0m\u001b[0;34m(\u001b[0m\u001b[0;34mf\"Needs {sample}\"\u001b[0m\u001b[0;34m)\u001b[0m\u001b[0;34m\u001b[0m\u001b[0;34m\u001b[0m\u001b[0m\n\u001b[0;32m---> 10\u001b[0;31m \u001b[0mpred\u001b[0m \u001b[0;34m=\u001b[0m \u001b[0mmodel2\u001b[0m\u001b[0;34m.\u001b[0m\u001b[0mpredict\u001b[0m\u001b[0;34m(\u001b[0m\u001b[0mframe\u001b[0m\u001b[0;34m)\u001b[0m\u001b[0;34m\u001b[0m\u001b[0;34m\u001b[0m\u001b[0m\n\u001b[0m\u001b[1;32m     11\u001b[0m \u001b[0mpred\u001b[0m\u001b[0;34m\u001b[0m\u001b[0;34m\u001b[0m\u001b[0m\n",
      "\u001b[0;32m~/miniconda3/lib/python3.7/site-packages/keras/engine/training.py\u001b[0m in \u001b[0;36mpredict\u001b[0;34m(self, x, batch_size, verbose, steps)\u001b[0m\n\u001b[1;32m   1147\u001b[0m                              'argument.')\n\u001b[1;32m   1148\u001b[0m         \u001b[0;31m# Validate user data.\u001b[0m\u001b[0;34m\u001b[0m\u001b[0;34m\u001b[0m\u001b[0;34m\u001b[0m\u001b[0m\n\u001b[0;32m-> 1149\u001b[0;31m         \u001b[0mx\u001b[0m\u001b[0;34m,\u001b[0m \u001b[0m_\u001b[0m\u001b[0;34m,\u001b[0m \u001b[0m_\u001b[0m \u001b[0;34m=\u001b[0m \u001b[0mself\u001b[0m\u001b[0;34m.\u001b[0m\u001b[0m_standardize_user_data\u001b[0m\u001b[0;34m(\u001b[0m\u001b[0mx\u001b[0m\u001b[0;34m)\u001b[0m\u001b[0;34m\u001b[0m\u001b[0;34m\u001b[0m\u001b[0m\n\u001b[0m\u001b[1;32m   1150\u001b[0m         \u001b[0;32mif\u001b[0m \u001b[0mself\u001b[0m\u001b[0;34m.\u001b[0m\u001b[0mstateful\u001b[0m\u001b[0;34m:\u001b[0m\u001b[0;34m\u001b[0m\u001b[0;34m\u001b[0m\u001b[0m\n\u001b[1;32m   1151\u001b[0m             \u001b[0;32mif\u001b[0m \u001b[0mx\u001b[0m\u001b[0;34m[\u001b[0m\u001b[0;36m0\u001b[0m\u001b[0;34m]\u001b[0m\u001b[0;34m.\u001b[0m\u001b[0mshape\u001b[0m\u001b[0;34m[\u001b[0m\u001b[0;36m0\u001b[0m\u001b[0;34m]\u001b[0m \u001b[0;34m>\u001b[0m \u001b[0mbatch_size\u001b[0m \u001b[0;32mand\u001b[0m \u001b[0mx\u001b[0m\u001b[0;34m[\u001b[0m\u001b[0;36m0\u001b[0m\u001b[0;34m]\u001b[0m\u001b[0;34m.\u001b[0m\u001b[0mshape\u001b[0m\u001b[0;34m[\u001b[0m\u001b[0;36m0\u001b[0m\u001b[0;34m]\u001b[0m \u001b[0;34m%\u001b[0m \u001b[0mbatch_size\u001b[0m \u001b[0;34m!=\u001b[0m \u001b[0;36m0\u001b[0m\u001b[0;34m:\u001b[0m\u001b[0;34m\u001b[0m\u001b[0;34m\u001b[0m\u001b[0m\n",
      "\u001b[0;32m~/miniconda3/lib/python3.7/site-packages/keras/engine/training.py\u001b[0m in \u001b[0;36m_standardize_user_data\u001b[0;34m(self, x, y, sample_weight, class_weight, check_array_lengths, batch_size)\u001b[0m\n\u001b[1;32m    749\u001b[0m             \u001b[0mfeed_input_shapes\u001b[0m\u001b[0;34m,\u001b[0m\u001b[0;34m\u001b[0m\u001b[0;34m\u001b[0m\u001b[0m\n\u001b[1;32m    750\u001b[0m             \u001b[0mcheck_batch_axis\u001b[0m\u001b[0;34m=\u001b[0m\u001b[0;32mFalse\u001b[0m\u001b[0;34m,\u001b[0m  \u001b[0;31m# Don't enforce the batch size.\u001b[0m\u001b[0;34m\u001b[0m\u001b[0;34m\u001b[0m\u001b[0m\n\u001b[0;32m--> 751\u001b[0;31m             exception_prefix='input')\n\u001b[0m\u001b[1;32m    752\u001b[0m \u001b[0;34m\u001b[0m\u001b[0m\n\u001b[1;32m    753\u001b[0m         \u001b[0;32mif\u001b[0m \u001b[0my\u001b[0m \u001b[0;32mis\u001b[0m \u001b[0;32mnot\u001b[0m \u001b[0;32mNone\u001b[0m\u001b[0;34m:\u001b[0m\u001b[0;34m\u001b[0m\u001b[0;34m\u001b[0m\u001b[0m\n",
      "\u001b[0;32m~/miniconda3/lib/python3.7/site-packages/keras/engine/training_utils.py\u001b[0m in \u001b[0;36mstandardize_input_data\u001b[0;34m(data, names, shapes, check_batch_axis, exception_prefix)\u001b[0m\n\u001b[1;32m    136\u001b[0m                             \u001b[0;34m': expected '\u001b[0m \u001b[0;34m+\u001b[0m \u001b[0mnames\u001b[0m\u001b[0;34m[\u001b[0m\u001b[0mi\u001b[0m\u001b[0;34m]\u001b[0m \u001b[0;34m+\u001b[0m \u001b[0;34m' to have shape '\u001b[0m \u001b[0;34m+\u001b[0m\u001b[0;34m\u001b[0m\u001b[0;34m\u001b[0m\u001b[0m\n\u001b[1;32m    137\u001b[0m                             \u001b[0mstr\u001b[0m\u001b[0;34m(\u001b[0m\u001b[0mshape\u001b[0m\u001b[0;34m)\u001b[0m \u001b[0;34m+\u001b[0m \u001b[0;34m' but got array with shape '\u001b[0m \u001b[0;34m+\u001b[0m\u001b[0;34m\u001b[0m\u001b[0;34m\u001b[0m\u001b[0m\n\u001b[0;32m--> 138\u001b[0;31m                             str(data_shape))\n\u001b[0m\u001b[1;32m    139\u001b[0m     \u001b[0;32mreturn\u001b[0m \u001b[0mdata\u001b[0m\u001b[0;34m\u001b[0m\u001b[0;34m\u001b[0m\u001b[0m\n\u001b[1;32m    140\u001b[0m \u001b[0;34m\u001b[0m\u001b[0m\n",
      "\u001b[0;31mValueError\u001b[0m: Error when checking input: expected dense_61_input to have shape (4,) but got array with shape (2,)"
     ]
    }
   ],
   "source": [
    "model2= adam_opt_model()\n",
    "import pandas as pd\n",
    "params = {'columns': ['sepal_len','sepal_w','petal_len','petal_w'],\n",
    "           'values': [4.9,3.1,1.5,0.2]}\n",
    "frame = pd.DataFrame(params)\n",
    "sample = numpy.array([[4.9,3.1,1.5,0.2]]) # sample of one\n",
    "\n",
    "print(params)\n",
    "print(f\"Needs {sample}\")\n",
    "pred = model2.predict(frame)\n",
    "pred\n"
   ]
  },
  {
   "cell_type": "markdown",
   "metadata": {},
   "source": [
    "Undo the one hot encoding variable, and display the model's prediction."
   ]
  },
  {
   "cell_type": "code",
   "execution_count": 11,
   "metadata": {},
   "outputs": [
    {
     "data": {
      "text/plain": [
       "'Iris-setosa'"
      ]
     },
     "execution_count": 11,
     "metadata": {},
     "output_type": "execute_result"
    }
   ],
   "source": [
    "x = numpy.argmax(pred, axis=1).item(0)\n",
    "\n",
    "iris_dict = {0:'Iris-setosa',1:'Iris-versicolor',2:'Iris-virginica'}\n",
    "\n",
    "iris_dict[x]"
   ]
  },
  {
   "cell_type": "markdown",
   "metadata": {},
   "source": [
    " "
   ]
  }
 ],
 "metadata": {
  "kernelspec": {
   "display_name": "Python 3",
   "language": "python",
   "name": "python3"
  },
  "language_info": {
   "codemirror_mode": {
    "name": "ipython",
    "version": 3
   },
   "file_extension": ".py",
   "mimetype": "text/x-python",
   "name": "python",
   "nbconvert_exporter": "python",
   "pygments_lexer": "ipython3",
   "version": "3.7.1"
  }
 },
 "nbformat": 4,
 "nbformat_minor": 2
}
