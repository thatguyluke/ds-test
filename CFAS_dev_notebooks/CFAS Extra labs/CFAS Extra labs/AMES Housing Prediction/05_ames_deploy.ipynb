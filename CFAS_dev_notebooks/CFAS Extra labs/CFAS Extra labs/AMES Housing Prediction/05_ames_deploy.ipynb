{
 "cells": [
  {
   "cell_type": "markdown",
   "metadata": {},
   "source": [
    "# Ames Housing Prices - Step 5: Model Deployment\n",
    "Now that we have trained and selected our optimal model, its time to deploy it.  This notebook demonstrates how to user our Experiment and Pipelines from the previous steps to easly deploy our model as a Cortex Action. "
   ]
  },
  {
   "cell_type": "code",
   "execution_count": 2,
   "metadata": {},
   "outputs": [
    {
     "name": "stdout",
     "output_type": "stream",
     "text": [
      "Cortex Python SDK v7.0.0\n"
     ]
    }
   ],
   "source": [
    "# Basic setup\n",
    "%run config.ipynb"
   ]
  },
  {
   "cell_type": "code",
   "execution_count": 3,
   "metadata": {},
   "outputs": [],
   "source": [
    "# Connect to Cortex 5 and create a Builder instance\n",
    "cortex = Cortex.client()\n",
    "\n",
    "builder = cortex.builder()"
   ]
  },
  {
   "cell_type": "markdown",
   "metadata": {},
   "source": [
    "### Load the Experiment\n",
    "Let's load our experiment from the previous step and find the model we want to deploy."
   ]
  },
  {
   "cell_type": "code",
   "execution_count": 4,
   "metadata": {},
   "outputs": [
    {
     "data": {
      "text/html": [
       "\n",
       "                    <style>\n",
       "                        #table1 {\n",
       "                          border: solid thin;\n",
       "                          border-collapse: collapse;\n",
       "                        }\n",
       "                        #table1 caption {\n",
       "                          padding-bottom: 0.5em;\n",
       "                        }\n",
       "                        #table1 th,\n",
       "                        #table1 td {\n",
       "                          border: solid thin;\n",
       "                          padding: 0.5rem 2rem;\n",
       "                        }\n",
       "                        #table1 td {\n",
       "                          white-space: nowrap;\n",
       "                        }\n",
       "                        #table1 td {\n",
       "                          border-style: none solid;\n",
       "                          vertical-align: top;\n",
       "                        }\n",
       "                        #table1 th {\n",
       "                          padding: 0.2em;\n",
       "                          vertical-align: middle;\n",
       "                          text-align: center;\n",
       "                        }\n",
       "                        #table1 tbody td:first-child::after {\n",
       "                          content: leader(\". \"); '\n",
       "                        }\n",
       "                    </style>\n",
       "                    <table id=\"table1\">\n",
       "                        <caption><b>Experiment:</b> kaggle/ames-housing-regression</caption>\n",
       "                        <thead>\n",
       "                        <tr>\n",
       "                            <th rowspan=\"2\">ID</th>\n",
       "                            <th rowspan=\"2\">Date</th>\n",
       "                            <th rowspan=\"2\">Took</th>\n",
       "                            <th colspan=\"2\" scope=\"colgroup\">Params</th>\n",
       "                            <th colspan=\"2\" scope=\"colgroup\">Metrics</th>\n",
       "                        </tr>\n",
       "                        <tr>\n",
       "                            \n",
       "                            <th>alphas</th>\n",
       "                            \n",
       "                            <th>model_type</th>\n",
       "                            \n",
       "                            \n",
       "                            <th>r2</th>\n",
       "                            \n",
       "                            <th>rmse</th>\n",
       "                            \n",
       "                        </tr>\n",
       "                        </thead>\n",
       "                        <tbody>\n",
       "                            \n",
       "                            <tr>\n",
       "                            <td>rl1c0rgr</td>\n",
       "                            <td>Wed, 12 Dec 2018 20:04:24 GMT</td>\n",
       "                            <td>3.95 s</td>\n",
       "                            \n",
       "                            <td>[1, 0.1, 0.001, 0.0005]</td>\n",
       "                            \n",
       "                            <td>Lasso</td>\n",
       "                            \n",
       "                            \n",
       "                            <td>0.920696</td>\n",
       "                            \n",
       "                            <td>0.108386</td>\n",
       "                            \n",
       "                            </tr>\n",
       "                            \n",
       "                            <tr>\n",
       "                            <td>ji1e0rp1</td>\n",
       "                            <td>Thu, 13 Dec 2018 17:11:01 GMT</td>\n",
       "                            <td>3.87 s</td>\n",
       "                            \n",
       "                            <td>[1, 0.1, 0.001, 0.0005]</td>\n",
       "                            \n",
       "                            <td>Lasso</td>\n",
       "                            \n",
       "                            \n",
       "                            <td>0.920696</td>\n",
       "                            \n",
       "                            <td>0.108386</td>\n",
       "                            \n",
       "                            </tr>\n",
       "                            \n",
       "                            <tr>\n",
       "                            <td>yo1f0r4c</td>\n",
       "                            <td>Thu, 13 Dec 2018 21:23:31 GMT</td>\n",
       "                            <td>4.04 s</td>\n",
       "                            \n",
       "                            <td>[1, 0.1, 0.001, 0.0005]</td>\n",
       "                            \n",
       "                            <td>Lasso</td>\n",
       "                            \n",
       "                            \n",
       "                            <td>0.920696</td>\n",
       "                            \n",
       "                            <td>0.108386</td>\n",
       "                            \n",
       "                            </tr>\n",
       "                            \n",
       "                            <tr>\n",
       "                            <td>zv1v0rrk</td>\n",
       "                            <td>Wed, 02 Jan 2019 20:02:36 GMT</td>\n",
       "                            <td>4.07 s</td>\n",
       "                            \n",
       "                            <td>[1, 0.1, 0.001, 0.0005]</td>\n",
       "                            \n",
       "                            <td>Lasso</td>\n",
       "                            \n",
       "                            \n",
       "                            <td>0.920696</td>\n",
       "                            \n",
       "                            <td>0.108386</td>\n",
       "                            \n",
       "                            </tr>\n",
       "                            \n",
       "                            <tr>\n",
       "                            <td>8a60ro4</td>\n",
       "                            <td>Wed, 16 Jan 2019 17:18:31 GMT</td>\n",
       "                            <td>4.00 s</td>\n",
       "                            \n",
       "                            <td>[1, 0.1, 0.001, 0.0005]</td>\n",
       "                            \n",
       "                            <td>Lasso</td>\n",
       "                            \n",
       "                            \n",
       "                            <td>0.920696</td>\n",
       "                            \n",
       "                            <td>0.108386</td>\n",
       "                            \n",
       "                            </tr>\n",
       "                            \n",
       "                            <tr>\n",
       "                            <td>wr00j2p</td>\n",
       "                            <td>Wed, 06 Feb 2019 15:29:22 GMT</td>\n",
       "                            <td>3.79 s</td>\n",
       "                            \n",
       "                            <td>[1, 0.1, 0.001, 0.0005]</td>\n",
       "                            \n",
       "                            <td>Lasso</td>\n",
       "                            \n",
       "                            \n",
       "                            <td>0.920696</td>\n",
       "                            \n",
       "                            <td>0.108386</td>\n",
       "                            \n",
       "                            </tr>\n",
       "                            \n",
       "                            <tr>\n",
       "                            <td>8o5p0jjy</td>\n",
       "                            <td>Thu, 14 Mar 2019 19:24:40 GMT</td>\n",
       "                            <td>2.12 s</td>\n",
       "                            \n",
       "                            <td>[1, 0.1, 0.001, 0.0005]</td>\n",
       "                            \n",
       "                            <td>Lasso</td>\n",
       "                            \n",
       "                            \n",
       "                            <td>0.920696</td>\n",
       "                            \n",
       "                            <td>0.108386</td>\n",
       "                            \n",
       "                            </tr>\n",
       "                            \n",
       "                            <tr>\n",
       "                            <td>zn5q0j4g</td>\n",
       "                            <td>Thu, 14 Mar 2019 20:00:09 GMT</td>\n",
       "                            <td>3.74 s</td>\n",
       "                            \n",
       "                            <td>[1, 0.1, 0.001, 0.0005]</td>\n",
       "                            \n",
       "                            <td>Lasso</td>\n",
       "                            \n",
       "                            \n",
       "                            <td>0.920696</td>\n",
       "                            \n",
       "                            <td>0.108386</td>\n",
       "                            \n",
       "                            </tr>\n",
       "                            \n",
       "                            <tr>\n",
       "                            <td>318p0jvs</td>\n",
       "                            <td>Thu, 28 Mar 2019 15:48:28 GMT</td>\n",
       "                            <td>3.75 s</td>\n",
       "                            \n",
       "                            <td>[1, 0.1, 0.001, 0.0005]</td>\n",
       "                            \n",
       "                            <td>Lasso</td>\n",
       "                            \n",
       "                            \n",
       "                            <td>0.915814</td>\n",
       "                            \n",
       "                            <td>0.121772</td>\n",
       "                            \n",
       "                            </tr>\n",
       "                            \n",
       "                        </tbody>\n",
       "                    </table>"
      ],
      "text/plain": [
       "<cortex.experiment.Experiment at 0x269fed13b70>"
      ]
     },
     "execution_count": 4,
     "metadata": {},
     "output_type": "execute_result"
    }
   ],
   "source": [
    "exp = cortex.experiment('kaggle/ames-housing-regression')\n",
    "exp"
   ]
  },
  {
   "cell_type": "markdown",
   "metadata": {},
   "source": [
    "---\n",
    "The model created in the last run looks to be the best, let's deploy it"
   ]
  },
  {
   "cell_type": "code",
   "execution_count": 5,
   "metadata": {},
   "outputs": [],
   "source": [
    "run = exp.get_run('318p0jvs')\n",
    "model = run.get_artifact('model')"
   ]
  },
  {
   "cell_type": "markdown",
   "metadata": {},
   "source": [
    "### Model deployment - Step 1: Configure Data Pipeline for Inputs\n",
    "Our model was trained with data that has had cleaning and feature engineering steps applied to it.  Since we want our users to send us the actual raw data, we need to deploy our pipeline to transform the input data into the form we expect.  This requires applying some of the same steps from before, but also requires us to remember some of the data created during model training such as the median values of certain columns and the final list of _dummy_ categorical columns created during feature engineering.  Luckily, our pipelines have a memory in the form of _context_ that we can reference here to achieve this."
   ]
  },
  {
   "cell_type": "code",
   "execution_count": 6,
   "metadata": {},
   "outputs": [
    {
     "data": {
      "text/plain": [
       "<cortex.pipeline.Pipeline at 0x269ff20e198>"
      ]
     },
     "execution_count": 6,
     "metadata": {},
     "output_type": "execute_result"
    }
   ],
   "source": [
    "train_ds = cortex.dataset('kaggle/ames-housing-train')\n",
    "\n",
    "# Model our feature pipeline after the 'clean' pipeline\n",
    "x_pipe = builder.pipeline('x_pipe')\n",
    "x_pipe.from_pipeline(train_ds.pipeline('clean'))"
   ]
  },
  {
   "cell_type": "code",
   "execution_count": 7,
   "metadata": {},
   "outputs": [],
   "source": [
    "# Same idea from our training prep, however we need to use the median values we computed before which we stored in our pipeline context\n",
    "def fill_median_cols_ctx(pipeline, df):\n",
    "    fill_median_cols = ['GarageArea','TotalBsmtSF', 'MasVnrArea', 'BsmtFinSF1', 'LotFrontage', 'BsmtUnfSF', 'GarageYrBlt']\n",
    "    [df[j].fillna(pipeline.get_context('{}_median'.format(j)), inplace=True) for j in fill_median_cols]\n",
    "                  \n",
    "# The dummy column conversion we did during training needs to be applied here.  Afterwards there will be missing columns because \n",
    "# our input instance will only contain at most one value per category.  We need to fill in the other expected columns.  We stored\n",
    "# the expected set of columns in our pipeline so we can easily do this now.\n",
    "def fix_columns(pipeline, df):\n",
    "    all_cols = pipeline.get_context('columns')\n",
    "    missing_cols = set(all_cols) - set(df.columns)\n",
    "    for c in missing_cols:\n",
    "        df[c] = 0\n",
    "    \n",
    "    # make sure we have all the columns we need\n",
    "    assert(set(all_cols) - set(df.columns) == set())\n",
    "    \n",
    "    return df[all_cols]"
   ]
  },
  {
   "cell_type": "code",
   "execution_count": 8,
   "metadata": {},
   "outputs": [
    {
     "name": "stdout",
     "output_type": "stream",
     "text": [
      "[<cortex.pipeline._FunctionStep object at 0x00000269FF20EDD8>, <cortex.pipeline._FunctionStep object at 0x00000269FF20E7F0>]\n"
     ]
    }
   ],
   "source": [
    "# The feature engineering pipeline contains the complete list of dummy columns in addition to some steps we need\n",
    "engineer_pipe = train_ds.pipeline('engineer')\n",
    "x_pipe.set_context('columns', engineer_pipe.get_context('columns'))\n",
    "\n",
    "# Reuse steps from our clean, features, and engineer pipelines\n",
    "fill_zero_cols = x_pipe.get_step('fill_zero_cols')\n",
    "fill_na_none = x_pipe.get_step('fill_na_none')\n",
    "get_dummies = engineer_pipe.get_step('get_dummies')\n",
    "print(engineer_pipe.steps)"
   ]
  },
  {
   "cell_type": "code",
   "execution_count": 9,
   "metadata": {},
   "outputs": [
    {
     "ename": "AttributeError",
     "evalue": "'NoneType' object has no attribute '__name__'",
     "output_type": "error",
     "traceback": [
      "\u001b[1;31m---------------------------------------------------------------------------\u001b[0m",
      "\u001b[1;31mAttributeError\u001b[0m                            Traceback (most recent call last)",
      "\u001b[1;32m<ipython-input-9-c90d5f754028>\u001b[0m in \u001b[0;36m<module>\u001b[1;34m()\u001b[0m\n\u001b[0;32m      1\u001b[0m \u001b[1;31m# Build our final input pipeline\u001b[0m\u001b[1;33m\u001b[0m\u001b[1;33m\u001b[0m\u001b[1;33m\u001b[0m\u001b[0m\n\u001b[0;32m      2\u001b[0m \u001b[0mx_pipe\u001b[0m\u001b[1;33m.\u001b[0m\u001b[0mreset\u001b[0m\u001b[1;33m(\u001b[0m\u001b[1;33m)\u001b[0m\u001b[1;33m\u001b[0m\u001b[1;33m\u001b[0m\u001b[0m\n\u001b[1;32m----> 3\u001b[1;33m \u001b[0mx_pipe\u001b[0m\u001b[1;33m.\u001b[0m\u001b[0madd_step\u001b[0m\u001b[1;33m(\u001b[0m\u001b[0mfill_zero_cols\u001b[0m\u001b[1;33m)\u001b[0m\u001b[1;33m\u001b[0m\u001b[1;33m\u001b[0m\u001b[0m\n\u001b[0m\u001b[0;32m      4\u001b[0m \u001b[0mx_pipe\u001b[0m\u001b[1;33m.\u001b[0m\u001b[0madd_step\u001b[0m\u001b[1;33m(\u001b[0m\u001b[0mfill_median_cols_ctx\u001b[0m\u001b[1;33m)\u001b[0m\u001b[1;33m\u001b[0m\u001b[1;33m\u001b[0m\u001b[0m\n\u001b[0;32m      5\u001b[0m \u001b[0mx_pipe\u001b[0m\u001b[1;33m.\u001b[0m\u001b[0madd_step\u001b[0m\u001b[1;33m(\u001b[0m\u001b[0mfill_na_none\u001b[0m\u001b[1;33m)\u001b[0m\u001b[1;33m\u001b[0m\u001b[1;33m\u001b[0m\u001b[0m\n",
      "\u001b[1;32mc:\\programdata\\miniconda3\\lib\\site-packages\\cortex\\pipeline.py\u001b[0m in \u001b[0;36madd_step\u001b[1;34m(self, step, name, serializer)\u001b[0m\n\u001b[0;32m    220\u001b[0m         \u001b[1;32mif\u001b[0m \u001b[0misinstance\u001b[0m\u001b[1;33m(\u001b[0m\u001b[0mstep\u001b[0m\u001b[1;33m,\u001b[0m \u001b[0mtype\u001b[0m\u001b[1;33m)\u001b[0m\u001b[1;33m:\u001b[0m\u001b[1;33m\u001b[0m\u001b[1;33m\u001b[0m\u001b[0m\n\u001b[0;32m    221\u001b[0m             \u001b[1;32mreturn\u001b[0m \u001b[0mself\u001b[0m\u001b[1;33m.\u001b[0m\u001b[0m_add_transform_step\u001b[0m\u001b[1;33m(\u001b[0m\u001b[0mstep\u001b[0m\u001b[1;33m,\u001b[0m \u001b[0mname\u001b[0m\u001b[1;33m)\u001b[0m\u001b[1;33m\u001b[0m\u001b[1;33m\u001b[0m\u001b[0m\n\u001b[1;32m--> 222\u001b[1;33m         \u001b[1;32mreturn\u001b[0m \u001b[0mself\u001b[0m\u001b[1;33m.\u001b[0m\u001b[0m_add_inline_step\u001b[0m\u001b[1;33m(\u001b[0m\u001b[0mstep\u001b[0m\u001b[1;33m,\u001b[0m \u001b[0mname\u001b[0m\u001b[1;33m,\u001b[0m \u001b[0mserializer\u001b[0m\u001b[1;33m)\u001b[0m\u001b[1;33m\u001b[0m\u001b[1;33m\u001b[0m\u001b[0m\n\u001b[0m\u001b[0;32m    223\u001b[0m \u001b[1;33m\u001b[0m\u001b[0m\n\u001b[0;32m    224\u001b[0m     \u001b[1;32mdef\u001b[0m \u001b[0m_add_inline_step\u001b[0m\u001b[1;33m(\u001b[0m\u001b[0mself\u001b[0m\u001b[1;33m,\u001b[0m \u001b[0mfn\u001b[0m\u001b[1;33m,\u001b[0m \u001b[0mname\u001b[0m\u001b[1;33m=\u001b[0m\u001b[1;32mNone\u001b[0m\u001b[1;33m,\u001b[0m \u001b[0mserializer\u001b[0m\u001b[1;33m=\u001b[0m\u001b[0mdill\u001b[0m\u001b[1;33m.\u001b[0m\u001b[0mdumps\u001b[0m\u001b[1;33m)\u001b[0m\u001b[1;33m:\u001b[0m\u001b[1;33m\u001b[0m\u001b[1;33m\u001b[0m\u001b[0m\n",
      "\u001b[1;32mc:\\programdata\\miniconda3\\lib\\site-packages\\cortex\\pipeline.py\u001b[0m in \u001b[0;36m_add_inline_step\u001b[1;34m(self, fn, name, serializer)\u001b[0m\n\u001b[0;32m    223\u001b[0m \u001b[1;33m\u001b[0m\u001b[0m\n\u001b[0;32m    224\u001b[0m     \u001b[1;32mdef\u001b[0m \u001b[0m_add_inline_step\u001b[0m\u001b[1;33m(\u001b[0m\u001b[0mself\u001b[0m\u001b[1;33m,\u001b[0m \u001b[0mfn\u001b[0m\u001b[1;33m,\u001b[0m \u001b[0mname\u001b[0m\u001b[1;33m=\u001b[0m\u001b[1;32mNone\u001b[0m\u001b[1;33m,\u001b[0m \u001b[0mserializer\u001b[0m\u001b[1;33m=\u001b[0m\u001b[0mdill\u001b[0m\u001b[1;33m.\u001b[0m\u001b[0mdumps\u001b[0m\u001b[1;33m)\u001b[0m\u001b[1;33m:\u001b[0m\u001b[1;33m\u001b[0m\u001b[1;33m\u001b[0m\u001b[0m\n\u001b[1;32m--> 225\u001b[1;33m         \u001b[0mfn_name\u001b[0m \u001b[1;33m=\u001b[0m \u001b[0mfn\u001b[0m\u001b[1;33m.\u001b[0m\u001b[0m__name__\u001b[0m\u001b[1;33m\u001b[0m\u001b[1;33m\u001b[0m\u001b[0m\n\u001b[0m\u001b[0;32m    226\u001b[0m         \u001b[1;32mif\u001b[0m \u001b[0mname\u001b[0m \u001b[1;32mis\u001b[0m \u001b[1;32mNone\u001b[0m\u001b[1;33m:\u001b[0m\u001b[1;33m\u001b[0m\u001b[1;33m\u001b[0m\u001b[0m\n\u001b[0;32m    227\u001b[0m             \u001b[0mname\u001b[0m \u001b[1;33m=\u001b[0m \u001b[0mfn_name\u001b[0m\u001b[1;33m\u001b[0m\u001b[1;33m\u001b[0m\u001b[0m\n",
      "\u001b[1;31mAttributeError\u001b[0m: 'NoneType' object has no attribute '__name__'"
     ]
    }
   ],
   "source": [
    "# Build our final input pipeline\n",
    "x_pipe.reset()\n",
    "x_pipe.add_step(fill_zero_cols)\n",
    "x_pipe.add_step(fill_median_cols_ctx)\n",
    "x_pipe.add_step(fill_na_none)\n",
    "x_pipe.add_step(get_dummies)\n",
    "x_pipe.add_step(fix_columns)"
   ]
  },
  {
   "cell_type": "markdown",
   "metadata": {},
   "source": [
    "### Model deployment - Step 2: Configure Data Pipeline for Output\n",
    "If you remember, we scaled our target variable using the numpy _log1p_ function.  We need to inverse this using the _exp_ function so our predicted value is correct."
   ]
  },
  {
   "cell_type": "code",
   "execution_count": 10,
   "metadata": {},
   "outputs": [],
   "source": [
    "y_pipe = builder.pipeline('y_pipe')"
   ]
  },
  {
   "cell_type": "code",
   "execution_count": 11,
   "metadata": {},
   "outputs": [],
   "source": [
    "def rescale_target(pipeline, df):\n",
    "    df['SalePrice'] = np.exp(df['SalePrice'])"
   ]
  },
  {
   "cell_type": "code",
   "execution_count": 12,
   "metadata": {},
   "outputs": [
    {
     "data": {
      "text/plain": [
       "<cortex.pipeline.Pipeline at 0x269ff2d0160>"
      ]
     },
     "execution_count": 12,
     "metadata": {},
     "output_type": "execute_result"
    }
   ],
   "source": [
    "y_pipe.add_step(rescale_target)"
   ]
  },
  {
   "cell_type": "markdown",
   "metadata": {},
   "source": [
    "### Model deployment - Step 3: Build and Deploy Cortex Action\n",
    "Now that we have our input and output pipelines, we can use the Cortex Builder to package and deploy our model in one step."
   ]
  },
  {
   "cell_type": "code",
   "execution_count": 14,
   "metadata": {},
   "outputs": [
    {
     "name": "stdout",
     "output_type": "stream",
     "text": [
      "Building Cortex Action (function): kaggle/ames-housing-predict\n",
      "model version not found, pushing to remote storage: /cortex/models/kaggle/ames-housing-predict/9808a2189867d4e45d8b9b4b44306bb5.pk\n",
      "Building Docker image private-registry.cortex.insights.ai/thatguyluke/kaggle_ames-housing-predict:u4a0jns...\n",
      "Step 1/10 : FROM c12e/cortex-python36:7552534\n",
      "Step 2/10 : WORKDIR /function\n",
      "Step 3/10 : RUN conda config --add channels conda-forge\n",
      "Step 4/10 : COPY conda_requirements.txt .\n",
      "Step 5/10 : RUN conda install --yes --file conda_requirements.txt\n",
      "Step 6/10 : RUN pip install \"dill==0.2.8.2\" \"fdk==0.0.31\" \"cortex-client==7.0.0\"\n",
      "Step 7/10 : COPY requirements.txt .\n",
      "Step 8/10 : RUN pip install -r requirements.txt\n",
      "Collecting scikit-learn<1,>=0.20.0 (from -r requirements.txt (line 2))\n",
      "Downloading https://files.pythonhosted.org/packages/85/04/49633f490f726da6e454fddc8e938bbb5bfed2001681118d3814c219b723/scikit_learn-0.21.2-cp36-cp36m-manylinux1_x86_64.whl (6.7MB)\n",
      "Requirement already satisfied: numpy>=1.11.0 in /opt/conda/lib/python3.6/site-packages (from scikit-learn<1,>=0.20.0->-r requirements.txt (line 2)) (1.16.4)\n",
      "Collecting joblib>=0.11 (from scikit-learn<1,>=0.20.0->-r requirements.txt (line 2))\n",
      "Downloading https://files.pythonhosted.org/packages/cd/c1/50a758e8247561e58cb87305b1e90b171b8c767b15b12a1734001f41d356/joblib-0.13.2-py2.py3-none-any.whl (278kB)\n",
      "Requirement already satisfied: scipy>=0.17.0 in /opt/conda/lib/python3.6/site-packages (from scikit-learn<1,>=0.20.0->-r requirements.txt (line 2)) (1.3.0)\n",
      "\u001b[91mfdk 0.0.31 has requirement dill==0.2.7.1, but you'll have dill 0.2.8.2 which is incompatible.\n",
      "\u001b[0m\n",
      "Installing collected packages: joblib, scikit-learn\n",
      "Successfully installed joblib-0.13.2 scikit-learn-0.21.2\n",
      "\u001b[91mYou are using pip version 10.0.1, however version 19.1.1 is available.\n",
      "You should consider upgrading via the 'pip install --upgrade pip' command.\n",
      "\u001b[0m\n",
      "Removing intermediate container 87efd4a5782f\n",
      "Step 9/10 : COPY action.py .\n",
      "Step 10/10 : ENTRYPOINT [\"python\", \"action.py\"]\n",
      "Removing intermediate container a9617614b6a2\n",
      "Successfully built 672c408dbdbe\n",
      "Successfully tagged private-registry.cortex.insights.ai/thatguyluke/kaggle_ames-housing-predict:u4a0jns\n",
      "Image private-registry.cortex.insights.ai/thatguyluke/kaggle_ames-housing-predict:u4a0jns built in 8.171675 seconds\n",
      "Pushing image to remote repository...\n",
      "u4a0jns: digest: sha256:05517838290a156cb03bf4d1207f644fcd0e41cb13366f91670897ed9db2a8b8 size: 3672\n",
      "Image private-registry.cortex.insights.ai/thatguyluke/kaggle_ames-housing-predict:u4a0jns pushed in 101.772332 seconds\n",
      "Cleaning up...\n"
     ]
    },
    {
     "ename": "HTTPError",
     "evalue": "500 Server Error: Internal Server Error for url: https://api.cortex.insights.ai/v3/actions",
     "output_type": "error",
     "traceback": [
      "\u001b[1;31m---------------------------------------------------------------------------\u001b[0m",
      "\u001b[1;31mHTTPError\u001b[0m                                 Traceback (most recent call last)",
      "\u001b[1;32m<ipython-input-14-d6861c54bcdc>\u001b[0m in \u001b[0;36m<module>\u001b[1;34m()\u001b[0m\n\u001b[1;32m----> 1\u001b[1;33m \u001b[0mbuilder\u001b[0m\u001b[1;33m.\u001b[0m\u001b[0maction\u001b[0m\u001b[1;33m(\u001b[0m\u001b[1;34m'kaggle/ames-housing-predict'\u001b[0m\u001b[1;33m)\u001b[0m       \u001b[1;33m.\u001b[0m\u001b[0mwith_requirements\u001b[0m\u001b[1;33m(\u001b[0m\u001b[1;33m[\u001b[0m\u001b[1;34m'scikit-learn>=0.20.0,<1'\u001b[0m\u001b[1;33m]\u001b[0m\u001b[1;33m)\u001b[0m\u001b[1;33m.\u001b[0m\u001b[0mfrom_model\u001b[0m\u001b[1;33m(\u001b[0m\u001b[0mmodel\u001b[0m\u001b[1;33m,\u001b[0m \u001b[0mx_pipeline\u001b[0m\u001b[1;33m=\u001b[0m\u001b[0mx_pipe\u001b[0m\u001b[1;33m,\u001b[0m \u001b[0my_pipeline\u001b[0m\u001b[1;33m=\u001b[0m\u001b[0my_pipe\u001b[0m\u001b[1;33m,\u001b[0m \u001b[0mtarget\u001b[0m\u001b[1;33m=\u001b[0m\u001b[1;34m'SalePrice'\u001b[0m\u001b[1;33m)\u001b[0m\u001b[1;33m.\u001b[0m\u001b[0mbuild\u001b[0m\u001b[1;33m(\u001b[0m\u001b[1;33m)\u001b[0m\u001b[1;33m\u001b[0m\u001b[1;33m\u001b[0m\u001b[0m\n\u001b[0m",
      "\u001b[1;32mc:\\programdata\\miniconda3\\lib\\site-packages\\cortex\\builder\\action_builder.py\u001b[0m in \u001b[0;36mbuild\u001b[1;34m(self, **kwargs)\u001b[0m\n\u001b[0;32m    287\u001b[0m         \u001b[1;32melse\u001b[0m\u001b[1;33m:\u001b[0m\u001b[1;33m\u001b[0m\u001b[1;33m\u001b[0m\u001b[0m\n\u001b[0;32m    288\u001b[0m             \u001b[1;31m# Assume function\u001b[0m\u001b[1;33m\u001b[0m\u001b[1;33m\u001b[0m\u001b[1;33m\u001b[0m\u001b[0m\n\u001b[1;32m--> 289\u001b[1;33m             \u001b[0mself\u001b[0m\u001b[1;33m.\u001b[0m\u001b[0m_build_function\u001b[0m\u001b[1;33m(\u001b[0m\u001b[0msdk_version\u001b[0m\u001b[1;33m,\u001b[0m \u001b[0m_dry_run\u001b[0m\u001b[1;33m)\u001b[0m\u001b[1;33m\u001b[0m\u001b[1;33m\u001b[0m\u001b[0m\n\u001b[0m\u001b[0;32m    290\u001b[0m \u001b[1;33m\u001b[0m\u001b[0m\n\u001b[0;32m    291\u001b[0m         \u001b[1;32mif\u001b[0m \u001b[0m_dry_run\u001b[0m\u001b[1;33m:\u001b[0m\u001b[1;33m\u001b[0m\u001b[1;33m\u001b[0m\u001b[0m\n",
      "\u001b[1;32mc:\\programdata\\miniconda3\\lib\\site-packages\\cortex\\builder\\action_builder.py\u001b[0m in \u001b[0;36m_build_function\u001b[1;34m(self, cortex_sdk_version, dry_run)\u001b[0m\n\u001b[0;32m    338\u001b[0m             \u001b[0mself\u001b[0m\u001b[1;33m.\u001b[0m\u001b[0m_kind\u001b[0m \u001b[1;33m=\u001b[0m \u001b[1;34m'python:3'\u001b[0m\u001b[1;33m\u001b[0m\u001b[1;33m\u001b[0m\u001b[0m\n\u001b[0;32m    339\u001b[0m             \u001b[1;31m# Deploy from ML model object\u001b[0m\u001b[1;33m\u001b[0m\u001b[1;33m\u001b[0m\u001b[1;33m\u001b[0m\u001b[0m\n\u001b[1;32m--> 340\u001b[1;33m             \u001b[0mself\u001b[0m\u001b[1;33m.\u001b[0m\u001b[0m_deploy_model\u001b[0m\u001b[1;33m(\u001b[0m\u001b[0mcortex_sdk_version\u001b[0m\u001b[1;33m,\u001b[0m \u001b[0mdry_run\u001b[0m\u001b[1;33m)\u001b[0m\u001b[1;33m\u001b[0m\u001b[1;33m\u001b[0m\u001b[0m\n\u001b[0m\u001b[0;32m    341\u001b[0m         \u001b[1;32melse\u001b[0m\u001b[1;33m:\u001b[0m\u001b[1;33m\u001b[0m\u001b[1;33m\u001b[0m\u001b[0m\n\u001b[0;32m    342\u001b[0m             \u001b[1;31m# Deploy existing docker image\u001b[0m\u001b[1;33m\u001b[0m\u001b[1;33m\u001b[0m\u001b[1;33m\u001b[0m\u001b[0m\n",
      "\u001b[1;32mc:\\programdata\\miniconda3\\lib\\site-packages\\cortex\\builder\\action_builder.py\u001b[0m in \u001b[0;36m_deploy_model\u001b[1;34m(self, cortex_sdk_version, dry_run)\u001b[0m\n\u001b[0;32m    681\u001b[0m                 \u001b[1;32mreturn\u001b[0m\u001b[1;33m\u001b[0m\u001b[1;33m\u001b[0m\u001b[0m\n\u001b[0;32m    682\u001b[0m \u001b[1;33m\u001b[0m\u001b[0m\n\u001b[1;32m--> 683\u001b[1;33m             \u001b[0mself\u001b[0m\u001b[1;33m.\u001b[0m\u001b[0m_deploy_function_image\u001b[0m\u001b[1;33m(\u001b[0m\u001b[0m_predict_source\u001b[0m\u001b[1;33m,\u001b[0m \u001b[1;34m'predict'\u001b[0m\u001b[1;33m,\u001b[0m \u001b[0m_globals\u001b[0m\u001b[1;33m,\u001b[0m \u001b[0mcortex_sdk_version\u001b[0m\u001b[1;33m)\u001b[0m\u001b[1;33m\u001b[0m\u001b[1;33m\u001b[0m\u001b[0m\n\u001b[0m\u001b[0;32m    684\u001b[0m \u001b[1;33m\u001b[0m\u001b[0m\n\u001b[0;32m    685\u001b[0m             \u001b[1;31m# DISABLED: push a code archive\u001b[0m\u001b[1;33m\u001b[0m\u001b[1;33m\u001b[0m\u001b[1;33m\u001b[0m\u001b[0m\n",
      "\u001b[1;32mc:\\programdata\\miniconda3\\lib\\site-packages\\cortex\\builder\\action_builder.py\u001b[0m in \u001b[0;36m_deploy_function_image\u001b[1;34m(self, source, func_name, global_code, cortex_sdk_version, source_archive)\u001b[0m\n\u001b[0;32m    561\u001b[0m \u001b[1;33m\u001b[0m\u001b[0m\n\u001b[0;32m    562\u001b[0m             \u001b[1;31m# Deploy the Cortex Action\u001b[0m\u001b[1;33m\u001b[0m\u001b[1;33m\u001b[0m\u001b[1;33m\u001b[0m\u001b[0m\n\u001b[1;32m--> 563\u001b[1;33m             \u001b[0mself\u001b[0m\u001b[1;33m.\u001b[0m\u001b[0m_client\u001b[0m\u001b[1;33m.\u001b[0m\u001b[0mdeploy_action\u001b[0m\u001b[1;33m(\u001b[0m\u001b[0mself\u001b[0m\u001b[1;33m.\u001b[0m\u001b[0m_name\u001b[0m\u001b[1;33m,\u001b[0m \u001b[0mself\u001b[0m\u001b[1;33m.\u001b[0m\u001b[0m_kind\u001b[0m\u001b[1;33m,\u001b[0m \u001b[0mself\u001b[0m\u001b[1;33m.\u001b[0m\u001b[0m_get_docker_repository\u001b[0m\u001b[1;33m(\u001b[0m\u001b[0muse_prefix\u001b[0m\u001b[1;33m=\u001b[0m\u001b[1;32mTrue\u001b[0m\u001b[1;33m)\u001b[0m\u001b[1;33m)\u001b[0m\u001b[1;33m\u001b[0m\u001b[1;33m\u001b[0m\u001b[0m\n\u001b[0m\u001b[0;32m    564\u001b[0m         \u001b[1;32mfinally\u001b[0m\u001b[1;33m:\u001b[0m\u001b[1;33m\u001b[0m\u001b[1;33m\u001b[0m\u001b[0m\n\u001b[0;32m    565\u001b[0m             \u001b[1;31m# cleanup temp\u001b[0m\u001b[1;33m\u001b[0m\u001b[1;33m\u001b[0m\u001b[1;33m\u001b[0m\u001b[0m\n",
      "\u001b[1;32mc:\\programdata\\miniconda3\\lib\\site-packages\\cortex_client\\actionclient.py\u001b[0m in \u001b[0;36mdeploy_action\u001b[1;34m(self, name, kind, docker, code, action_type, **kwargs)\u001b[0m\n\u001b[0;32m     89\u001b[0m         \u001b[0mm\u001b[0m \u001b[1;33m=\u001b[0m \u001b[0mMultipartEncoder\u001b[0m\u001b[1;33m(\u001b[0m\u001b[0maction\u001b[0m\u001b[1;33m)\u001b[0m\u001b[1;33m\u001b[0m\u001b[1;33m\u001b[0m\u001b[0m\n\u001b[0;32m     90\u001b[0m         \u001b[0mr\u001b[0m \u001b[1;33m=\u001b[0m \u001b[0mself\u001b[0m\u001b[1;33m.\u001b[0m\u001b[0m_serviceconnector\u001b[0m\u001b[1;33m.\u001b[0m\u001b[0mrequest\u001b[0m\u001b[1;33m(\u001b[0m\u001b[0mmethod\u001b[0m\u001b[1;33m=\u001b[0m\u001b[1;34m'POST'\u001b[0m\u001b[1;33m,\u001b[0m \u001b[0muri\u001b[0m\u001b[1;33m=\u001b[0m\u001b[0muri\u001b[0m\u001b[1;33m,\u001b[0m \u001b[0mbody\u001b[0m\u001b[1;33m=\u001b[0m\u001b[0mm\u001b[0m\u001b[1;33m,\u001b[0m \u001b[0mheaders\u001b[0m\u001b[1;33m=\u001b[0m\u001b[1;33m{\u001b[0m\u001b[1;34m'Content-type'\u001b[0m\u001b[1;33m:\u001b[0m \u001b[0mm\u001b[0m\u001b[1;33m.\u001b[0m\u001b[0mcontent_type\u001b[0m\u001b[1;33m}\u001b[0m\u001b[1;33m)\u001b[0m\u001b[1;33m\u001b[0m\u001b[1;33m\u001b[0m\u001b[0m\n\u001b[1;32m---> 91\u001b[1;33m         \u001b[0mr\u001b[0m\u001b[1;33m.\u001b[0m\u001b[0mraise_for_status\u001b[0m\u001b[1;33m(\u001b[0m\u001b[1;33m)\u001b[0m\u001b[1;33m\u001b[0m\u001b[1;33m\u001b[0m\u001b[0m\n\u001b[0m\u001b[0;32m     92\u001b[0m         \u001b[1;32mreturn\u001b[0m \u001b[0mr\u001b[0m\u001b[1;33m.\u001b[0m\u001b[0mjson\u001b[0m\u001b[1;33m(\u001b[0m\u001b[1;33m)\u001b[0m\u001b[1;33m\u001b[0m\u001b[1;33m\u001b[0m\u001b[0m\n\u001b[0;32m     93\u001b[0m \u001b[1;33m\u001b[0m\u001b[0m\n",
      "\u001b[1;32mc:\\programdata\\miniconda3\\lib\\site-packages\\requests\\models.py\u001b[0m in \u001b[0;36mraise_for_status\u001b[1;34m(self)\u001b[0m\n\u001b[0;32m    938\u001b[0m \u001b[1;33m\u001b[0m\u001b[0m\n\u001b[0;32m    939\u001b[0m         \u001b[1;32mif\u001b[0m \u001b[0mhttp_error_msg\u001b[0m\u001b[1;33m:\u001b[0m\u001b[1;33m\u001b[0m\u001b[1;33m\u001b[0m\u001b[0m\n\u001b[1;32m--> 940\u001b[1;33m             \u001b[1;32mraise\u001b[0m \u001b[0mHTTPError\u001b[0m\u001b[1;33m(\u001b[0m\u001b[0mhttp_error_msg\u001b[0m\u001b[1;33m,\u001b[0m \u001b[0mresponse\u001b[0m\u001b[1;33m=\u001b[0m\u001b[0mself\u001b[0m\u001b[1;33m)\u001b[0m\u001b[1;33m\u001b[0m\u001b[1;33m\u001b[0m\u001b[0m\n\u001b[0m\u001b[0;32m    941\u001b[0m \u001b[1;33m\u001b[0m\u001b[0m\n\u001b[0;32m    942\u001b[0m     \u001b[1;32mdef\u001b[0m \u001b[0mclose\u001b[0m\u001b[1;33m(\u001b[0m\u001b[0mself\u001b[0m\u001b[1;33m)\u001b[0m\u001b[1;33m:\u001b[0m\u001b[1;33m\u001b[0m\u001b[1;33m\u001b[0m\u001b[0m\n",
      "\u001b[1;31mHTTPError\u001b[0m: 500 Server Error: Internal Server Error for url: https://api.cortex.insights.ai/v3/actions"
     ]
    }
   ],
   "source": [
    "builder.action('kaggle/ames-housing-predict')\\\n",
    "       .with_requirements(['scikit-learn>=0.20.0,<1']).from_model(model, x_pipeline=x_pipe, y_pipeline=y_pipe, target='SalePrice').build()"
   ]
  },
  {
   "cell_type": "code",
   "execution_count": null,
   "metadata": {},
   "outputs": [],
   "source": [
    "action = cortex.action('kaggle/ames-housing-predict-lt')\n",
    "action"
   ]
  },
  {
   "cell_type": "markdown",
   "metadata": {
    "slideshow": {
     "slide_type": "notes"
    }
   },
   "source": [
    "---\n",
    "Unit test for the Action.  Make sure our action is ready for use."
   ]
  },
  {
   "cell_type": "code",
   "execution_count": 13,
   "metadata": {},
   "outputs": [
    {
     "ename": "NameError",
     "evalue": "name 'action' is not defined",
     "output_type": "error",
     "traceback": [
      "\u001b[1;31m---------------------------------------------------------------------------\u001b[0m",
      "\u001b[1;31mNameError\u001b[0m                                 Traceback (most recent call last)",
      "\u001b[1;32m<timed exec>\u001b[0m in \u001b[0;36m<module>\u001b[1;34m()\u001b[0m\n",
      "\u001b[1;31mNameError\u001b[0m: name 'action' is not defined"
     ]
    }
   ],
   "source": [
    "%%time\n",
    "\n",
    "params = {\n",
    "    \"columns\": ['MSSubClass', 'MSZoning', 'LotFrontage', 'LotArea', 'Street', 'Alley', 'LotShape', 'LandContour', 'Utilities', 'LotConfig', 'LandSlope', 'Neighborhood', 'Condition1', 'Condition2', 'BldgType', 'HouseStyle', 'OverallQual', 'OverallCond', 'YearBuilt', 'YearRemodAdd', 'RoofStyle', 'RoofMatl', 'Exterior1st', 'Exterior2nd', 'MasVnrType', 'MasVnrArea', 'ExterQual', 'ExterCond', 'Foundation', 'BsmtQual', 'BsmtCond', 'BsmtExposure', 'BsmtFinType1', 'BsmtFinSF1', 'BsmtFinType2', 'BsmtFinSF2', 'BsmtUnfSF', 'TotalBsmtSF', 'Heating', 'HeatingQC', 'CentralAir', 'Electrical', '1stFlrSF', '2ndFlrSF', 'LowQualFinSF', 'GrLivArea', 'BsmtFullBath', 'BsmtHalfBath', 'FullBath', 'HalfBath', 'BedroomAbvGr', 'KitchenAbvGr', 'KitchenQual', 'TotRmsAbvGrd', 'Functional', 'Fireplaces', 'FireplaceQu', 'GarageType', 'GarageYrBlt', 'GarageFinish', 'GarageCars', 'GarageArea', 'GarageQual', 'GarageCond', 'PavedDrive', 'WoodDeckSF', 'OpenPorchSF', 'EnclosedPorch', '3SsnPorch', 'ScreenPorch', 'PoolArea', 'PoolQC', 'Fence', 'MiscFeature', 'MiscVal', 'MoSold', 'YrSold', 'SaleType', 'SaleCondition'],\n",
    "    \"values\": [[20,\"RH\",80.0,11622,\"Pave\",None,\"Reg\",\"Lvl\",\"AllPub\",\"Inside\",\"Gtl\",\"NAmes\",\"Feedr\",\"Norm\",\"1Fam\",\"1Story\",5,6,1961,1961,\"Gable\",\"CompShg\",\"VinylSd\",\"VinylSd\",\"None\",0.0,\"TA\",\"TA\",\"CBlock\",\"TA\",\"TA\",\"No\",\"Rec\",468.0,\"LwQ\",144.0,270.0,882.0,\"GasA\",\"TA\",\"Y\",\"SBrkr\",896,0,0,896,0.0,0.0,1,0,2,1,\"TA\",5,\"Typ\",0,None,\"Attchd\",1961.0,\"Unf\",1.0,730.0,\"TA\",\"TA\",\"Y\",140,0,0,0,120,0,None,\"MnPrv\",None,0,6,2010,\"WD\",\"Normal\"]]\n",
    "}\n",
    "\n",
    "result = action.invoke(message=Message.with_payload(params))\n",
    "print(result.payload)\n",
    "print()"
   ]
  },
  {
   "cell_type": "markdown",
   "metadata": {},
   "source": [
    "## Building a Cortex Skill\n",
    "Now that our Action is ready and tested, we can move on to building a Cortex Skill.  We start by creating a Schema that defines our input for Ames Housing price prediction.  The schema will be built automatically using the parameters we already defined in our training dataset."
   ]
  },
  {
   "cell_type": "code",
   "execution_count": null,
   "metadata": {},
   "outputs": [],
   "source": [
    "x_schema = builder.schema('kaggle/ames-housing-instance').title('Ames Housing Test Instance').from_parameters(train_ds.parameters[1:][:-1]).build()"
   ]
  },
  {
   "cell_type": "markdown",
   "metadata": {},
   "source": [
    "The _builder_ has multiple entry points, we use the _skill_ method here to declare a new \"Ames Housing Price Prediction\" Skill.  Each _builder_ method returns an instance of the builder so we can chain calls together."
   ]
  },
  {
   "cell_type": "code",
   "execution_count": null,
   "metadata": {},
   "outputs": [],
   "source": [
    "b = builder.skill('kaggle/ames-housing-price-predict-<your_initials>').title('Ames Housing Price Prediction').description('Predicts the price of a houses in Ames, Iowa.')"
   ]
  },
  {
   "cell_type": "markdown",
   "metadata": {},
   "source": [
    "Next, we use the Input sub-builder to construct our Skill Input.  This is where we declare how our Input will route messages.  In this simple case, we use the _all_ routing which routes all input messages to same Action for processing and declares wich Output to route Action outputs to.  We pass in our Action that we built previously to wire the Skill to the Action (we could have also passed in the Action name here).  Calling _build_ on the Input will create the input object, add it to the Skill builder, and return the Skill builder."
   ]
  },
  {
   "cell_type": "code",
   "execution_count": null,
   "metadata": {},
   "outputs": [],
   "source": [
    "b = b.input('ames-house').title('Ames House').use_schema(x_schema.name).all_routing(action, 'price-prediction').build()"
   ]
  },
  {
   "cell_type": "markdown",
   "metadata": {},
   "source": [
    "In the previous step, we referenced an Output called **price-prediction**.  We can create that Output here using the Output sub-builder."
   ]
  },
  {
   "cell_type": "code",
   "execution_count": null,
   "metadata": {},
   "outputs": [],
   "source": [
    "b = b.output('price-prediction').title('Price Prediction').parameter(name='SalePrice', type='number', format='double').build()"
   ]
  },
  {
   "cell_type": "markdown",
   "metadata": {},
   "source": [
    "We can preview the CAMEL document our builder will create to make sure everything looks correct."
   ]
  },
  {
   "cell_type": "code",
   "execution_count": null,
   "metadata": {},
   "outputs": [],
   "source": [
    "b.to_camel()"
   ]
  },
  {
   "cell_type": "markdown",
   "metadata": {},
   "source": [
    "---\n",
    "### Build and Publish the Skill to your Catalog\n",
    "This will build the Skill and publish it to your catalog.  It will then be available for use in the Agent Builder."
   ]
  },
  {
   "cell_type": "code",
   "execution_count": null,
   "metadata": {},
   "outputs": [],
   "source": [
    "skill = b.build()\n",
    "print('%s (%s) v%d' % (skill.title, skill.name, skill.version))"
   ]
  },
  {
   "cell_type": "code",
   "execution_count": null,
   "metadata": {},
   "outputs": [],
   "source": [
    "params = {\n",
    "    \"columns\": ['MSSubClass', 'MSZoning', 'LotFrontage', 'LotArea', 'Street', 'Alley', 'LotShape', 'LandContour', 'Utilities', 'LotConfig', 'LandSlope', 'Neighborhood', 'Condition1', 'Condition2', 'BldgType', 'HouseStyle', 'OverallQual', 'OverallCond', 'YearBuilt', 'YearRemodAdd', 'RoofStyle', 'RoofMatl', 'Exterior1st', 'Exterior2nd', 'MasVnrType', 'MasVnrArea', 'ExterQual', 'ExterCond', 'Foundation', 'BsmtQual', 'BsmtCond', 'BsmtExposure', 'BsmtFinType1', 'BsmtFinSF1', 'BsmtFinType2', 'BsmtFinSF2', 'BsmtUnfSF', 'TotalBsmtSF', 'Heating', 'HeatingQC', 'CentralAir', 'Electrical', '1stFlrSF', '2ndFlrSF', 'LowQualFinSF', 'GrLivArea', 'BsmtFullBath', 'BsmtHalfBath', 'FullBath', 'HalfBath', 'BedroomAbvGr', 'KitchenAbvGr', 'KitchenQual', 'TotRmsAbvGrd', 'Functional', 'Fireplaces', 'FireplaceQu', 'GarageType', 'GarageYrBlt', 'GarageFinish', 'GarageCars', 'GarageArea', 'GarageQual', 'GarageCond', 'PavedDrive', 'WoodDeckSF', 'OpenPorchSF', 'EnclosedPorch', '3SsnPorch', 'ScreenPorch', 'PoolArea', 'PoolQC', 'Fence', 'MiscFeature', 'MiscVal', 'MoSold', 'YrSold', 'SaleType', 'SaleCondition'],\n",
    "    \"values\": [[20,\"RH\",80.0,11622,\"Pave\",None,\"Reg\",\"Lvl\",\"AllPub\",\"Inside\",\"Gtl\",\"NAmes\",\"Feedr\",\"Norm\",\"1Fam\",\"1Story\",5,6,1961,1961,\"Gable\",\"CompShg\",\"VinylSd\",\"VinylSd\",\"None\",0.0,\"TA\",\"TA\",\"CBlock\",\"TA\",\"TA\",\"No\",\"Rec\",468.0,\"LwQ\",144.0,270.0,882.0,\"GasA\",\"TA\",\"Y\",\"SBrkr\",896,0,0,896,0.0,0.0,1,0,2,1,\"TA\",5,\"Typ\",0,None,\"Attchd\",1961.0,\"Unf\",1.0,730.0,\"TA\",\"TA\",\"Y\",140,0,0,0,120,0,None,\"MnPrv\",None,0,6,2010,\"WD\",\"Normal\"]]\n",
    "}\n",
    "\n",
    "rs = skill.invoke(input_name='ames-house', message=Message.with_payload(params))\n",
    "rs.payload\n"
   ]
  }
 ],
 "metadata": {
  "kernelspec": {
   "display_name": "Python 3",
   "language": "python",
   "name": "python3"
  },
  "language_info": {
   "codemirror_mode": {
    "name": "ipython",
    "version": 3
   },
   "file_extension": ".py",
   "mimetype": "text/x-python",
   "name": "python",
   "nbconvert_exporter": "python",
   "pygments_lexer": "ipython3",
   "version": "3.7.1"
  }
 },
 "nbformat": 4,
 "nbformat_minor": 2
}
