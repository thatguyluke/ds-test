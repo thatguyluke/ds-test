{
 "cells": [
  {
   "cell_type": "markdown",
   "metadata": {},
   "source": [
    "# Ames Housing Prices - Step 5: Model Deployment\n",
    "Now that we have trained and selected our optimal model, its time to deploy it.  This notebook demonstrates how to user our Experiment and Pipelines from the previous steps to easly deploy our model as a Cortex Action. "
   ]
  },
  {
   "cell_type": "code",
   "execution_count": 1,
   "metadata": {},
   "outputs": [
    {
     "name": "stdout",
     "output_type": "stream",
     "text": [
      "Collecting cortex-client[viz]==7.1.2a3\n",
      "\u001b[?25l  Downloading https://files.pythonhosted.org/packages/02/25/62046f7a60f370af7307aa11ff1faff7fa320e78d12e5e5f66675564d6e2/cortex-client-7.1.2a3.zip (198kB)\n",
      "\u001b[K     |████████████████████████████████| 204kB 2.8MB/s eta 0:00:01\n",
      "\u001b[?25hCollecting requests<3,>=2.12.4 (from cortex-client[viz]==7.1.2a3)\n",
      "  Using cached https://files.pythonhosted.org/packages/51/bd/23c926cd341ea6b7dd0b2a00aba99ae0f828be89d72b2190f27c11d4b7fb/requests-2.22.0-py2.py3-none-any.whl\n",
      "Collecting requests-toolbelt==0.8.0 (from cortex-client[viz]==7.1.2a3)\n",
      "  Using cached https://files.pythonhosted.org/packages/97/8a/d710f792d6f6ecc089c5e55b66e66c3f2f35516a1ede5a8f54c13350ffb0/requests_toolbelt-0.8.0-py2.py3-none-any.whl\n",
      "Collecting Flask==1.0.2 (from cortex-client[viz]==7.1.2a3)\n",
      "  Using cached https://files.pythonhosted.org/packages/7f/e7/08578774ed4536d3242b14dacb4696386634607af824ea997202cd0edb4b/Flask-1.0.2-py2.py3-none-any.whl\n",
      "Collecting diskcache<3.1,>=3.0.5 (from cortex-client[viz]==7.1.2a3)\n",
      "  Using cached https://files.pythonhosted.org/packages/24/cd/82de3b0e3c01f5de22dc6d95e0c3bd35a32ca07967092e03c995636443a1/diskcache-3.0.6-py2.py3-none-any.whl\n",
      "Collecting ipython<7,>=6.4.0 (from cortex-client[viz]==7.1.2a3)\n",
      "  Using cached https://files.pythonhosted.org/packages/f7/62/2fef7db3a7b75e8099c3d9db2630ae5ba0b9eefefd91f7497862393d90e8/ipython-6.5.0-py3-none-any.whl\n",
      "Collecting pyjwt<2,>=1.6.1 (from cortex-client[viz]==7.1.2a3)\n",
      "  Using cached https://files.pythonhosted.org/packages/87/8b/6a9f14b5f781697e51259d81657e6048fd31a113229cf346880bb7545565/PyJWT-1.7.1-py2.py3-none-any.whl\n",
      "Collecting dill==0.2.8.2 (from cortex-client[viz]==7.1.2a3)\n",
      "Collecting more_itertools<5,>=4.3.0 (from cortex-client[viz]==7.1.2a3)\n",
      "  Using cached https://files.pythonhosted.org/packages/79/b1/eace304ef66bd7d3d8b2f78cc374b73ca03bc53664d78151e9df3b3996cc/more_itertools-4.3.0-py3-none-any.whl\n",
      "Collecting pyyaml<4,>=3.13 (from cortex-client[viz]==7.1.2a3)\n",
      "Collecting cuid<1,>=0.3 (from cortex-client[viz]==7.1.2a3)\n",
      "Collecting maya==0.5.0 (from cortex-client[viz]==7.1.2a3)\n",
      "  Using cached https://files.pythonhosted.org/packages/fe/bc/2396f49b3515bf145241190a5d5768463958e80c37b2a869977f910d176b/maya-0.5.0-py2.py3-none-any.whl\n",
      "Collecting docker==3.7.2 (from cortex-client[viz]==7.1.2a3)\n",
      "  Using cached https://files.pythonhosted.org/packages/48/68/c3afca1a5aa8d2997ec3b8ee822a4d752cf85907b321f07ea86888545152/docker-3.7.2-py2.py3-none-any.whl\n",
      "Collecting deprecation==2.0.6 (from cortex-client[viz]==7.1.2a3)\n",
      "  Using cached https://files.pythonhosted.org/packages/32/e9/01ffbaf3540ad54476cd7066439d629f1dd73b851cc5c0993ce2c12e1cdd/deprecation-2.0.6-py2.py3-none-any.whl\n",
      "Collecting tenacity==5.0.2 (from cortex-client[viz]==7.1.2a3)\n",
      "  Using cached https://files.pythonhosted.org/packages/b5/02/f912867529807b879972d8000e23c2f67b8b3755171e1d3c2049e347a3c9/tenacity-5.0.2-py2.py3-none-any.whl\n",
      "Collecting pydash<4.8,>=4.7.3 (from cortex-client[viz]==7.1.2a3)\n",
      "  Using cached https://files.pythonhosted.org/packages/62/9c/62bda6b5453545d7f3077d71f804fa6fcd48a055f6216f165fdbc9f3a8bb/pydash-4.7.5-py2.py3-none-any.whl\n",
      "Collecting arrow<0.13,>=0.12.1 (from cortex-client[viz]==7.1.2a3)\n",
      "Collecting pandas<0.24,>=0.23.4 (from cortex-client[viz]==7.1.2a3)\n",
      "  Using cached https://files.pythonhosted.org/packages/78/78/50ef81a903eccc4e90e278a143c9a0530f05199f6221d2e1b21025852982/pandas-0.23.4-cp36-cp36m-macosx_10_6_intel.macosx_10_9_intel.macosx_10_9_x86_64.macosx_10_10_intel.macosx_10_10_x86_64.whl\n",
      "Collecting attrs==18.2.0 (from cortex-client[viz]==7.1.2a3)\n",
      "  Using cached https://files.pythonhosted.org/packages/3a/e1/5f9023cc983f1a628a8c2fd051ad19e76ff7b142a0faf329336f9a62a514/attrs-18.2.0-py2.py3-none-any.whl\n",
      "Collecting dataclasses>=0.6 (from cortex-client[viz]==7.1.2a3)\n",
      "  Using cached https://files.pythonhosted.org/packages/26/2f/1095cdc2868052dd1e64520f7c0d5c8c550ad297e944e641dbf1ffbb9a5d/dataclasses-0.6-py3-none-any.whl\n",
      "Collecting matplotlib<3,>=2.2.2 (from cortex-client[viz]==7.1.2a3)\n",
      "  Using cached https://files.pythonhosted.org/packages/55/bf/cb625a3050c444da570541d33f51c3640d34a34a6f593bc7780deb97b4ec/matplotlib-2.2.4-cp36-cp36m-macosx_10_6_intel.macosx_10_9_intel.macosx_10_9_x86_64.macosx_10_10_intel.macosx_10_10_x86_64.whl\n",
      "Collecting seaborn<0.10,>=0.9.0 (from cortex-client[viz]==7.1.2a3)\n",
      "  Using cached https://files.pythonhosted.org/packages/a8/76/220ba4420459d9c4c9c9587c6ce607bf56c25b3d3d2de62056efe482dadc/seaborn-0.9.0-py3-none-any.whl\n",
      "Collecting chardet<3.1.0,>=3.0.2 (from requests<3,>=2.12.4->cortex-client[viz]==7.1.2a3)\n",
      "  Using cached https://files.pythonhosted.org/packages/bc/a9/01ffebfb562e4274b6487b4bb1ddec7ca55ec7510b22e4c51f14098443b8/chardet-3.0.4-py2.py3-none-any.whl\n",
      "Collecting urllib3!=1.25.0,!=1.25.1,<1.26,>=1.21.1 (from requests<3,>=2.12.4->cortex-client[viz]==7.1.2a3)\n",
      "  Using cached https://files.pythonhosted.org/packages/e6/60/247f23a7121ae632d62811ba7f273d0e58972d75e58a94d329d51550a47d/urllib3-1.25.3-py2.py3-none-any.whl\n",
      "Collecting idna<2.9,>=2.5 (from requests<3,>=2.12.4->cortex-client[viz]==7.1.2a3)\n",
      "  Using cached https://files.pythonhosted.org/packages/14/2c/cd551d81dbe15200be1cf41cd03869a46fe7226e7450af7a6545bfc474c9/idna-2.8-py2.py3-none-any.whl\n",
      "Requirement already satisfied: certifi>=2017.4.17 in /anaconda3/envs/luke3/lib/python3.6/site-packages (from requests<3,>=2.12.4->cortex-client[viz]==7.1.2a3) (2019.6.16)\n",
      "Requirement already satisfied: Jinja2>=2.10 in /anaconda3/envs/luke3/lib/python3.6/site-packages (from Flask==1.0.2->cortex-client[viz]==7.1.2a3) (2.10.1)\n",
      "Collecting Werkzeug>=0.14 (from Flask==1.0.2->cortex-client[viz]==7.1.2a3)\n",
      "  Using cached https://files.pythonhosted.org/packages/9f/57/92a497e38161ce40606c27a86759c6b92dd34fcdb33f64171ec559257c02/Werkzeug-0.15.4-py2.py3-none-any.whl\n",
      "Collecting itsdangerous>=0.24 (from Flask==1.0.2->cortex-client[viz]==7.1.2a3)\n",
      "  Using cached https://files.pythonhosted.org/packages/76/ae/44b03b253d6fade317f32c24d100b3b35c2239807046a4c953c7b89fa49e/itsdangerous-1.1.0-py2.py3-none-any.whl\n",
      "Collecting click>=5.1 (from Flask==1.0.2->cortex-client[viz]==7.1.2a3)\n",
      "  Using cached https://files.pythonhosted.org/packages/fa/37/45185cb5abbc30d7257104c434fe0b07e5a195a6847506c074527aa599ec/Click-7.0-py2.py3-none-any.whl\n",
      "Collecting simplegeneric>0.8 (from ipython<7,>=6.4.0->cortex-client[viz]==7.1.2a3)\n",
      "Requirement already satisfied: traitlets>=4.2 in /anaconda3/envs/luke3/lib/python3.6/site-packages (from ipython<7,>=6.4.0->cortex-client[viz]==7.1.2a3) (4.3.2)\n",
      "Collecting prompt-toolkit<2.0.0,>=1.0.15 (from ipython<7,>=6.4.0->cortex-client[viz]==7.1.2a3)\n",
      "  Using cached https://files.pythonhosted.org/packages/57/a8/a151b6c61718eabe6b4672b6aa760b734989316d62ec1ba4996765e602d4/prompt_toolkit-1.0.16-py3-none-any.whl\n",
      "Requirement already satisfied: setuptools>=18.5 in /anaconda3/envs/luke3/lib/python3.6/site-packages (from ipython<7,>=6.4.0->cortex-client[viz]==7.1.2a3) (41.0.1)\n",
      "Requirement already satisfied: appnope; sys_platform == \"darwin\" in /anaconda3/envs/luke3/lib/python3.6/site-packages (from ipython<7,>=6.4.0->cortex-client[viz]==7.1.2a3) (0.1.0)\n",
      "Requirement already satisfied: decorator in /anaconda3/envs/luke3/lib/python3.6/site-packages (from ipython<7,>=6.4.0->cortex-client[viz]==7.1.2a3) (4.4.0)\n",
      "Requirement already satisfied: pickleshare in /anaconda3/envs/luke3/lib/python3.6/site-packages (from ipython<7,>=6.4.0->cortex-client[viz]==7.1.2a3) (0.7.5)\n",
      "Requirement already satisfied: backcall in /anaconda3/envs/luke3/lib/python3.6/site-packages (from ipython<7,>=6.4.0->cortex-client[viz]==7.1.2a3) (0.1.0)\n",
      "Requirement already satisfied: pygments in /anaconda3/envs/luke3/lib/python3.6/site-packages (from ipython<7,>=6.4.0->cortex-client[viz]==7.1.2a3) (2.4.2)\n",
      "Requirement already satisfied: jedi>=0.10 in /anaconda3/envs/luke3/lib/python3.6/site-packages (from ipython<7,>=6.4.0->cortex-client[viz]==7.1.2a3) (0.14.0)\n",
      "Requirement already satisfied: pexpect; sys_platform != \"win32\" in /anaconda3/envs/luke3/lib/python3.6/site-packages (from ipython<7,>=6.4.0->cortex-client[viz]==7.1.2a3) (4.7.0)\n",
      "Requirement already satisfied: six<2.0.0,>=1.0.0 in /anaconda3/envs/luke3/lib/python3.6/site-packages (from more_itertools<5,>=4.3.0->cortex-client[viz]==7.1.2a3) (1.12.0)\n",
      "Collecting snaptime (from maya==0.5.0->cortex-client[viz]==7.1.2a3)\n",
      "Collecting pytz (from maya==0.5.0->cortex-client[viz]==7.1.2a3)\n",
      "  Using cached https://files.pythonhosted.org/packages/3d/73/fe30c2daaaa0713420d0382b16fbb761409f532c56bdcc514bf7b6262bb6/pytz-2019.1-py2.py3-none-any.whl\n",
      "Collecting pendulum<=1.5.1,>=1.0 (from maya==0.5.0->cortex-client[viz]==7.1.2a3)\n",
      "  Using cached https://files.pythonhosted.org/packages/4e/43/ccc5c72872b08dfbd155e4c53834f9c333af943fd4e5705e1756480cfdfe/pendulum-1.5.1-cp36-cp36m-macosx_10_13_x86_64.whl\n",
      "Collecting tzlocal (from maya==0.5.0->cortex-client[viz]==7.1.2a3)\n",
      "Collecting humanize (from maya==0.5.0->cortex-client[viz]==7.1.2a3)\n",
      "Collecting dateparser>=0.7.0 (from maya==0.5.0->cortex-client[viz]==7.1.2a3)\n",
      "  Using cached https://files.pythonhosted.org/packages/a0/30/5cb8bb214c0b111fb59137c2e19c636a136209dbe45e1c3e9d63f7a76c1a/dateparser-0.7.1-py2.py3-none-any.whl\n",
      "Collecting websocket-client>=0.32.0 (from docker==3.7.2->cortex-client[viz]==7.1.2a3)\n",
      "  Using cached https://files.pythonhosted.org/packages/29/19/44753eab1fdb50770ac69605527e8859468f3c0fd7dc5a76dd9c4dbd7906/websocket_client-0.56.0-py2.py3-none-any.whl\n",
      "Collecting docker-pycreds>=0.4.0 (from docker==3.7.2->cortex-client[viz]==7.1.2a3)\n",
      "  Using cached https://files.pythonhosted.org/packages/f5/e8/f6bd1eee09314e7e6dee49cbe2c5e22314ccdb38db16c9fc72d2fa80d054/docker_pycreds-0.4.0-py2.py3-none-any.whl\n",
      "Collecting packaging (from deprecation==2.0.6->cortex-client[viz]==7.1.2a3)\n",
      "  Using cached https://files.pythonhosted.org/packages/91/32/58bc30e646e55eab8b21abf89e353f59c0cc02c417e42929f4a9546e1b1d/packaging-19.0-py2.py3-none-any.whl\n",
      "Requirement already satisfied: python-dateutil in /anaconda3/envs/luke3/lib/python3.6/site-packages (from arrow<0.13,>=0.12.1->cortex-client[viz]==7.1.2a3) (2.8.0)\n",
      "Requirement already satisfied: numpy>=1.9.0 in /anaconda3/envs/luke3/lib/python3.6/site-packages (from pandas<0.24,>=0.23.4->cortex-client[viz]==7.1.2a3) (1.16.4)\n",
      "Collecting cycler>=0.10 (from matplotlib<3,>=2.2.2->cortex-client[viz]==7.1.2a3)\n",
      "  Using cached https://files.pythonhosted.org/packages/f7/d2/e07d3ebb2bd7af696440ce7e754c59dd546ffe1bbe732c8ab68b9c834e61/cycler-0.10.0-py2.py3-none-any.whl\n",
      "Collecting kiwisolver>=1.0.1 (from matplotlib<3,>=2.2.2->cortex-client[viz]==7.1.2a3)\n",
      "  Using cached https://files.pythonhosted.org/packages/49/5d/d1726d2a2fd471a69ef5014ca42812e1ccb8a13085c42bfcb238a5611f39/kiwisolver-1.1.0-cp36-cp36m-macosx_10_6_intel.macosx_10_9_intel.macosx_10_9_x86_64.macosx_10_10_intel.macosx_10_10_x86_64.whl\n",
      "Collecting pyparsing!=2.0.4,!=2.1.2,!=2.1.6,>=2.0.1 (from matplotlib<3,>=2.2.2->cortex-client[viz]==7.1.2a3)\n",
      "  Using cached https://files.pythonhosted.org/packages/dd/d9/3ec19e966301a6e25769976999bd7bbe552016f0d32b577dc9d63d2e0c49/pyparsing-2.4.0-py2.py3-none-any.whl\n",
      "Requirement already satisfied: scipy>=0.14.0 in /anaconda3/envs/luke3/lib/python3.6/site-packages (from seaborn<0.10,>=0.9.0->cortex-client[viz]==7.1.2a3) (1.3.0)\n",
      "Requirement already satisfied: MarkupSafe>=0.23 in /anaconda3/envs/luke3/lib/python3.6/site-packages (from Jinja2>=2.10->Flask==1.0.2->cortex-client[viz]==7.1.2a3) (1.1.1)\n",
      "Requirement already satisfied: ipython_genutils in /anaconda3/envs/luke3/lib/python3.6/site-packages (from traitlets>=4.2->ipython<7,>=6.4.0->cortex-client[viz]==7.1.2a3) (0.2.0)\n",
      "Requirement already satisfied: wcwidth in /anaconda3/envs/luke3/lib/python3.6/site-packages (from prompt-toolkit<2.0.0,>=1.0.15->ipython<7,>=6.4.0->cortex-client[viz]==7.1.2a3) (0.1.7)\n",
      "Requirement already satisfied: parso>=0.3.0 in /anaconda3/envs/luke3/lib/python3.6/site-packages (from jedi>=0.10->ipython<7,>=6.4.0->cortex-client[viz]==7.1.2a3) (0.5.0)\n",
      "Requirement already satisfied: ptyprocess>=0.5 in /anaconda3/envs/luke3/lib/python3.6/site-packages (from pexpect; sys_platform != \"win32\"->ipython<7,>=6.4.0->cortex-client[viz]==7.1.2a3) (0.6.0)\n",
      "Collecting pytzdata>=2018.3.0.0 (from pendulum<=1.5.1,>=1.0->maya==0.5.0->cortex-client[viz]==7.1.2a3)\n",
      "  Using cached https://files.pythonhosted.org/packages/bc/42/b865341e34066b9f3c806f7c461189b6a3cf367fec2d10d01900e8ba7afd/pytzdata-2019.2-py2.py3-none-any.whl\n",
      "Collecting regex (from dateparser>=0.7.0->maya==0.5.0->cortex-client[viz]==7.1.2a3)\n",
      "Building wheels for collected packages: cortex-client\n",
      "  Building wheel for cortex-client (setup.py) ... \u001b[?25ldone\n",
      "\u001b[?25h  Stored in directory: /Users/ltwardowski/Library/Caches/pip/wheels/21/37/46/a8a411e1b1a134febe292793e3954a25d6dd6ceafd4f76dc95\n",
      "Successfully built cortex-client\n",
      "Installing collected packages: chardet, urllib3, idna, requests, requests-toolbelt, Werkzeug, itsdangerous, click, Flask, diskcache, simplegeneric, prompt-toolkit, ipython, pyjwt, dill, more-itertools, pyyaml, cuid, pytz, snaptime, pytzdata, tzlocal, pendulum, humanize, regex, dateparser, maya, websocket-client, docker-pycreds, docker, pyparsing, packaging, deprecation, tenacity, pydash, arrow, pandas, attrs, dataclasses, cycler, kiwisolver, matplotlib, seaborn, cortex-client\n",
      "  Found existing installation: prompt-toolkit 2.0.9\n",
      "    Uninstalling prompt-toolkit-2.0.9:\n",
      "      Successfully uninstalled prompt-toolkit-2.0.9\n",
      "  Found existing installation: ipython 7.6.1\n",
      "    Uninstalling ipython-7.6.1:\n",
      "      Successfully uninstalled ipython-7.6.1\n",
      "  Found existing installation: attrs 19.1.0\n",
      "    Uninstalling attrs-19.1.0:\n",
      "      Successfully uninstalled attrs-19.1.0\n",
      "Successfully installed Flask-1.0.2 Werkzeug-0.15.4 arrow-0.12.1 attrs-18.2.0 chardet-3.0.4 click-7.0 cortex-client-7.1.2a3 cuid-0.3 cycler-0.10.0 dataclasses-0.6 dateparser-0.7.1 deprecation-2.0.6 dill-0.2.8.2 diskcache-3.0.6 docker-3.7.2 docker-pycreds-0.4.0 humanize-0.5.1 idna-2.8 ipython-6.5.0 itsdangerous-1.1.0 kiwisolver-1.1.0 matplotlib-2.2.4 maya-0.5.0 more-itertools-4.3.0 packaging-19.0 pandas-0.23.4 pendulum-1.5.1 prompt-toolkit-1.0.16 pydash-4.7.5 pyjwt-1.7.1 pyparsing-2.4.0 pytz-2019.1 pytzdata-2019.2 pyyaml-3.13 regex-2019.6.8 requests-2.22.0 requests-toolbelt-0.8.0 seaborn-0.9.0 simplegeneric-0.8.1 snaptime-0.2.4 tenacity-5.0.2 tzlocal-1.5.1 urllib3-1.25.3 websocket-client-0.56.0\n"
     ]
    }
   ],
   "source": [
    "!pip install cortex-client[viz]==7.1.2a3"
   ]
  },
  {
   "cell_type": "code",
   "execution_count": 2,
   "metadata": {},
   "outputs": [
    {
     "name": "stdout",
     "output_type": "stream",
     "text": [
      "cortex-client     7.1.2a3  \n"
     ]
    }
   ],
   "source": [
    "# Basic setup\n",
    "#%run config.ipynb\n",
    "!pip list | grep cortex\n",
    "from cortex import Cortex, Message"
   ]
  },
  {
   "cell_type": "code",
   "execution_count": 3,
   "metadata": {},
   "outputs": [],
   "source": [
    "# Connect to Cortex 5 and create a Builder instance\n",
    "cortex = Cortex.client()\n",
    "\n",
    "# Running locally isn't meaningful for the deploy step, since this deploys to the Cortex client.\n",
    "builder = cortex.builder()"
   ]
  },
  {
   "cell_type": "markdown",
   "metadata": {},
   "source": [
    "### Load the Experiment\n",
    "Let's load our experiment from the previous step and find the model we want to deploy."
   ]
  },
  {
   "cell_type": "code",
   "execution_count": 4,
   "metadata": {},
   "outputs": [
    {
     "data": {
      "text/html": [
       "\n",
       "                    <style>\n",
       "                        #table1 {\n",
       "                          border: solid thin;\n",
       "                          border-collapse: collapse;\n",
       "                        }\n",
       "                        #table1 caption {\n",
       "                          padding-bottom: 0.5em;\n",
       "                        }\n",
       "                        #table1 th,\n",
       "                        #table1 td {\n",
       "                          border: solid thin;\n",
       "                          padding: 0.5rem 2rem;\n",
       "                        }\n",
       "                        #table1 td {\n",
       "                          white-space: nowrap;\n",
       "                        }\n",
       "                        #table1 td {\n",
       "                          border-style: none solid;\n",
       "                          vertical-align: top;\n",
       "                        }\n",
       "                        #table1 th {\n",
       "                          padding: 0.2em;\n",
       "                          vertical-align: middle;\n",
       "                          text-align: center;\n",
       "                        }\n",
       "                        #table1 tbody td:first-child::after {\n",
       "                          content: leader(\". \"); '\n",
       "                        }\n",
       "                    </style>\n",
       "                    <table id=\"table1\">\n",
       "                        <caption><b>Experiment:</b> kaggle/ames-housing-regression-luke-test</caption>\n",
       "                        <thead>\n",
       "                        <tr>\n",
       "                            <th rowspan=\"2\">ID</th>\n",
       "                            <th rowspan=\"2\">Date</th>\n",
       "                            <th rowspan=\"2\">Took</th>\n",
       "                            <th colspan=\"2\" scope=\"colgroup\">Params</th>\n",
       "                            <th colspan=\"2\" scope=\"colgroup\">Metrics</th>\n",
       "                        </tr>\n",
       "                        <tr>\n",
       "                            \n",
       "                            <th>alphas</th>\n",
       "                            \n",
       "                            <th>model_type</th>\n",
       "                            \n",
       "                            \n",
       "                            <th>r2</th>\n",
       "                            \n",
       "                            <th>rmse</th>\n",
       "                            \n",
       "                        </tr>\n",
       "                        </thead>\n",
       "                        <tbody>\n",
       "                            \n",
       "                            <tr>\n",
       "                            <td>q61k0fo4</td>\n",
       "                            <td>Mon, 10 Jun 2019 15:01:23 GMT</td>\n",
       "                            <td>3.83 s</td>\n",
       "                            \n",
       "                            <td>[1, 0.1, 0.001, 0.0005]</td>\n",
       "                            \n",
       "                            <td>Lasso</td>\n",
       "                            \n",
       "                            \n",
       "                            <td>0.920696</td>\n",
       "                            \n",
       "                            <td>0.108386</td>\n",
       "                            \n",
       "                            </tr>\n",
       "                            \n",
       "                            <tr>\n",
       "                            <td>d91l0f1r</td>\n",
       "                            <td>Mon, 10 Jun 2019 15:07:57 GMT</td>\n",
       "                            <td>5.03 s</td>\n",
       "                            \n",
       "                            <td>[1, 0.1, 0.001, 0.0005]</td>\n",
       "                            \n",
       "                            <td>Lasso</td>\n",
       "                            \n",
       "                            \n",
       "                            <td>0.771245</td>\n",
       "                            \n",
       "                            <td>0.199480</td>\n",
       "                            \n",
       "                            </tr>\n",
       "                            \n",
       "                            <tr>\n",
       "                            <td>sw1m0ftk</td>\n",
       "                            <td>Mon, 10 Jun 2019 15:09:13 GMT</td>\n",
       "                            <td>3.43 s</td>\n",
       "                            \n",
       "                            <td>[1, 0.1, 0.001, 0.0005]</td>\n",
       "                            \n",
       "                            <td>ElasticNet</td>\n",
       "                            \n",
       "                            \n",
       "                            <td>0.751912</td>\n",
       "                            \n",
       "                            <td>0.207739</td>\n",
       "                            \n",
       "                            </tr>\n",
       "                            \n",
       "                            <tr>\n",
       "                            <td>qi1n0fl5</td>\n",
       "                            <td>Mon, 10 Jun 2019 15:14:28 GMT</td>\n",
       "                            <td>3.86 s</td>\n",
       "                            \n",
       "                            <td>&#x2011;</td>\n",
       "                            \n",
       "                            <td>&#x2011;</td>\n",
       "                            \n",
       "                            \n",
       "                            <td>0.000000</td>\n",
       "                            \n",
       "                            <td>0.000000</td>\n",
       "                            \n",
       "                            </tr>\n",
       "                            \n",
       "                            <tr>\n",
       "                            <td>lu1o0fir</td>\n",
       "                            <td>Mon, 10 Jun 2019 15:17:25 GMT</td>\n",
       "                            <td>4.99 s</td>\n",
       "                            \n",
       "                            <td>[1, 0.1, 0.001, 0.0005]</td>\n",
       "                            \n",
       "                            <td>Lasso</td>\n",
       "                            \n",
       "                            \n",
       "                            <td>0.771245</td>\n",
       "                            \n",
       "                            <td>0.199480</td>\n",
       "                            \n",
       "                            </tr>\n",
       "                            \n",
       "                            <tr>\n",
       "                            <td>y81p0foz</td>\n",
       "                            <td>Mon, 10 Jun 2019 15:17:56 GMT</td>\n",
       "                            <td>4.03 s</td>\n",
       "                            \n",
       "                            <td>&#x2011;</td>\n",
       "                            \n",
       "                            <td>&#x2011;</td>\n",
       "                            \n",
       "                            \n",
       "                            <td>0.000000</td>\n",
       "                            \n",
       "                            <td>0.000000</td>\n",
       "                            \n",
       "                            </tr>\n",
       "                            \n",
       "                            <tr>\n",
       "                            <td>hw1q0fap</td>\n",
       "                            <td>Mon, 10 Jun 2019 15:19:13 GMT</td>\n",
       "                            <td>3.80 s</td>\n",
       "                            \n",
       "                            <td>&#x2011;</td>\n",
       "                            \n",
       "                            <td>&#x2011;</td>\n",
       "                            \n",
       "                            \n",
       "                            <td>0.000000</td>\n",
       "                            \n",
       "                            <td>0.000000</td>\n",
       "                            \n",
       "                            </tr>\n",
       "                            \n",
       "                            <tr>\n",
       "                            <td>s91r0fha</td>\n",
       "                            <td>Mon, 10 Jun 2019 15:21:50 GMT</td>\n",
       "                            <td>3.80 s</td>\n",
       "                            \n",
       "                            <td>&#x2011;</td>\n",
       "                            \n",
       "                            <td>&#x2011;</td>\n",
       "                            \n",
       "                            \n",
       "                            <td>0.000000</td>\n",
       "                            \n",
       "                            <td>0.000000</td>\n",
       "                            \n",
       "                            </tr>\n",
       "                            \n",
       "                            <tr>\n",
       "                            <td>bp1s0fuf</td>\n",
       "                            <td>Mon, 10 Jun 2019 15:22:50 GMT</td>\n",
       "                            <td>3.65 s</td>\n",
       "                            \n",
       "                            <td>&#x2011;</td>\n",
       "                            \n",
       "                            <td>&#x2011;</td>\n",
       "                            \n",
       "                            \n",
       "                            <td>0.000000</td>\n",
       "                            \n",
       "                            <td>0.000000</td>\n",
       "                            \n",
       "                            </tr>\n",
       "                            \n",
       "                            <tr>\n",
       "                            <td>6a2k0f5y</td>\n",
       "                            <td>Wed, 26 Jun 2019 20:10:01 GMT</td>\n",
       "                            <td>5.26 s</td>\n",
       "                            \n",
       "                            <td>&#x2011;</td>\n",
       "                            \n",
       "                            <td>&#x2011;</td>\n",
       "                            \n",
       "                            \n",
       "                            <td>0.000000</td>\n",
       "                            \n",
       "                            <td>0.000000</td>\n",
       "                            \n",
       "                            </tr>\n",
       "                            \n",
       "                            <tr>\n",
       "                            <td>al2l0fj0</td>\n",
       "                            <td>Wed, 26 Jun 2019 20:11:02 GMT</td>\n",
       "                            <td>6.27 s</td>\n",
       "                            \n",
       "                            <td>[1, 0.1, 0.001, 0.0005]</td>\n",
       "                            \n",
       "                            <td>Lasso</td>\n",
       "                            \n",
       "                            \n",
       "                            <td>0.727493</td>\n",
       "                            \n",
       "                            <td>0.233229</td>\n",
       "                            \n",
       "                            </tr>\n",
       "                            \n",
       "                        </tbody>\n",
       "                    </table>"
      ],
      "text/plain": [
       "<cortex.experiment.Experiment at 0x10b337358>"
      ]
     },
     "execution_count": 4,
     "metadata": {},
     "output_type": "execute_result"
    }
   ],
   "source": [
    "exp = cortex.experiment('kaggle/ames-housing-regression-luke-test')\n",
    "exp"
   ]
  },
  {
   "cell_type": "markdown",
   "metadata": {},
   "source": [
    "---\n",
    "The model created in the last run looks to be the best, let's deploy it"
   ]
  },
  {
   "cell_type": "code",
   "execution_count": 5,
   "metadata": {},
   "outputs": [
    {
     "name": "stderr",
     "output_type": "stream",
     "text": [
      "/anaconda3/envs/luke3/lib/python3.6/site-packages/sklearn/base.py:306: UserWarning: Trying to unpickle estimator LassoCV from version 0.19.2 when using version 0.21.2. This might lead to breaking code or invalid results. Use at your own risk.\n",
      "  UserWarning)\n"
     ]
    }
   ],
   "source": [
    "run = exp.get_run('q61k0fo4')\n",
    "model = run.get_artifact('model')"
   ]
  },
  {
   "cell_type": "markdown",
   "metadata": {},
   "source": [
    "### Model deployment - Step 1: Configure Data Pipeline for Inputs\n",
    "Our model was trained with data that has had cleaning and feature engineering steps applied to it.  Since we want our users to send us the actual raw data, we need to deploy our pipeline to transform the input data into the form we expect.  This requires applying some of the same steps from before, but also requires us to remember some of the data created during model training such as the median values of certain columns and the final list of _dummy_ categorical columns created during feature engineering.  Luckily, our pipelines have a memory in the form of _context_ that we can reference here to achieve this."
   ]
  },
  {
   "cell_type": "code",
   "execution_count": 6,
   "metadata": {},
   "outputs": [
    {
     "data": {
      "text/plain": [
       "<cortex.pipeline.Pipeline at 0x12fc222b0>"
      ]
     },
     "execution_count": 6,
     "metadata": {},
     "output_type": "execute_result"
    }
   ],
   "source": [
    "train_ds = cortex.dataset('kaggle/ames-housing-train-luke-test2')\n",
    "\n",
    "# Model our feature pipeline after the 'clean' pipeline\n",
    "x_pipe = builder.pipeline('x_pipe')\n",
    "x_pipe.from_pipeline(train_ds.pipeline('clean'))"
   ]
  },
  {
   "cell_type": "code",
   "execution_count": 7,
   "metadata": {},
   "outputs": [],
   "source": [
    "# Same idea from our training prep, however we need to use the median values we computed before which we stored in our pipeline context\n",
    "def fill_median_cols_ctx(pipeline, df):\n",
    "    fill_median_cols = ['GarageArea','TotalBsmtSF', 'MasVnrArea', 'BsmtFinSF1', 'LotFrontage', 'BsmtUnfSF', 'GarageYrBlt']\n",
    "    [df[j].fillna(pipeline.get_context('{}_median'.format(j)), inplace=True) for j in fill_median_cols]\n",
    "                  \n",
    "# The dummy column conversion we did during training needs to be applied here.  Afterwards there will be missing columns because \n",
    "# our input instance will only contain at most one value per category.  We need to fill in the other expected columns.  We stored\n",
    "# the expected set of columns in our pipeline so we can easily do this now.\n",
    "def fix_columns(pipeline, df):\n",
    "    all_cols = pipeline.get_context('columns')\n",
    "    missing_cols = set(all_cols) - set(df.columns)\n",
    "    for c in missing_cols:\n",
    "        df[c] = 0\n",
    "    \n",
    "    # make sure we have all the columns we need\n",
    "    assert(set(all_cols) - set(df.columns) == set())\n",
    "    \n",
    "    return df[all_cols]"
   ]
  },
  {
   "cell_type": "code",
   "execution_count": 8,
   "metadata": {},
   "outputs": [
    {
     "name": "stdout",
     "output_type": "stream",
     "text": [
      "[<cortex.pipeline._FunctionStep object at 0x10c2c80b8>, <cortex.pipeline._FunctionStep object at 0x12fd19320>]\n"
     ]
    }
   ],
   "source": [
    "# The feature engineering pipeline contains the complete list of dummy columns in addition to some steps we need\n",
    "engineer_pipe = train_ds.pipeline('engineer')\n",
    "x_pipe.set_context('columns', engineer_pipe.get_context('columns'))\n",
    "\n",
    "# Reuse steps from our clean, features, and engineer pipelines\n",
    "fill_zero_cols = x_pipe.get_step('fill_zero_cols')\n",
    "fill_na_none = x_pipe.get_step('fill_na_none')\n",
    "get_dummies = engineer_pipe.get_step('get_dummies')\n",
    "print(engineer_pipe.steps)"
   ]
  },
  {
   "cell_type": "code",
   "execution_count": 9,
   "metadata": {},
   "outputs": [
    {
     "data": {
      "text/plain": [
       "<cortex.pipeline.Pipeline at 0x12fc222b0>"
      ]
     },
     "execution_count": 9,
     "metadata": {},
     "output_type": "execute_result"
    }
   ],
   "source": [
    "# Build our final input pipeline\n",
    "x_pipe.reset()\n",
    "x_pipe.add_step(fill_zero_cols)\n",
    "x_pipe.add_step(fill_median_cols_ctx)\n",
    "x_pipe.add_step(fill_na_none)\n",
    "x_pipe.add_step(get_dummies)\n",
    "x_pipe.add_step(fix_columns)"
   ]
  },
  {
   "cell_type": "markdown",
   "metadata": {},
   "source": [
    "### Model deployment - Step 2: Configure Data Pipeline for Output\n",
    "If you remember, we scaled our target variable using the numpy _log1p_ function.  We need to inverse this using the _exp_ function so our predicted value is correct."
   ]
  },
  {
   "cell_type": "code",
   "execution_count": 10,
   "metadata": {},
   "outputs": [],
   "source": [
    "y_pipe = builder.pipeline('y_pipe')"
   ]
  },
  {
   "cell_type": "code",
   "execution_count": 11,
   "metadata": {},
   "outputs": [],
   "source": [
    "def rescale_target(pipeline, df):\n",
    "    df['SalePrice'] = np.exp(df['SalePrice'])"
   ]
  },
  {
   "cell_type": "code",
   "execution_count": 12,
   "metadata": {},
   "outputs": [
    {
     "data": {
      "text/plain": [
       "<cortex.pipeline.Pipeline at 0x12fd0bb70>"
      ]
     },
     "execution_count": 12,
     "metadata": {},
     "output_type": "execute_result"
    }
   ],
   "source": [
    "y_pipe.add_step(rescale_target)"
   ]
  },
  {
   "cell_type": "markdown",
   "metadata": {},
   "source": [
    "### Model deployment - Step 3: Build and Deploy Cortex Action\n",
    "Now that we have our input and output pipelines, we can use the Cortex Builder to package and deploy our model in one step."
   ]
  },
  {
   "cell_type": "code",
   "execution_count": 13,
   "metadata": {},
   "outputs": [
    {
     "name": "stdout",
     "output_type": "stream",
     "text": [
      "Building Cortex Action (daemon): kaggle/ames-housing-predict-luke-test2\n",
      "model version not found, pushing to remote storage: /cortex/models/kaggle/ames-housing-predict-luke-test2/05049d27aed56d8541750b117fc47111.pk\n",
      "Building Docker image private-registry.cortex.insights.ai/thatguyluke/kaggle_ames-housing-predict-luke-test2:0tcoeeb...\n",
      "Step 1/9 : FROM c12e/cortex-python36:7552534\n",
      "Step 2/9 : WORKDIR /app\n",
      "Step 3/9 : RUN pip install flask gunicorn\n",
      "Collecting flask\n",
      "Downloading https://files.pythonhosted.org/packages/9b/93/628509b8d5dc749656a9641f4caf13540e2cdec85276964ff8f43bbb1d3b/Flask-1.1.1-py2.py3-none-any.whl (94kB)\n",
      "Collecting gunicorn\n",
      "Downloading https://files.pythonhosted.org/packages/8c/da/b8dd8deb741bff556db53902d4706774c8e1e67265f69528c14c003644e6/gunicorn-19.9.0-py2.py3-none-any.whl (112kB)\n",
      "Collecting Jinja2>=2.10.1 (from flask)\n",
      "Downloading https://files.pythonhosted.org/packages/1d/e7/fd8b501e7a6dfe492a433deb7b9d833d39ca74916fa8bc63dd1a4947a671/Jinja2-2.10.1-py2.py3-none-any.whl (124kB)\n",
      "Collecting click>=5.1 (from flask)\n",
      "Downloading https://files.pythonhosted.org/packages/fa/37/45185cb5abbc30d7257104c434fe0b07e5a195a6847506c074527aa599ec/Click-7.0-py2.py3-none-any.whl (81kB)\n",
      "Collecting Werkzeug>=0.15 (from flask)\n",
      "Downloading https://files.pythonhosted.org/packages/9f/57/92a497e38161ce40606c27a86759c6b92dd34fcdb33f64171ec559257c02/Werkzeug-0.15.4-py2.py3-none-any.whl (327kB)\n",
      "Collecting itsdangerous>=0.24 (from flask)\n",
      "Downloading https://files.pythonhosted.org/packages/76/ae/44b03b253d6fade317f32c24d100b3b35c2239807046a4c953c7b89fa49e/itsdangerous-1.1.0-py2.py3-none-any.whl\n",
      "Collecting MarkupSafe>=0.23 (from Jinja2>=2.10.1->flask)\n",
      "Downloading https://files.pythonhosted.org/packages/b2/5f/23e0023be6bb885d00ffbefad2942bc51a620328ee910f64abe5a8d18dd1/MarkupSafe-1.1.1-cp36-cp36m-manylinux1_x86_64.whl\n",
      "Installing collected packages: MarkupSafe, Jinja2, click, Werkzeug, itsdangerous, flask, gunicorn\n",
      "Successfully installed Jinja2-2.10.1 MarkupSafe-1.1.1 Werkzeug-0.15.4 click-7.0 flask-1.1.1 gunicorn-19.9.0 itsdangerous-1.1.0\n",
      "\u001b[91mYou are using pip version 10.0.1, however version 19.1.1 is available.\n",
      "You should consider upgrading via the 'pip install --upgrade pip' command.\n",
      "\u001b[0m\n",
      "Removing intermediate container 0a4658912ee4\n",
      "Step 4/9 : RUN pip install \"dill==0.2.8.2\" \"cortex-client==7.1.2a3\"\n",
      "Collecting dill==0.2.8.2\n",
      "Downloading https://files.pythonhosted.org/packages/6f/78/8b96476f4ae426db71c6e86a8e6a81407f015b34547e442291cd397b18f3/dill-0.2.8.2.tar.gz (150kB)\n",
      "Collecting cortex-client==7.1.2a3\n",
      "Downloading https://files.pythonhosted.org/packages/02/25/62046f7a60f370af7307aa11ff1faff7fa320e78d12e5e5f66675564d6e2/cortex-client-7.1.2a3.zip (198kB)\n",
      "Requirement already satisfied: requests<3,>=2.12.4 in /opt/conda/lib/python3.6/site-packages (from cortex-client==7.1.2a3) (2.18.4)\n",
      "Collecting requests-toolbelt==0.8.0 (from cortex-client==7.1.2a3)\n",
      "Downloading https://files.pythonhosted.org/packages/97/8a/d710f792d6f6ecc089c5e55b66e66c3f2f35516a1ede5a8f54c13350ffb0/requests_toolbelt-0.8.0-py2.py3-none-any.whl (54kB)\n",
      "Collecting Flask==1.0.2 (from cortex-client==7.1.2a3)\n",
      "Downloading https://files.pythonhosted.org/packages/7f/e7/08578774ed4536d3242b14dacb4696386634607af824ea997202cd0edb4b/Flask-1.0.2-py2.py3-none-any.whl (91kB)\n",
      "Collecting diskcache<3.1,>=3.0.5 (from cortex-client==7.1.2a3)\n",
      "Downloading https://files.pythonhosted.org/packages/24/cd/82de3b0e3c01f5de22dc6d95e0c3bd35a32ca07967092e03c995636443a1/diskcache-3.0.6-py2.py3-none-any.whl\n",
      "Collecting ipython<7,>=6.4.0 (from cortex-client==7.1.2a3)\n",
      "Downloading https://files.pythonhosted.org/packages/f7/62/2fef7db3a7b75e8099c3d9db2630ae5ba0b9eefefd91f7497862393d90e8/ipython-6.5.0-py3-none-any.whl (748kB)\n",
      "Collecting pyjwt<2,>=1.6.1 (from cortex-client==7.1.2a3)\n",
      "Downloading https://files.pythonhosted.org/packages/87/8b/6a9f14b5f781697e51259d81657e6048fd31a113229cf346880bb7545565/PyJWT-1.7.1-py2.py3-none-any.whl\n",
      "Collecting more_itertools<5,>=4.3.0 (from cortex-client==7.1.2a3)\n",
      "Downloading https://files.pythonhosted.org/packages/79/b1/eace304ef66bd7d3d8b2f78cc374b73ca03bc53664d78151e9df3b3996cc/more_itertools-4.3.0-py3-none-any.whl (48kB)\n",
      "Collecting pyyaml<4,>=3.13 (from cortex-client==7.1.2a3)\n",
      "Downloading https://files.pythonhosted.org/packages/9e/a3/1d13970c3f36777c583f136c136f804d70f500168edc1edea6daa7200769/PyYAML-3.13.tar.gz (270kB)\n",
      "Collecting cuid<1,>=0.3 (from cortex-client==7.1.2a3)\n",
      "Downloading https://files.pythonhosted.org/packages/f6/0b/d306167bc2c6ecb9a0ff1552610d4e844045ec7bfd67f79e8041100f9d62/cuid-0.3.tar.gz\n",
      "Collecting maya==0.5.0 (from cortex-client==7.1.2a3)\n",
      "Downloading https://files.pythonhosted.org/packages/fe/bc/2396f49b3515bf145241190a5d5768463958e80c37b2a869977f910d176b/maya-0.5.0-py2.py3-none-any.whl\n",
      "Collecting docker==3.7.2 (from cortex-client==7.1.2a3)\n",
      "Downloading https://files.pythonhosted.org/packages/48/68/c3afca1a5aa8d2997ec3b8ee822a4d752cf85907b321f07ea86888545152/docker-3.7.2-py2.py3-none-any.whl (134kB)\n",
      "Collecting deprecation==2.0.6 (from cortex-client==7.1.2a3)\n",
      "Downloading https://files.pythonhosted.org/packages/32/e9/01ffbaf3540ad54476cd7066439d629f1dd73b851cc5c0993ce2c12e1cdd/deprecation-2.0.6-py2.py3-none-any.whl\n",
      "Collecting tenacity==5.0.2 (from cortex-client==7.1.2a3)\n",
      "Downloading https://files.pythonhosted.org/packages/b5/02/f912867529807b879972d8000e23c2f67b8b3755171e1d3c2049e347a3c9/tenacity-5.0.2-py2.py3-none-any.whl\n",
      "Collecting pydash<4.8,>=4.7.3 (from cortex-client==7.1.2a3)\n",
      "Downloading https://files.pythonhosted.org/packages/62/9c/62bda6b5453545d7f3077d71f804fa6fcd48a055f6216f165fdbc9f3a8bb/pydash-4.7.5-py2.py3-none-any.whl (84kB)\n",
      "Collecting arrow<0.13,>=0.12.1 (from cortex-client==7.1.2a3)\n",
      "Downloading https://files.pythonhosted.org/packages/e0/86/4eb5228a43042e9a80fe8c84093a8a36f5db34a3767ebd5e1e7729864e7b/arrow-0.12.1.tar.gz (65kB)\n",
      "Collecting pandas<0.24,>=0.23.4 (from cortex-client==7.1.2a3)\n",
      "Downloading https://files.pythonhosted.org/packages/e1/d8/feeb346d41f181e83fba45224ab14a8d8af019b48af742e047f3845d8cff/pandas-0.23.4-cp36-cp36m-manylinux1_x86_64.whl (8.9MB)\n",
      "Collecting attrs==18.2.0 (from cortex-client==7.1.2a3)\n",
      "Downloading https://files.pythonhosted.org/packages/3a/e1/5f9023cc983f1a628a8c2fd051ad19e76ff7b142a0faf329336f9a62a514/attrs-18.2.0-py2.py3-none-any.whl\n",
      "Collecting dataclasses>=0.6 (from cortex-client==7.1.2a3)\n",
      "Downloading https://files.pythonhosted.org/packages/26/2f/1095cdc2868052dd1e64520f7c0d5c8c550ad297e944e641dbf1ffbb9a5d/dataclasses-0.6-py3-none-any.whl\n",
      "Requirement already satisfied: chardet<3.1.0,>=3.0.2 in /opt/conda/lib/python3.6/site-packages (from requests<3,>=2.12.4->cortex-client==7.1.2a3) (3.0.4)\n",
      "Requirement already satisfied: idna<2.7,>=2.5 in /opt/conda/lib/python3.6/site-packages (from requests<3,>=2.12.4->cortex-client==7.1.2a3) (2.6)\n",
      "Requirement already satisfied: urllib3<1.23,>=1.21.1 in /opt/conda/lib/python3.6/site-packages (from requests<3,>=2.12.4->cortex-client==7.1.2a3) (1.22)\n",
      "Requirement already satisfied: certifi>=2017.4.17 in /opt/conda/lib/python3.6/site-packages (from requests<3,>=2.12.4->cortex-client==7.1.2a3) (2018.4.16)\n",
      "Requirement already satisfied: Jinja2>=2.10 in /opt/conda/lib/python3.6/site-packages (from Flask==1.0.2->cortex-client==7.1.2a3) (2.10.1)\n",
      "Requirement already satisfied: click>=5.1 in /opt/conda/lib/python3.6/site-packages (from Flask==1.0.2->cortex-client==7.1.2a3) (7.0)\n",
      "Requirement already satisfied: Werkzeug>=0.14 in /opt/conda/lib/python3.6/site-packages (from Flask==1.0.2->cortex-client==7.1.2a3) (0.15.4)\n",
      "Requirement already satisfied: itsdangerous>=0.24 in /opt/conda/lib/python3.6/site-packages (from Flask==1.0.2->cortex-client==7.1.2a3) (1.1.0)\n",
      "Collecting pygments (from ipython<7,>=6.4.0->cortex-client==7.1.2a3)\n",
      "Downloading https://files.pythonhosted.org/packages/5c/73/1dfa428150e3ccb0fa3e68db406e5be48698f2a979ccbcec795f28f44048/Pygments-2.4.2-py2.py3-none-any.whl (883kB)\n",
      "Collecting decorator (from ipython<7,>=6.4.0->cortex-client==7.1.2a3)\n",
      "Downloading https://files.pythonhosted.org/packages/5f/88/0075e461560a1e750a0dcbf77f1d9de775028c37a19a346a6c565a257399/decorator-4.4.0-py2.py3-none-any.whl\n",
      "Collecting simplegeneric>0.8 (from ipython<7,>=6.4.0->cortex-client==7.1.2a3)\n",
      "Downloading https://files.pythonhosted.org/packages/3d/57/4d9c9e3ae9a255cd4e1106bb57e24056d3d0709fc01b2e3e345898e49d5b/simplegeneric-0.8.1.zip\n",
      "Collecting jedi>=0.10 (from ipython<7,>=6.4.0->cortex-client==7.1.2a3)\n",
      "Downloading https://files.pythonhosted.org/packages/68/42/6309f3871b2f8361764ac5b2fe6719f9c6e6561d9307d8cecda319cf5843/jedi-0.14.0-py2.py3-none-any.whl (1.0MB)\n",
      "Collecting pexpect; sys_platform != \"win32\" (from ipython<7,>=6.4.0->cortex-client==7.1.2a3)\n",
      "Downloading https://files.pythonhosted.org/packages/0e/3e/377007e3f36ec42f1b84ec322ee12141a9e10d808312e5738f52f80a232c/pexpect-4.7.0-py2.py3-none-any.whl (58kB)\n",
      "Requirement already satisfied: setuptools>=18.5 in /opt/conda/lib/python3.6/site-packages (from ipython<7,>=6.4.0->cortex-client==7.1.2a3) (39.2.0)\n",
      "Collecting pickleshare (from ipython<7,>=6.4.0->cortex-client==7.1.2a3)\n",
      "Downloading https://files.pythonhosted.org/packages/9a/41/220f49aaea88bc6fa6cba8d05ecf24676326156c23b991e80b3f2fc24c77/pickleshare-0.7.5-py2.py3-none-any.whl\n",
      "Collecting prompt-toolkit<2.0.0,>=1.0.15 (from ipython<7,>=6.4.0->cortex-client==7.1.2a3)\n",
      "Downloading https://files.pythonhosted.org/packages/57/a8/a151b6c61718eabe6b4672b6aa760b734989316d62ec1ba4996765e602d4/prompt_toolkit-1.0.16-py3-none-any.whl (244kB)\n",
      "Collecting traitlets>=4.2 (from ipython<7,>=6.4.0->cortex-client==7.1.2a3)\n",
      "Downloading https://files.pythonhosted.org/packages/93/d6/abcb22de61d78e2fc3959c964628a5771e47e7cc60d53e9342e21ed6cc9a/traitlets-4.3.2-py2.py3-none-any.whl (74kB)\n",
      "Collecting backcall (from ipython<7,>=6.4.0->cortex-client==7.1.2a3)\n",
      "Downloading https://files.pythonhosted.org/packages/84/71/c8ca4f5bb1e08401b916c68003acf0a0655df935d74d93bf3f3364b310e0/backcall-0.1.0.tar.gz\n",
      "Requirement already satisfied: six<2.0.0,>=1.0.0 in /opt/conda/lib/python3.6/site-packages (from more_itertools<5,>=4.3.0->cortex-client==7.1.2a3) (1.11.0)\n",
      "Collecting pytz (from maya==0.5.0->cortex-client==7.1.2a3)\n",
      "Downloading https://files.pythonhosted.org/packages/3d/73/fe30c2daaaa0713420d0382b16fbb761409f532c56bdcc514bf7b6262bb6/pytz-2019.1-py2.py3-none-any.whl (510kB)\n",
      "Collecting pendulum<=1.5.1,>=1.0 (from maya==0.5.0->cortex-client==7.1.2a3)\n",
      "Downloading https://files.pythonhosted.org/packages/a6/1b/95589c9e276fa7e624d3e07020ffee8b200d6d263fd141eb1f2ad0767aa7/pendulum-1.5.1-cp36-cp36m-manylinux1_x86_64.whl (124kB)\n",
      "Collecting dateparser>=0.7.0 (from maya==0.5.0->cortex-client==7.1.2a3)\n",
      "Downloading https://files.pythonhosted.org/packages/a0/30/5cb8bb214c0b111fb59137c2e19c636a136209dbe45e1c3e9d63f7a76c1a/dateparser-0.7.1-py2.py3-none-any.whl (351kB)\n",
      "Collecting humanize (from maya==0.5.0->cortex-client==7.1.2a3)\n",
      "Downloading https://files.pythonhosted.org/packages/8c/e0/e512e4ac6d091fc990bbe13f9e0378f34cf6eecd1c6c268c9e598dcf5bb9/humanize-0.5.1.tar.gz\n",
      "Collecting snaptime (from maya==0.5.0->cortex-client==7.1.2a3)\n",
      "Downloading https://files.pythonhosted.org/packages/f3/f4/cb818c9bfdac4605f13296f7fcfe068aee7d1c3aa89f8cc22a064c1fab20/snaptime-0.2.4.tar.gz\n",
      "Collecting tzlocal (from maya==0.5.0->cortex-client==7.1.2a3)\n",
      "Downloading https://files.pythonhosted.org/packages/cb/89/e3687d3ed99bc882793f82634e9824e62499fdfdc4b1ae39e211c5b05017/tzlocal-1.5.1.tar.gz\n",
      "Collecting docker-pycreds>=0.4.0 (from docker==3.7.2->cortex-client==7.1.2a3)\n",
      "Downloading https://files.pythonhosted.org/packages/f5/e8/f6bd1eee09314e7e6dee49cbe2c5e22314ccdb38db16c9fc72d2fa80d054/docker_pycreds-0.4.0-py2.py3-none-any.whl\n",
      "Collecting websocket-client>=0.32.0 (from docker==3.7.2->cortex-client==7.1.2a3)\n",
      "Downloading https://files.pythonhosted.org/packages/29/19/44753eab1fdb50770ac69605527e8859468f3c0fd7dc5a76dd9c4dbd7906/websocket_client-0.56.0-py2.py3-none-any.whl (200kB)\n",
      "Collecting packaging (from deprecation==2.0.6->cortex-client==7.1.2a3)\n",
      "Downloading https://files.pythonhosted.org/packages/91/32/58bc30e646e55eab8b21abf89e353f59c0cc02c417e42929f4a9546e1b1d/packaging-19.0-py2.py3-none-any.whl\n",
      "Collecting python-dateutil (from arrow<0.13,>=0.12.1->cortex-client==7.1.2a3)\n",
      "Downloading https://files.pythonhosted.org/packages/41/17/c62faccbfbd163c7f57f3844689e3a78bae1f403648a6afb1d0866d87fbb/python_dateutil-2.8.0-py2.py3-none-any.whl (226kB)\n",
      "Collecting numpy>=1.9.0 (from pandas<0.24,>=0.23.4->cortex-client==7.1.2a3)\n",
      "Downloading https://files.pythonhosted.org/packages/87/2d/e4656149cbadd3a8a0369fcd1a9c7d61cc7b87b3903b85389c70c989a696/numpy-1.16.4-cp36-cp36m-manylinux1_x86_64.whl (17.3MB)\n",
      "Requirement already satisfied: MarkupSafe>=0.23 in /opt/conda/lib/python3.6/site-packages (from Jinja2>=2.10->Flask==1.0.2->cortex-client==7.1.2a3) (1.1.1)\n",
      "Collecting parso>=0.3.0 (from jedi>=0.10->ipython<7,>=6.4.0->cortex-client==7.1.2a3)\n",
      "Downloading https://files.pythonhosted.org/packages/68/59/482f5a00fe3da7f0aaeedf61c2a25c445b68c9124437195f6e8b2beddbc0/parso-0.5.0-py2.py3-none-any.whl (94kB)\n",
      "Collecting ptyprocess>=0.5 (from pexpect; sys_platform != \"win32\"->ipython<7,>=6.4.0->cortex-client==7.1.2a3)\n",
      "Downloading https://files.pythonhosted.org/packages/d1/29/605c2cc68a9992d18dada28206eeada56ea4bd07a239669da41674648b6f/ptyprocess-0.6.0-py2.py3-none-any.whl\n",
      "Collecting wcwidth (from prompt-toolkit<2.0.0,>=1.0.15->ipython<7,>=6.4.0->cortex-client==7.1.2a3)\n",
      "Downloading https://files.pythonhosted.org/packages/7e/9f/526a6947247599b084ee5232e4f9190a38f398d7300d866af3ab571a5bfe/wcwidth-0.1.7-py2.py3-none-any.whl\n",
      "Collecting ipython-genutils (from traitlets>=4.2->ipython<7,>=6.4.0->cortex-client==7.1.2a3)\n",
      "Downloading https://files.pythonhosted.org/packages/fa/bc/9bd3b5c2b4774d5f33b2d544f1460be9df7df2fe42f352135381c347c69a/ipython_genutils-0.2.0-py2.py3-none-any.whl\n",
      "Collecting pytzdata>=2018.3.0.0 (from pendulum<=1.5.1,>=1.0->maya==0.5.0->cortex-client==7.1.2a3)\n",
      "Downloading https://files.pythonhosted.org/packages/bc/42/b865341e34066b9f3c806f7c461189b6a3cf367fec2d10d01900e8ba7afd/pytzdata-2019.2-py2.py3-none-any.whl (489kB)\n",
      "Collecting regex (from dateparser>=0.7.0->maya==0.5.0->cortex-client==7.1.2a3)\n",
      "Downloading https://files.pythonhosted.org/packages/6f/4e/1b178c38c9a1a184288f72065a65ca01f3154df43c6ad898624149b8b4e0/regex-2019.06.08.tar.gz (651kB)\n",
      "Collecting pyparsing>=2.0.2 (from packaging->deprecation==2.0.6->cortex-client==7.1.2a3)\n",
      "Downloading https://files.pythonhosted.org/packages/dd/d9/3ec19e966301a6e25769976999bd7bbe552016f0d32b577dc9d63d2e0c49/pyparsing-2.4.0-py2.py3-none-any.whl (62kB)\n",
      "Building wheels for collected packages: dill, cortex-client, pyyaml, cuid, arrow, simplegeneric, backcall, humanize, snaptime, tzlocal, regex\n",
      "Running setup.py bdist_wheel for dill: started\n",
      "Running setup.py bdist_wheel for dill: finished with status 'done'\n",
      "Stored in directory: /root/.cache/pip/wheels/e2/5d/17/f87cb7751896ac629b435a8696f83ee75b11029f5d6f6bda72\n",
      "Running setup.py bdist_wheel for cortex-client: started\n",
      "Running setup.py bdist_wheel for cortex-client: finished with status 'done'\n",
      "Stored in directory: /root/.cache/pip/wheels/21/37/46/a8a411e1b1a134febe292793e3954a25d6dd6ceafd4f76dc95\n",
      "Running setup.py bdist_wheel for pyyaml: started\n",
      "Running setup.py bdist_wheel for pyyaml: finished with status 'done'\n",
      "Stored in directory: /root/.cache/pip/wheels/ad/da/0c/74eb680767247273e2cf2723482cb9c924fe70af57c334513f\n",
      "Running setup.py bdist_wheel for cuid: started\n",
      "Running setup.py bdist_wheel for cuid: finished with status 'done'\n",
      "Stored in directory: /root/.cache/pip/wheels/9f/ac/8f/7e19a7949ad05a7efd2987ad2e1b910b6964d265b07adc029f\n",
      "Running setup.py bdist_wheel for arrow: started\n",
      "Running setup.py bdist_wheel for arrow: finished with status 'done'\n",
      "  Stored in directory: /root/.cache/pip/wheels/a3/dd/b2/d3b8d22e8136164c2e2c36ed42392531957cdf9c717065b28b\n",
      "Running setup.py bdist_wheel for simplegeneric: started\n",
      "Running setup.py bdist_wheel for simplegeneric: finished with status 'done'\n",
      "Stored in directory: /root/.cache/pip/wheels/a9/28/53/f24776b4c5bcbe91aaf1f1e247bd6fadd17191aa12fac63902\n",
      "Running setup.py bdist_wheel for backcall: started\n",
      "Running setup.py bdist_wheel for backcall: finished with status 'done'\n",
      "Stored in directory: /root/.cache/pip/wheels/98/b0/dd/29e28ff615af3dda4c67cab719dd51357597eabff926976b45\n",
      "Running setup.py bdist_wheel for humanize: started\n",
      "Running setup.py bdist_wheel for humanize: finished with status 'done'\n",
      "Stored in directory: /root/.cache/pip/wheels/69/86/6c/f8b8593bc273ec4b0c653d3827f7482bb2001a2781a73b7f44\n",
      "Running setup.py bdist_wheel for snaptime: started\n",
      "Running setup.py bdist_wheel for snaptime: finished with status 'done'\n",
      "Stored in directory: /root/.cache/pip/wheels/59/e3/55/b528efc85cc6a85b6ac7b7d7af10e82b09d1299c49aeddeaf3\n",
      "Running setup.py bdist_wheel for tzlocal: started\n",
      "Running setup.py bdist_wheel for tzlocal: finished with status 'done'\n",
      "Stored in directory: /root/.cache/pip/wheels/15/ae/df/a67bf1ed84e9bf230187d36d8dcfd30072bea0236cb059ed91\n",
      "Running setup.py bdist_wheel for regex: started\n",
      "Running setup.py bdist_wheel for regex: finished with status 'done'\n",
      "  Stored in directory: /root/.cache/pip/wheels/35/e4/80/abf3b33ba89cf65cd262af8a22a5a999cc28fbfabea6b38473\n",
      "Successfully built dill cortex-client pyyaml cuid arrow simplegeneric backcall humanize snaptime tzlocal regex\n",
      "Installing collected packages: dill, requests-toolbelt, Flask, diskcache, pygments, decorator, simplegeneric, parso, jedi, ptyprocess, pexpect, pickleshare, wcwidth, prompt-toolkit, ipython-genutils, traitlets, backcall, ipython, pyjwt, more-itertools, pyyaml, cuid, pytz, python-dateutil, tzlocal, pytzdata, pendulum, regex, dateparser, humanize, snaptime, maya, docker-pycreds, websocket-client, docker, pyparsing, packaging, deprecation, tenacity, pydash, arrow, numpy, pandas, attrs, dataclasses, cortex-client\n",
      "Found existing installation: Flask 1.1.1\n",
      "Uninstalling Flask-1.1.1:\n",
      "Successfully uninstalled Flask-1.1.1\n",
      "Successfully installed Flask-1.0.2 arrow-0.12.1 attrs-18.2.0 backcall-0.1.0 cortex-client-7.1.2a3 cuid-0.3 dataclasses-0.6 dateparser-0.7.1 decorator-4.4.0 deprecation-2.0.6 dill-0.2.8.2 diskcache-3.0.6 docker-3.7.2 docker-pycreds-0.4.0 humanize-0.5.1 ipython-6.5.0 ipython-genutils-0.2.0 jedi-0.14.0 maya-0.5.0 more-itertools-4.3.0 numpy-1.16.4 packaging-19.0 pandas-0.23.4 parso-0.5.0 pendulum-1.5.1 pexpect-4.7.0 pickleshare-0.7.5 prompt-toolkit-1.0.16 ptyprocess-0.6.0 pydash-4.7.5 pygments-2.4.2 pyjwt-1.7.1 pyparsing-2.4.0 python-dateutil-2.8.0 pytz-2019.1 pytzdata-2019.2 pyyaml-3.13 regex-2019.6.8 requests-toolbelt-0.8.0 simplegeneric-0.8.1 snaptime-0.2.4 tenacity-5.0.2 traitlets-4.3.2 tzlocal-1.5.1 wcwidth-0.1.7 websocket-client-0.56.0\n",
      "\u001b[91mYou are using pip version 10.0.1, however version 19.1.1 is available.\n",
      "You should consider upgrading via the 'pip install --upgrade pip' command.\n",
      "\u001b[0m\n",
      "Removing intermediate container 19283508d4c4\n",
      "Step 5/9 : COPY requirements.txt .\n",
      "Step 6/9 : RUN pip install -r requirements.txt\n",
      "Collecting scikit-learn<1,>=0.20.0 (from -r requirements.txt (line 2))\n",
      "Downloading https://files.pythonhosted.org/packages/85/04/49633f490f726da6e454fddc8e938bbb5bfed2001681118d3814c219b723/scikit_learn-0.21.2-cp36-cp36m-manylinux1_x86_64.whl (6.7MB)\n",
      "Collecting scipy>=0.17.0 (from scikit-learn<1,>=0.20.0->-r requirements.txt (line 2))\n",
      "Downloading https://files.pythonhosted.org/packages/72/4c/5f81e7264b0a7a8bd570810f48cd346ba36faedbd2ba255c873ad556de76/scipy-1.3.0-cp36-cp36m-manylinux1_x86_64.whl (25.2MB)\n",
      "Collecting joblib>=0.11 (from scikit-learn<1,>=0.20.0->-r requirements.txt (line 2))\n",
      "Downloading https://files.pythonhosted.org/packages/cd/c1/50a758e8247561e58cb87305b1e90b171b8c767b15b12a1734001f41d356/joblib-0.13.2-py2.py3-none-any.whl (278kB)\n",
      "Requirement already satisfied: numpy>=1.11.0 in /opt/conda/lib/python3.6/site-packages (from scikit-learn<1,>=0.20.0->-r requirements.txt (line 2)) (1.16.4)\n",
      "Installing collected packages: scipy, joblib, scikit-learn\n",
      "Successfully installed joblib-0.13.2 scikit-learn-0.21.2 scipy-1.3.0\n",
      "\u001b[91mYou are using pip version 10.0.1, however version 19.1.1 is available.\n",
      "You should consider upgrading via the 'pip install --upgrade pip' command.\n",
      "\u001b[0m\n",
      "Removing intermediate container f8a8166e8801\n",
      "Step 7/9 : COPY action.py .\n",
      "Step 8/9 : EXPOSE 5000\n",
      "Removing intermediate container b3b43415651b\n",
      "Step 9/9 : ENTRYPOINT [\"gunicorn\", \"-b\", \"0.0.0.0:5000\", \"-t\", \"60\", \"action:app\"]\n",
      "Removing intermediate container e1a9205d23cd\n",
      "Successfully built 1051d892f040\n",
      "Successfully tagged private-registry.cortex.insights.ai/thatguyluke/kaggle_ames-housing-predict-luke-test2:0tcoeeb\n",
      "Image private-registry.cortex.insights.ai/thatguyluke/kaggle_ames-housing-predict-luke-test2:0tcoeeb built in 45.221754 seconds\n",
      "Pushing image to remote repository...\n",
      "0tcoeeb: digest: sha256:da992bbf63488205c1c8ae19b0f108dc3cd5f0eff4009b77439d13e36b84a74f size: 3255\n",
      "Image private-registry.cortex.insights.ai/thatguyluke/kaggle_ames-housing-predict-luke-test2:0tcoeeb pushed in 44.928882 seconds\n",
      "Cleaning up...\n",
      "Removing previous image: sha256:52e41cc045\n"
     ]
    },
    {
     "data": {
      "text/html": [
       "\n",
       "        <table>\n",
       "            <thead>\n",
       "                <tr>\n",
       "                    <th>Name</th>\n",
       "                    <th>Version</th>\n",
       "                    <th>Type</th>\n",
       "                    <th>Kind</th>\n",
       "                    <th>Image</th>\n",
       "                    <th>Deployment Status</th>\n",
       "                </tr>\n",
       "            </thead>\n",
       "            <tbody>\n",
       "                <td>kaggle/ames-housing-predict-luke-test2</td>\n",
       "                <td>6</td>\n",
       "                <td>daemon</td>\n",
       "                <td>None</td>\n",
       "                <td>private-registry.cortex.insights.ai/thatguyluke/kaggle_ames-housing-predict-luke-test2:0tcoeeb</td>\n",
       "                <td>STARTED</td>\n",
       "            </tbody>\n",
       "        </table>\n",
       "        "
      ],
      "text/plain": [
       "<cortex.action.Action at 0x12fd19b70>"
      ]
     },
     "execution_count": 13,
     "metadata": {},
     "output_type": "execute_result"
    }
   ],
   "source": [
    "builder.action('kaggle/ames-housing-predict-luke-test2')\\\n",
    "        .daemon()\\\n",
    "       .with_requirements(['scikit-learn>=0.20.0,<1']).from_model(model, x_pipeline=x_pipe, y_pipeline=y_pipe, target='SalePrice')\\\n",
    "       .build()"
   ]
  },
  {
   "cell_type": "code",
   "execution_count": 6,
   "metadata": {},
   "outputs": [
    {
     "data": {
      "text/html": [
       "\n",
       "        <table>\n",
       "            <thead>\n",
       "                <tr>\n",
       "                    <th>Name</th>\n",
       "                    <th>Version</th>\n",
       "                    <th>Type</th>\n",
       "                    <th>Kind</th>\n",
       "                    <th>Image</th>\n",
       "                    <th>Deployment Status</th>\n",
       "                </tr>\n",
       "            </thead>\n",
       "            <tbody>\n",
       "                <td>kaggle/ames-housing-predict-luke-test2</td>\n",
       "                <td>6</td>\n",
       "                <td>daemon</td>\n",
       "                <td>None</td>\n",
       "                <td>private-registry.cortex.insights.ai/thatguyluke/kaggle_ames-housing-predict-luke-test2:0tcoeeb</td>\n",
       "                <td>COMPLETED (running)</td>\n",
       "            </tbody>\n",
       "        </table>\n",
       "        "
      ],
      "text/plain": [
       "<cortex.action.Action at 0x12ec65c18>"
      ]
     },
     "execution_count": 6,
     "metadata": {},
     "output_type": "execute_result"
    }
   ],
   "source": [
    "action = cortex.action('kaggle/ames-housing-predict-luke-test2')\n",
    "action"
   ]
  },
  {
   "cell_type": "markdown",
   "metadata": {
    "slideshow": {
     "slide_type": "notes"
    }
   },
   "source": [
    "---\n",
    "Unit test for the Action.  Make sure our action is ready for use."
   ]
  },
  {
   "cell_type": "code",
   "execution_count": 7,
   "metadata": {},
   "outputs": [
    {
     "name": "stderr",
     "output_type": "stream",
     "text": [
      "/anaconda3/envs/luke3/lib/python3.6/site-packages/ipykernel_launcher.py:7: DeprecatedWarning: with_payload is deprecated as of 5.5.4. Use Client.message() instead.\n",
      "  import sys\n",
      "2019-07-10 16:54:51,188 - INFO - cortex_client.client/client: Status: 500, Message: {\"success\":false,\"error\":\"500 - \\\"<!DOCTYPE HTML PUBLIC \\\\\\\"-//W3C//DTD HTML 3.2 Final//EN\\\\\\\">\\\\n<title>500 Internal Server Error</title>\\\\n<h1>Internal Server Error</h1>\\\\n<p>The server encountered an internal error and was unable to complete your request. Either the server is overloaded or there is an error in the application.</p>\\\\n\\\"\"}\n"
     ]
    },
    {
     "ename": "HTTPError",
     "evalue": "500 Server Error: Internal Server Error for url: https://api.cortex.insights.ai/v3/actions/kaggle/ames-housing-predict-luke-test2/invoke",
     "output_type": "error",
     "traceback": [
      "\u001b[0;31m---------------------------------------------------------------------------\u001b[0m",
      "\u001b[0;31mHTTPError\u001b[0m                                 Traceback (most recent call last)",
      "\u001b[0;32m<timed exec>\u001b[0m in \u001b[0;36m<module>\u001b[0;34m()\u001b[0m\n",
      "\u001b[0;32m/anaconda3/envs/luke3/lib/python3.6/site-packages/cortex/action.py\u001b[0m in \u001b[0;36minvoke\u001b[0;34m(self, message, timeout)\u001b[0m\n\u001b[1;32m     40\u001b[0m         \"\"\"\n\u001b[1;32m     41\u001b[0m         \u001b[0maction_client\u001b[0m \u001b[0;34m=\u001b[0m \u001b[0mActionClient\u001b[0m\u001b[0;34m(\u001b[0m\u001b[0mself\u001b[0m\u001b[0;34m.\u001b[0m\u001b[0m_connector\u001b[0m\u001b[0;34m.\u001b[0m\u001b[0murl\u001b[0m\u001b[0;34m,\u001b[0m \u001b[0mself\u001b[0m\u001b[0;34m.\u001b[0m\u001b[0m_connector\u001b[0m\u001b[0;34m.\u001b[0m\u001b[0mversion\u001b[0m\u001b[0;34m,\u001b[0m \u001b[0mself\u001b[0m\u001b[0;34m.\u001b[0m\u001b[0m_connector\u001b[0m\u001b[0;34m.\u001b[0m\u001b[0mtoken\u001b[0m\u001b[0;34m)\u001b[0m\u001b[0;34m\u001b[0m\u001b[0;34m\u001b[0m\u001b[0m\n\u001b[0;32m---> 42\u001b[0;31m         \u001b[0;32mreturn\u001b[0m \u001b[0mMessage\u001b[0m\u001b[0;34m(\u001b[0m\u001b[0maction_client\u001b[0m\u001b[0;34m.\u001b[0m\u001b[0minvoke_action\u001b[0m\u001b[0;34m(\u001b[0m\u001b[0mself\u001b[0m\u001b[0;34m.\u001b[0m\u001b[0mname\u001b[0m\u001b[0;34m,\u001b[0m \u001b[0mmessage\u001b[0m\u001b[0;34m.\u001b[0m\u001b[0mto_params\u001b[0m\u001b[0;34m(\u001b[0m\u001b[0;34m)\u001b[0m\u001b[0;34m)\u001b[0m\u001b[0;34m)\u001b[0m\u001b[0;34m\u001b[0m\u001b[0;34m\u001b[0m\u001b[0m\n\u001b[0m\u001b[1;32m     43\u001b[0m \u001b[0;34m\u001b[0m\u001b[0m\n\u001b[1;32m     44\u001b[0m     \u001b[0;32mdef\u001b[0m \u001b[0mget_deployment_status\u001b[0m\u001b[0;34m(\u001b[0m\u001b[0mself\u001b[0m\u001b[0;34m)\u001b[0m\u001b[0;34m:\u001b[0m\u001b[0;34m\u001b[0m\u001b[0;34m\u001b[0m\u001b[0m\n",
      "\u001b[0;32m/anaconda3/envs/luke3/lib/python3.6/site-packages/cortex_client/actionclient.py\u001b[0m in \u001b[0;36minvoke_action\u001b[0;34m(self, action_name, params)\u001b[0m\n\u001b[1;32m    102\u001b[0m         \"\"\"\n\u001b[1;32m    103\u001b[0m         \u001b[0muri\u001b[0m \u001b[0;34m=\u001b[0m \u001b[0mself\u001b[0m\u001b[0;34m.\u001b[0m\u001b[0mURIs\u001b[0m\u001b[0;34m[\u001b[0m\u001b[0;34m'invoke'\u001b[0m\u001b[0;34m]\u001b[0m\u001b[0;34m.\u001b[0m\u001b[0mformat\u001b[0m\u001b[0;34m(\u001b[0m\u001b[0maction_name\u001b[0m\u001b[0;34m=\u001b[0m\u001b[0maction_name\u001b[0m\u001b[0;34m)\u001b[0m\u001b[0;34m\u001b[0m\u001b[0;34m\u001b[0m\u001b[0m\n\u001b[0;32m--> 104\u001b[0;31m         \u001b[0;32mreturn\u001b[0m \u001b[0mself\u001b[0m\u001b[0;34m.\u001b[0m\u001b[0m_post_json\u001b[0m\u001b[0;34m(\u001b[0m\u001b[0muri\u001b[0m\u001b[0;34m,\u001b[0m \u001b[0mparams\u001b[0m\u001b[0;34m)\u001b[0m\u001b[0;34m\u001b[0m\u001b[0;34m\u001b[0m\u001b[0m\n\u001b[0m\u001b[1;32m    105\u001b[0m \u001b[0;34m\u001b[0m\u001b[0m\n\u001b[1;32m    106\u001b[0m     \u001b[0;32mdef\u001b[0m \u001b[0mget_logs\u001b[0m\u001b[0;34m(\u001b[0m\u001b[0mself\u001b[0m\u001b[0;34m,\u001b[0m \u001b[0maction_name\u001b[0m\u001b[0;34m)\u001b[0m \u001b[0;34m->\u001b[0m \u001b[0mDict\u001b[0m\u001b[0;34m[\u001b[0m\u001b[0mstr\u001b[0m\u001b[0;34m,\u001b[0m \u001b[0mobject\u001b[0m\u001b[0;34m]\u001b[0m\u001b[0;34m:\u001b[0m\u001b[0;34m\u001b[0m\u001b[0;34m\u001b[0m\u001b[0m\n",
      "\u001b[0;32m/anaconda3/envs/luke3/lib/python3.6/site-packages/cortex_client/client.py\u001b[0m in \u001b[0;36m_post_json\u001b[0;34m(self, uri, obj)\u001b[0m\n\u001b[1;32m     46\u001b[0m         \u001b[0;32mif\u001b[0m \u001b[0mr\u001b[0m\u001b[0;34m.\u001b[0m\u001b[0mstatus_code\u001b[0m \u001b[0;32mnot\u001b[0m \u001b[0;32min\u001b[0m \u001b[0;34m[\u001b[0m\u001b[0mrequests\u001b[0m\u001b[0;34m.\u001b[0m\u001b[0mcodes\u001b[0m\u001b[0;34m.\u001b[0m\u001b[0mok\u001b[0m\u001b[0;34m,\u001b[0m \u001b[0mrequests\u001b[0m\u001b[0;34m.\u001b[0m\u001b[0mcodes\u001b[0m\u001b[0;34m.\u001b[0m\u001b[0mcreated\u001b[0m\u001b[0;34m]\u001b[0m\u001b[0;34m:\u001b[0m\u001b[0;34m\u001b[0m\u001b[0;34m\u001b[0m\u001b[0m\n\u001b[1;32m     47\u001b[0m             \u001b[0mlog\u001b[0m\u001b[0;34m.\u001b[0m\u001b[0minfo\u001b[0m\u001b[0;34m(\u001b[0m\u001b[0;34m\"Status: {}, Message: {}\"\u001b[0m\u001b[0;34m.\u001b[0m\u001b[0mformat\u001b[0m\u001b[0;34m(\u001b[0m\u001b[0mr\u001b[0m\u001b[0;34m.\u001b[0m\u001b[0mstatus_code\u001b[0m\u001b[0;34m,\u001b[0m \u001b[0mr\u001b[0m\u001b[0;34m.\u001b[0m\u001b[0mtext\u001b[0m\u001b[0;34m)\u001b[0m\u001b[0;34m)\u001b[0m\u001b[0;34m\u001b[0m\u001b[0;34m\u001b[0m\u001b[0m\n\u001b[0;32m---> 48\u001b[0;31m         \u001b[0mr\u001b[0m\u001b[0;34m.\u001b[0m\u001b[0mraise_for_status\u001b[0m\u001b[0;34m(\u001b[0m\u001b[0;34m)\u001b[0m\u001b[0;34m\u001b[0m\u001b[0;34m\u001b[0m\u001b[0m\n\u001b[0m\u001b[1;32m     49\u001b[0m         \u001b[0;32mreturn\u001b[0m \u001b[0mr\u001b[0m\u001b[0;34m.\u001b[0m\u001b[0mjson\u001b[0m\u001b[0;34m(\u001b[0m\u001b[0;34m)\u001b[0m\u001b[0;34m\u001b[0m\u001b[0;34m\u001b[0m\u001b[0m\n\u001b[1;32m     50\u001b[0m \u001b[0;34m\u001b[0m\u001b[0m\n",
      "\u001b[0;32m/anaconda3/envs/luke3/lib/python3.6/site-packages/requests/models.py\u001b[0m in \u001b[0;36mraise_for_status\u001b[0;34m(self)\u001b[0m\n\u001b[1;32m    938\u001b[0m \u001b[0;34m\u001b[0m\u001b[0m\n\u001b[1;32m    939\u001b[0m         \u001b[0;32mif\u001b[0m \u001b[0mhttp_error_msg\u001b[0m\u001b[0;34m:\u001b[0m\u001b[0;34m\u001b[0m\u001b[0;34m\u001b[0m\u001b[0m\n\u001b[0;32m--> 940\u001b[0;31m             \u001b[0;32mraise\u001b[0m \u001b[0mHTTPError\u001b[0m\u001b[0;34m(\u001b[0m\u001b[0mhttp_error_msg\u001b[0m\u001b[0;34m,\u001b[0m \u001b[0mresponse\u001b[0m\u001b[0;34m=\u001b[0m\u001b[0mself\u001b[0m\u001b[0;34m)\u001b[0m\u001b[0;34m\u001b[0m\u001b[0;34m\u001b[0m\u001b[0m\n\u001b[0m\u001b[1;32m    941\u001b[0m \u001b[0;34m\u001b[0m\u001b[0m\n\u001b[1;32m    942\u001b[0m     \u001b[0;32mdef\u001b[0m \u001b[0mclose\u001b[0m\u001b[0;34m(\u001b[0m\u001b[0mself\u001b[0m\u001b[0;34m)\u001b[0m\u001b[0;34m:\u001b[0m\u001b[0;34m\u001b[0m\u001b[0;34m\u001b[0m\u001b[0m\n",
      "\u001b[0;31mHTTPError\u001b[0m: 500 Server Error: Internal Server Error for url: https://api.cortex.insights.ai/v3/actions/kaggle/ames-housing-predict-luke-test2/invoke"
     ]
    }
   ],
   "source": [
    "%%time\n",
    "\n",
    "params = {\n",
    "    \"columns\": ['MSSubClass', 'MSZoning', 'LotFrontage', 'LotArea', 'Street', 'Alley', 'LotShape', 'LandContour', 'Utilities', 'LotConfig', 'LandSlope', 'Neighborhood', 'Condition1', 'Condition2', 'BldgType', 'HouseStyle', 'OverallQual', 'OverallCond', 'YearBuilt', 'YearRemodAdd', 'RoofStyle', 'RoofMatl', 'Exterior1st', 'Exterior2nd', 'MasVnrType', 'MasVnrArea', 'ExterQual', 'ExterCond', 'Foundation', 'BsmtQual', 'BsmtCond', 'BsmtExposure', 'BsmtFinType1', 'BsmtFinSF1', 'BsmtFinType2', 'BsmtFinSF2', 'BsmtUnfSF', 'TotalBsmtSF', 'Heating', 'HeatingQC', 'CentralAir', 'Electrical', '1stFlrSF', '2ndFlrSF', 'LowQualFinSF', 'GrLivArea', 'BsmtFullBath', 'BsmtHalfBath', 'FullBath', 'HalfBath', 'BedroomAbvGr', 'KitchenAbvGr', 'KitchenQual', 'TotRmsAbvGrd', 'Functional', 'Fireplaces', 'FireplaceQu', 'GarageType', 'GarageYrBlt', 'GarageFinish', 'GarageCars', 'GarageArea', 'GarageQual', 'GarageCond', 'PavedDrive', 'WoodDeckSF', 'OpenPorchSF', 'EnclosedPorch', '3SsnPorch', 'ScreenPorch', 'PoolArea', 'PoolQC', 'Fence', 'MiscFeature', 'MiscVal', 'MoSold', 'YrSold', 'SaleType', 'SaleCondition'],\n",
    "    \"values\": [[20,\"RH\",80.0,11622,\"Pave\",None,\"Reg\",\"Lvl\",\"AllPub\",\"Inside\",\"Gtl\",\"NAmes\",\"Feedr\",\"Norm\",\"1Fam\",\"1Story\",5,6,1961,1961,\"Gable\",\"CompShg\",\"VinylSd\",\"VinylSd\",\"None\",0.0,\"TA\",\"TA\",\"CBlock\",\"TA\",\"TA\",\"No\",\"Rec\",468.0,\"LwQ\",144.0,270.0,882.0,\"GasA\",\"TA\",\"Y\",\"SBrkr\",896,0,0,896,0.0,0.0,1,0,2,1,\"TA\",5,\"Typ\",0,None,\"Attchd\",1961.0,\"Unf\",1.0,730.0,\"TA\",\"TA\",\"Y\",140,0,0,0,120,0,None,\"MnPrv\",None,0,6,2010,\"WD\",\"Normal\"]]\n",
    "}\n",
    "\n",
    "result = action.invoke(message=Message.with_payload(params))\n",
    "print(result.payload)\n",
    "print()"
   ]
  },
  {
   "cell_type": "markdown",
   "metadata": {},
   "source": [
    "## Building a Cortex Skill\n",
    "Now that our Action is ready and tested, we can move on to building a Cortex Skill.  We start by creating a Schema that defines our input for Ames Housing price prediction.  The schema will be built automatically using the parameters we already defined in our training dataset."
   ]
  },
  {
   "cell_type": "code",
   "execution_count": null,
   "metadata": {},
   "outputs": [],
   "source": [
    "x_schema = builder.schema('kaggle/ames-housing-instance').title('Ames Housing Test Instance').from_parameters(train_ds.parameters[1:][:-1]).build()"
   ]
  },
  {
   "cell_type": "markdown",
   "metadata": {},
   "source": [
    "The _builder_ has multiple entry points, we use the _skill_ method here to declare a new \"Ames Housing Price Prediction\" Skill.  Each _builder_ method returns an instance of the builder so we can chain calls together."
   ]
  },
  {
   "cell_type": "code",
   "execution_count": null,
   "metadata": {},
   "outputs": [],
   "source": [
    "b = builder.skill('kaggle/ames-housing-price-predict-YOUR_INITIALS').title('Ames Housing Price Prediction-YOUR_INITIALS').description('Predicts the price of a houses in Ames, Iowa.')"
   ]
  },
  {
   "cell_type": "markdown",
   "metadata": {},
   "source": [
    "Next, we use the Input sub-builder to construct our Skill Input.  This is where we declare how our Input will route messages.  In this simple case, we use the _all_ routing which routes all input messages to same Action for processing and declares wich Output to route Action outputs to.  We pass in our Action that we built previously to wire the Skill to the Action (we could have also passed in the Action name here).  Calling _build_ on the Input will create the input object, add it to the Skill builder, and return the Skill builder."
   ]
  },
  {
   "cell_type": "code",
   "execution_count": null,
   "metadata": {},
   "outputs": [],
   "source": [
    "b = b.input('ames-house').title('Ames House').use_schema(x_schema.name).all_routing(action, 'price-prediction').build()"
   ]
  },
  {
   "cell_type": "markdown",
   "metadata": {},
   "source": [
    "In the previous step, we referenced an Output called **price-prediction**.  We can create that Output here using the Output sub-builder."
   ]
  },
  {
   "cell_type": "code",
   "execution_count": null,
   "metadata": {},
   "outputs": [],
   "source": [
    "b = b.output('price-prediction').title('Price Prediction').parameter(name='SalePrice', type='number', format='double').build()"
   ]
  },
  {
   "cell_type": "markdown",
   "metadata": {},
   "source": [
    "We can preview the CAMEL document our builder will create to make sure everything looks correct."
   ]
  },
  {
   "cell_type": "code",
   "execution_count": null,
   "metadata": {},
   "outputs": [],
   "source": [
    "b.to_camel()"
   ]
  },
  {
   "cell_type": "markdown",
   "metadata": {},
   "source": [
    "---\n",
    "### Build and Publish the Skill to your Catalog\n",
    "This will build the Skill and publish it to your catalog.  It will then be available for use in the Agent Builder."
   ]
  },
  {
   "cell_type": "code",
   "execution_count": null,
   "metadata": {},
   "outputs": [],
   "source": [
    "skill = b.build()\n",
    "print('%s (%s) v%d' % (skill.title, skill.name, skill.version))"
   ]
  },
  {
   "cell_type": "code",
   "execution_count": null,
   "metadata": {},
   "outputs": [],
   "source": [
    "params = {\n",
    "    \"columns\": ['MSSubClass', 'MSZoning', 'LotFrontage', 'LotArea', 'Street', 'Alley', 'LotShape', 'LandContour', 'Utilities', 'LotConfig', 'LandSlope', 'Neighborhood', 'Condition1', 'Condition2', 'BldgType', 'HouseStyle', 'OverallQual', 'OverallCond', 'YearBuilt', 'YearRemodAdd', 'RoofStyle', 'RoofMatl', 'Exterior1st', 'Exterior2nd', 'MasVnrType', 'MasVnrArea', 'ExterQual', 'ExterCond', 'Foundation', 'BsmtQual', 'BsmtCond', 'BsmtExposure', 'BsmtFinType1', 'BsmtFinSF1', 'BsmtFinType2', 'BsmtFinSF2', 'BsmtUnfSF', 'TotalBsmtSF', 'Heating', 'HeatingQC', 'CentralAir', 'Electrical', '1stFlrSF', '2ndFlrSF', 'LowQualFinSF', 'GrLivArea', 'BsmtFullBath', 'BsmtHalfBath', 'FullBath', 'HalfBath', 'BedroomAbvGr', 'KitchenAbvGr', 'KitchenQual', 'TotRmsAbvGrd', 'Functional', 'Fireplaces', 'FireplaceQu', 'GarageType', 'GarageYrBlt', 'GarageFinish', 'GarageCars', 'GarageArea', 'GarageQual', 'GarageCond', 'PavedDrive', 'WoodDeckSF', 'OpenPorchSF', 'EnclosedPorch', '3SsnPorch', 'ScreenPorch', 'PoolArea', 'PoolQC', 'Fence', 'MiscFeature', 'MiscVal', 'MoSold', 'YrSold', 'SaleType', 'SaleCondition'],\n",
    "    \"values\": [[20,\"RH\",80.0,11622,\"Pave\",None,\"Reg\",\"Lvl\",\"AllPub\",\"Inside\",\"Gtl\",\"NAmes\",\"Feedr\",\"Norm\",\"1Fam\",\"1Story\",5,6,1961,1961,\"Gable\",\"CompShg\",\"VinylSd\",\"VinylSd\",\"None\",0.0,\"TA\",\"TA\",\"CBlock\",\"TA\",\"TA\",\"No\",\"Rec\",468.0,\"LwQ\",144.0,270.0,882.0,\"GasA\",\"TA\",\"Y\",\"SBrkr\",896,0,0,896,0.0,0.0,1,0,2,1,\"TA\",5,\"Typ\",0,None,\"Attchd\",1961.0,\"Unf\",1.0,730.0,\"TA\",\"TA\",\"Y\",140,0,0,0,120,0,None,\"MnPrv\",None,0,6,2010,\"WD\",\"Normal\"]]\n",
    "}\n",
    "\n",
    "rs = skill.invoke(input_name='ames-house', message=Message.with_payload(params))\n",
    "rs.payload\n"
   ]
  }
 ],
 "metadata": {
  "kernelspec": {
   "display_name": "Python 3",
   "language": "python",
   "name": "python3"
  },
  "language_info": {
   "codemirror_mode": {
    "name": "ipython",
    "version": 3
   },
   "file_extension": ".py",
   "mimetype": "text/x-python",
   "name": "python",
   "nbconvert_exporter": "python",
   "pygments_lexer": "ipython3",
   "version": "3.6.8"
  }
 },
 "nbformat": 4,
 "nbformat_minor": 4
}
